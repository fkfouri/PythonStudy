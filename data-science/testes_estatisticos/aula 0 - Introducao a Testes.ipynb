{
 "cells": [
  {
   "cell_type": "markdown",
   "metadata": {},
   "source": [
    "# Testes Estatísticos\n",
    "\n",
    "- Utilização de Dataset do MovieLens com 100 mil avaliações https://grouplens.org/datasets/movielens/\n",
    "- Utilização do Dataset do Kaggle TMDB 500 https://www.kaggle.com/tmdb/tmdb-movie-metadata\n",
    "- Baseado no treinamento Alura: https://cursos.alura.com.br/course/data-science-introducao-a-testes-estatisticos-com-python\n"
   ]
  },
  {
   "cell_type": "markdown",
   "metadata": {},
   "source": [
    "<hr>"
   ]
  },
  {
   "cell_type": "markdown",
   "metadata": {},
   "source": [
    "## Leitura arquivo TMDB"
   ]
  },
  {
   "cell_type": "code",
   "execution_count": 1,
   "metadata": {},
   "outputs": [
    {
     "data": {
      "text/html": [
       "<div>\n",
       "<style scoped>\n",
       "    .dataframe tbody tr th:only-of-type {\n",
       "        vertical-align: middle;\n",
       "    }\n",
       "\n",
       "    .dataframe tbody tr th {\n",
       "        vertical-align: top;\n",
       "    }\n",
       "\n",
       "    .dataframe thead th {\n",
       "        text-align: right;\n",
       "    }\n",
       "</style>\n",
       "<table border=\"1\" class=\"dataframe\">\n",
       "  <thead>\n",
       "    <tr style=\"text-align: right;\">\n",
       "      <th></th>\n",
       "      <th>budget</th>\n",
       "      <th>genres</th>\n",
       "      <th>homepage</th>\n",
       "      <th>id</th>\n",
       "      <th>keywords</th>\n",
       "      <th>original_language</th>\n",
       "      <th>original_title</th>\n",
       "      <th>overview</th>\n",
       "      <th>popularity</th>\n",
       "      <th>production_companies</th>\n",
       "      <th>production_countries</th>\n",
       "      <th>release_date</th>\n",
       "      <th>revenue</th>\n",
       "      <th>runtime</th>\n",
       "      <th>spoken_languages</th>\n",
       "      <th>status</th>\n",
       "      <th>tagline</th>\n",
       "      <th>title</th>\n",
       "      <th>vote_average</th>\n",
       "      <th>vote_count</th>\n",
       "    </tr>\n",
       "  </thead>\n",
       "  <tbody>\n",
       "    <tr>\n",
       "      <th>0</th>\n",
       "      <td>237000000</td>\n",
       "      <td>[{\"id\": 28, \"name\": \"Action\"}, {\"id\": 12, \"nam...</td>\n",
       "      <td>http://www.avatarmovie.com/</td>\n",
       "      <td>19995</td>\n",
       "      <td>[{\"id\": 1463, \"name\": \"culture clash\"}, {\"id\":...</td>\n",
       "      <td>en</td>\n",
       "      <td>Avatar</td>\n",
       "      <td>In the 22nd century, a paraplegic Marine is di...</td>\n",
       "      <td>150.437577</td>\n",
       "      <td>[{\"name\": \"Ingenious Film Partners\", \"id\": 289...</td>\n",
       "      <td>[{\"iso_3166_1\": \"US\", \"name\": \"United States o...</td>\n",
       "      <td>2009-12-10</td>\n",
       "      <td>2787965087</td>\n",
       "      <td>162.0</td>\n",
       "      <td>[{\"iso_639_1\": \"en\", \"name\": \"English\"}, {\"iso...</td>\n",
       "      <td>Released</td>\n",
       "      <td>Enter the World of Pandora.</td>\n",
       "      <td>Avatar</td>\n",
       "      <td>7.2</td>\n",
       "      <td>11800</td>\n",
       "    </tr>\n",
       "    <tr>\n",
       "      <th>1</th>\n",
       "      <td>300000000</td>\n",
       "      <td>[{\"id\": 12, \"name\": \"Adventure\"}, {\"id\": 14, \"...</td>\n",
       "      <td>http://disney.go.com/disneypictures/pirates/</td>\n",
       "      <td>285</td>\n",
       "      <td>[{\"id\": 270, \"name\": \"ocean\"}, {\"id\": 726, \"na...</td>\n",
       "      <td>en</td>\n",
       "      <td>Pirates of the Caribbean: At World's End</td>\n",
       "      <td>Captain Barbossa, long believed to be dead, ha...</td>\n",
       "      <td>139.082615</td>\n",
       "      <td>[{\"name\": \"Walt Disney Pictures\", \"id\": 2}, {\"...</td>\n",
       "      <td>[{\"iso_3166_1\": \"US\", \"name\": \"United States o...</td>\n",
       "      <td>2007-05-19</td>\n",
       "      <td>961000000</td>\n",
       "      <td>169.0</td>\n",
       "      <td>[{\"iso_639_1\": \"en\", \"name\": \"English\"}]</td>\n",
       "      <td>Released</td>\n",
       "      <td>At the end of the world, the adventure begins.</td>\n",
       "      <td>Pirates of the Caribbean: At World's End</td>\n",
       "      <td>6.9</td>\n",
       "      <td>4500</td>\n",
       "    </tr>\n",
       "    <tr>\n",
       "      <th>2</th>\n",
       "      <td>245000000</td>\n",
       "      <td>[{\"id\": 28, \"name\": \"Action\"}, {\"id\": 12, \"nam...</td>\n",
       "      <td>http://www.sonypictures.com/movies/spectre/</td>\n",
       "      <td>206647</td>\n",
       "      <td>[{\"id\": 470, \"name\": \"spy\"}, {\"id\": 818, \"name...</td>\n",
       "      <td>en</td>\n",
       "      <td>Spectre</td>\n",
       "      <td>A cryptic message from Bond’s past sends him o...</td>\n",
       "      <td>107.376788</td>\n",
       "      <td>[{\"name\": \"Columbia Pictures\", \"id\": 5}, {\"nam...</td>\n",
       "      <td>[{\"iso_3166_1\": \"GB\", \"name\": \"United Kingdom\"...</td>\n",
       "      <td>2015-10-26</td>\n",
       "      <td>880674609</td>\n",
       "      <td>148.0</td>\n",
       "      <td>[{\"iso_639_1\": \"fr\", \"name\": \"Fran\\u00e7ais\"},...</td>\n",
       "      <td>Released</td>\n",
       "      <td>A Plan No One Escapes</td>\n",
       "      <td>Spectre</td>\n",
       "      <td>6.3</td>\n",
       "      <td>4466</td>\n",
       "    </tr>\n",
       "    <tr>\n",
       "      <th>3</th>\n",
       "      <td>250000000</td>\n",
       "      <td>[{\"id\": 28, \"name\": \"Action\"}, {\"id\": 80, \"nam...</td>\n",
       "      <td>http://www.thedarkknightrises.com/</td>\n",
       "      <td>49026</td>\n",
       "      <td>[{\"id\": 849, \"name\": \"dc comics\"}, {\"id\": 853,...</td>\n",
       "      <td>en</td>\n",
       "      <td>The Dark Knight Rises</td>\n",
       "      <td>Following the death of District Attorney Harve...</td>\n",
       "      <td>112.312950</td>\n",
       "      <td>[{\"name\": \"Legendary Pictures\", \"id\": 923}, {\"...</td>\n",
       "      <td>[{\"iso_3166_1\": \"US\", \"name\": \"United States o...</td>\n",
       "      <td>2012-07-16</td>\n",
       "      <td>1084939099</td>\n",
       "      <td>165.0</td>\n",
       "      <td>[{\"iso_639_1\": \"en\", \"name\": \"English\"}]</td>\n",
       "      <td>Released</td>\n",
       "      <td>The Legend Ends</td>\n",
       "      <td>The Dark Knight Rises</td>\n",
       "      <td>7.6</td>\n",
       "      <td>9106</td>\n",
       "    </tr>\n",
       "    <tr>\n",
       "      <th>4</th>\n",
       "      <td>260000000</td>\n",
       "      <td>[{\"id\": 28, \"name\": \"Action\"}, {\"id\": 12, \"nam...</td>\n",
       "      <td>http://movies.disney.com/john-carter</td>\n",
       "      <td>49529</td>\n",
       "      <td>[{\"id\": 818, \"name\": \"based on novel\"}, {\"id\":...</td>\n",
       "      <td>en</td>\n",
       "      <td>John Carter</td>\n",
       "      <td>John Carter is a war-weary, former military ca...</td>\n",
       "      <td>43.926995</td>\n",
       "      <td>[{\"name\": \"Walt Disney Pictures\", \"id\": 2}]</td>\n",
       "      <td>[{\"iso_3166_1\": \"US\", \"name\": \"United States o...</td>\n",
       "      <td>2012-03-07</td>\n",
       "      <td>284139100</td>\n",
       "      <td>132.0</td>\n",
       "      <td>[{\"iso_639_1\": \"en\", \"name\": \"English\"}]</td>\n",
       "      <td>Released</td>\n",
       "      <td>Lost in our world, found in another.</td>\n",
       "      <td>John Carter</td>\n",
       "      <td>6.1</td>\n",
       "      <td>2124</td>\n",
       "    </tr>\n",
       "  </tbody>\n",
       "</table>\n",
       "</div>"
      ],
      "text/plain": [
       "      budget                                             genres  \\\n",
       "0  237000000  [{\"id\": 28, \"name\": \"Action\"}, {\"id\": 12, \"nam...   \n",
       "1  300000000  [{\"id\": 12, \"name\": \"Adventure\"}, {\"id\": 14, \"...   \n",
       "2  245000000  [{\"id\": 28, \"name\": \"Action\"}, {\"id\": 12, \"nam...   \n",
       "3  250000000  [{\"id\": 28, \"name\": \"Action\"}, {\"id\": 80, \"nam...   \n",
       "4  260000000  [{\"id\": 28, \"name\": \"Action\"}, {\"id\": 12, \"nam...   \n",
       "\n",
       "                                       homepage      id  \\\n",
       "0                   http://www.avatarmovie.com/   19995   \n",
       "1  http://disney.go.com/disneypictures/pirates/     285   \n",
       "2   http://www.sonypictures.com/movies/spectre/  206647   \n",
       "3            http://www.thedarkknightrises.com/   49026   \n",
       "4          http://movies.disney.com/john-carter   49529   \n",
       "\n",
       "                                            keywords original_language  \\\n",
       "0  [{\"id\": 1463, \"name\": \"culture clash\"}, {\"id\":...                en   \n",
       "1  [{\"id\": 270, \"name\": \"ocean\"}, {\"id\": 726, \"na...                en   \n",
       "2  [{\"id\": 470, \"name\": \"spy\"}, {\"id\": 818, \"name...                en   \n",
       "3  [{\"id\": 849, \"name\": \"dc comics\"}, {\"id\": 853,...                en   \n",
       "4  [{\"id\": 818, \"name\": \"based on novel\"}, {\"id\":...                en   \n",
       "\n",
       "                             original_title  \\\n",
       "0                                    Avatar   \n",
       "1  Pirates of the Caribbean: At World's End   \n",
       "2                                   Spectre   \n",
       "3                     The Dark Knight Rises   \n",
       "4                               John Carter   \n",
       "\n",
       "                                            overview  popularity  \\\n",
       "0  In the 22nd century, a paraplegic Marine is di...  150.437577   \n",
       "1  Captain Barbossa, long believed to be dead, ha...  139.082615   \n",
       "2  A cryptic message from Bond’s past sends him o...  107.376788   \n",
       "3  Following the death of District Attorney Harve...  112.312950   \n",
       "4  John Carter is a war-weary, former military ca...   43.926995   \n",
       "\n",
       "                                production_companies  \\\n",
       "0  [{\"name\": \"Ingenious Film Partners\", \"id\": 289...   \n",
       "1  [{\"name\": \"Walt Disney Pictures\", \"id\": 2}, {\"...   \n",
       "2  [{\"name\": \"Columbia Pictures\", \"id\": 5}, {\"nam...   \n",
       "3  [{\"name\": \"Legendary Pictures\", \"id\": 923}, {\"...   \n",
       "4        [{\"name\": \"Walt Disney Pictures\", \"id\": 2}]   \n",
       "\n",
       "                                production_countries release_date     revenue  \\\n",
       "0  [{\"iso_3166_1\": \"US\", \"name\": \"United States o...   2009-12-10  2787965087   \n",
       "1  [{\"iso_3166_1\": \"US\", \"name\": \"United States o...   2007-05-19   961000000   \n",
       "2  [{\"iso_3166_1\": \"GB\", \"name\": \"United Kingdom\"...   2015-10-26   880674609   \n",
       "3  [{\"iso_3166_1\": \"US\", \"name\": \"United States o...   2012-07-16  1084939099   \n",
       "4  [{\"iso_3166_1\": \"US\", \"name\": \"United States o...   2012-03-07   284139100   \n",
       "\n",
       "   runtime                                   spoken_languages    status  \\\n",
       "0    162.0  [{\"iso_639_1\": \"en\", \"name\": \"English\"}, {\"iso...  Released   \n",
       "1    169.0           [{\"iso_639_1\": \"en\", \"name\": \"English\"}]  Released   \n",
       "2    148.0  [{\"iso_639_1\": \"fr\", \"name\": \"Fran\\u00e7ais\"},...  Released   \n",
       "3    165.0           [{\"iso_639_1\": \"en\", \"name\": \"English\"}]  Released   \n",
       "4    132.0           [{\"iso_639_1\": \"en\", \"name\": \"English\"}]  Released   \n",
       "\n",
       "                                          tagline  \\\n",
       "0                     Enter the World of Pandora.   \n",
       "1  At the end of the world, the adventure begins.   \n",
       "2                           A Plan No One Escapes   \n",
       "3                                 The Legend Ends   \n",
       "4            Lost in our world, found in another.   \n",
       "\n",
       "                                      title  vote_average  vote_count  \n",
       "0                                    Avatar           7.2       11800  \n",
       "1  Pirates of the Caribbean: At World's End           6.9        4500  \n",
       "2                                   Spectre           6.3        4466  \n",
       "3                     The Dark Knight Rises           7.6        9106  \n",
       "4                               John Carter           6.1        2124  "
      ]
     },
     "execution_count": 1,
     "metadata": {},
     "output_type": "execute_result"
    }
   ],
   "source": [
    "import pandas as pd\n",
    "tmdb = pd.read_csv(\"aula0/tmdb_5000_movies.csv\")\n",
    "tmdb.head()"
   ]
  },
  {
   "cell_type": "markdown",
   "metadata": {},
   "source": [
    "Dados de describe"
   ]
  },
  {
   "cell_type": "code",
   "execution_count": 2,
   "metadata": {},
   "outputs": [
    {
     "data": {
      "text/html": [
       "<div>\n",
       "<style scoped>\n",
       "    .dataframe tbody tr th:only-of-type {\n",
       "        vertical-align: middle;\n",
       "    }\n",
       "\n",
       "    .dataframe tbody tr th {\n",
       "        vertical-align: top;\n",
       "    }\n",
       "\n",
       "    .dataframe thead th {\n",
       "        text-align: right;\n",
       "    }\n",
       "</style>\n",
       "<table border=\"1\" class=\"dataframe\">\n",
       "  <thead>\n",
       "    <tr style=\"text-align: right;\">\n",
       "      <th></th>\n",
       "      <th>budget</th>\n",
       "      <th>id</th>\n",
       "      <th>popularity</th>\n",
       "      <th>revenue</th>\n",
       "      <th>runtime</th>\n",
       "      <th>vote_average</th>\n",
       "      <th>vote_count</th>\n",
       "    </tr>\n",
       "  </thead>\n",
       "  <tbody>\n",
       "    <tr>\n",
       "      <th>count</th>\n",
       "      <td>4.803000e+03</td>\n",
       "      <td>4803.000000</td>\n",
       "      <td>4803.000000</td>\n",
       "      <td>4.803000e+03</td>\n",
       "      <td>4801.000000</td>\n",
       "      <td>4803.000000</td>\n",
       "      <td>4803.000000</td>\n",
       "    </tr>\n",
       "    <tr>\n",
       "      <th>mean</th>\n",
       "      <td>2.904504e+07</td>\n",
       "      <td>57165.484281</td>\n",
       "      <td>21.492301</td>\n",
       "      <td>8.226064e+07</td>\n",
       "      <td>106.875859</td>\n",
       "      <td>6.092172</td>\n",
       "      <td>690.217989</td>\n",
       "    </tr>\n",
       "    <tr>\n",
       "      <th>std</th>\n",
       "      <td>4.072239e+07</td>\n",
       "      <td>88694.614033</td>\n",
       "      <td>31.816650</td>\n",
       "      <td>1.628571e+08</td>\n",
       "      <td>22.611935</td>\n",
       "      <td>1.194612</td>\n",
       "      <td>1234.585891</td>\n",
       "    </tr>\n",
       "    <tr>\n",
       "      <th>min</th>\n",
       "      <td>0.000000e+00</td>\n",
       "      <td>5.000000</td>\n",
       "      <td>0.000000</td>\n",
       "      <td>0.000000e+00</td>\n",
       "      <td>0.000000</td>\n",
       "      <td>0.000000</td>\n",
       "      <td>0.000000</td>\n",
       "    </tr>\n",
       "    <tr>\n",
       "      <th>25%</th>\n",
       "      <td>7.900000e+05</td>\n",
       "      <td>9014.500000</td>\n",
       "      <td>4.668070</td>\n",
       "      <td>0.000000e+00</td>\n",
       "      <td>94.000000</td>\n",
       "      <td>5.600000</td>\n",
       "      <td>54.000000</td>\n",
       "    </tr>\n",
       "    <tr>\n",
       "      <th>50%</th>\n",
       "      <td>1.500000e+07</td>\n",
       "      <td>14629.000000</td>\n",
       "      <td>12.921594</td>\n",
       "      <td>1.917000e+07</td>\n",
       "      <td>103.000000</td>\n",
       "      <td>6.200000</td>\n",
       "      <td>235.000000</td>\n",
       "    </tr>\n",
       "    <tr>\n",
       "      <th>75%</th>\n",
       "      <td>4.000000e+07</td>\n",
       "      <td>58610.500000</td>\n",
       "      <td>28.313505</td>\n",
       "      <td>9.291719e+07</td>\n",
       "      <td>118.000000</td>\n",
       "      <td>6.800000</td>\n",
       "      <td>737.000000</td>\n",
       "    </tr>\n",
       "    <tr>\n",
       "      <th>max</th>\n",
       "      <td>3.800000e+08</td>\n",
       "      <td>459488.000000</td>\n",
       "      <td>875.581305</td>\n",
       "      <td>2.787965e+09</td>\n",
       "      <td>338.000000</td>\n",
       "      <td>10.000000</td>\n",
       "      <td>13752.000000</td>\n",
       "    </tr>\n",
       "  </tbody>\n",
       "</table>\n",
       "</div>"
      ],
      "text/plain": [
       "             budget             id   popularity       revenue      runtime  \\\n",
       "count  4.803000e+03    4803.000000  4803.000000  4.803000e+03  4801.000000   \n",
       "mean   2.904504e+07   57165.484281    21.492301  8.226064e+07   106.875859   \n",
       "std    4.072239e+07   88694.614033    31.816650  1.628571e+08    22.611935   \n",
       "min    0.000000e+00       5.000000     0.000000  0.000000e+00     0.000000   \n",
       "25%    7.900000e+05    9014.500000     4.668070  0.000000e+00    94.000000   \n",
       "50%    1.500000e+07   14629.000000    12.921594  1.917000e+07   103.000000   \n",
       "75%    4.000000e+07   58610.500000    28.313505  9.291719e+07   118.000000   \n",
       "max    3.800000e+08  459488.000000   875.581305  2.787965e+09   338.000000   \n",
       "\n",
       "       vote_average    vote_count  \n",
       "count   4803.000000   4803.000000  \n",
       "mean       6.092172    690.217989  \n",
       "std        1.194612   1234.585891  \n",
       "min        0.000000      0.000000  \n",
       "25%        5.600000     54.000000  \n",
       "50%        6.200000    235.000000  \n",
       "75%        6.800000    737.000000  \n",
       "max       10.000000  13752.000000  "
      ]
     },
     "execution_count": 2,
     "metadata": {},
     "output_type": "execute_result"
    }
   ],
   "source": [
    "tmdb.describe()"
   ]
  },
  {
   "cell_type": "markdown",
   "metadata": {},
   "source": [
    "## Montando grafico de distribuição\n",
    "### Grafico normalizado"
   ]
  },
  {
   "cell_type": "code",
   "execution_count": 3,
   "metadata": {},
   "outputs": [
    {
     "data": {
      "text/plain": [
       "<matplotlib.axes._subplots.AxesSubplot at 0x1fdf9378088>"
      ]
     },
     "execution_count": 3,
     "metadata": {},
     "output_type": "execute_result"
    }
   ],
   "source": [
    "import seaborn as sns\n",
    "#axis\n",
    "ax = sns.distplot(tmdb.vote_average)\n",
    "ax.figure.set_size_inches(20, 6)\n",
    "#ax.set(xlabel = 'Nota Media', ylabel='Densidade')\n",
    "ax.set_xlabel('Nota Media', fontsize=16)\n",
    "ax.set_ylabel('Densidade', fontsize=16)\n",
    "ax.set_title(\"Media de votos em filmes no TMDB 5000\", fontsize=20)\n",
    "ax"
   ]
  },
  {
   "cell_type": "markdown",
   "metadata": {},
   "source": [
    "### Grafico de distribuição mostrando a frequencia (quantas vezes apareceu a nota)"
   ]
  },
  {
   "cell_type": "code",
   "execution_count": 4,
   "metadata": {},
   "outputs": [
    {
     "data": {
      "text/plain": [
       "Text(0.5, 1.0, 'Media de votos em filmes no TMDB 5000')"
      ]
     },
     "execution_count": 4,
     "metadata": {},
     "output_type": "execute_result"
    },
    {
     "data": {
      "image/png": "[encoded data removed]",
      "text/plain": [
       "<Figure size 1440x432 with 1 Axes>"
      ]
     },
     "metadata": {
      "needs_background": "light"
     },
     "output_type": "display_data"
    }
   ],
   "source": [
    "ax = sns.distplot(tmdb.vote_average, norm_hist=False, kde=False)\n",
    "ax.figure.set_size_inches(20, 6)\n",
    "#ax.set(xlabel = 'Nota Media', ylabel='Densidade')\n",
    "ax.set_xlabel('Nota Media', fontsize=16)\n",
    "ax.set_ylabel('Frequencia', fontsize=16)\n",
    "ax.set_title(\"Media de votos em filmes no TMDB 5000\", fontsize=20)"
   ]
  },
  {
   "cell_type": "markdown",
   "metadata": {},
   "source": [
    "### Outra maneira de olhar a distribuição é usando o boxplot"
   ]
  },
  {
   "cell_type": "code",
   "execution_count": 5,
   "metadata": {},
   "outputs": [
    {
     "data": {
      "text/plain": [
       "Text(0.5, 0, 'Nota Media do filme')"
      ]
     },
     "execution_count": 5,
     "metadata": {},
     "output_type": "execute_result"
    },
    {
     "data": {
      "image/png": "[encoded data removed]",
      "text/plain": [
       "<Figure size 1440x432 with 1 Axes>"
      ]
     },
     "metadata": {
      "needs_background": "light"
     },
     "output_type": "display_data"
    }
   ],
   "source": [
    "ax = sns.boxplot(x = tmdb.vote_average)\n",
    "ax.figure.set_size_inches(20, 6)\n",
    "ax.set_title(\"Media de votos em filmes no TMDB 5000\", fontsize=20)\n",
    "ax.set_xlabel('Nota Media do filme', fontsize=16)"
   ]
  },
  {
   "cell_type": "markdown",
   "metadata": {},
   "source": [
    "- Note que tem coisas que podem ser visualizadas no distplot que nao podem ser visualizadas no boxplot\n",
    "    - Quantidade de notas zero e quantidade de notas 1\n",
    "\n",
    "- Coisas que podem ser vista no boxplo que nao podem ser vistas no distplot\n",
    "    - Quartis, outliers\n",
    "    \n"
   ]
  },
  {
   "cell_type": "markdown",
   "metadata": {},
   "source": [
    "#### Note que uma Média zero e Média 10 não é muito razoavel. Será que ninguem de o universo de amostragem deu uma nota diferente? As notas das extremidades não parece ser uma nota honesta.\n",
    "\n",
    "- Observe que as notas com média zero o campo vote_count = 0, ou seja, ninguem votou no filme. Por isso deu média zero."
   ]
  },
  {
   "cell_type": "code",
   "execution_count": 6,
   "metadata": {},
   "outputs": [
    {
     "data": {
      "text/html": [
       "<div>\n",
       "<style scoped>\n",
       "    .dataframe tbody tr th:only-of-type {\n",
       "        vertical-align: middle;\n",
       "    }\n",
       "\n",
       "    .dataframe tbody tr th {\n",
       "        vertical-align: top;\n",
       "    }\n",
       "\n",
       "    .dataframe thead th {\n",
       "        text-align: right;\n",
       "    }\n",
       "</style>\n",
       "<table border=\"1\" class=\"dataframe\">\n",
       "  <thead>\n",
       "    <tr style=\"text-align: right;\">\n",
       "      <th></th>\n",
       "      <th>budget</th>\n",
       "      <th>genres</th>\n",
       "      <th>homepage</th>\n",
       "      <th>id</th>\n",
       "      <th>keywords</th>\n",
       "      <th>original_language</th>\n",
       "      <th>original_title</th>\n",
       "      <th>overview</th>\n",
       "      <th>popularity</th>\n",
       "      <th>production_companies</th>\n",
       "      <th>production_countries</th>\n",
       "      <th>release_date</th>\n",
       "      <th>revenue</th>\n",
       "      <th>runtime</th>\n",
       "      <th>spoken_languages</th>\n",
       "      <th>status</th>\n",
       "      <th>tagline</th>\n",
       "      <th>title</th>\n",
       "      <th>vote_average</th>\n",
       "      <th>vote_count</th>\n",
       "    </tr>\n",
       "  </thead>\n",
       "  <tbody>\n",
       "    <tr>\n",
       "      <th>1464</th>\n",
       "      <td>0</td>\n",
       "      <td>[{\"id\": 18, \"name\": \"Drama\"}, {\"id\": 80, \"name...</td>\n",
       "      <td>NaN</td>\n",
       "      <td>310706</td>\n",
       "      <td>[]</td>\n",
       "      <td>en</td>\n",
       "      <td>Black Water Transit</td>\n",
       "      <td>In this action thriller set in post-Katrina Ne...</td>\n",
       "      <td>0.126738</td>\n",
       "      <td>[{\"name\": \"Capitol Films\", \"id\": 826}]</td>\n",
       "      <td>[{\"iso_3166_1\": \"US\", \"name\": \"United States o...</td>\n",
       "      <td>2009-05-13</td>\n",
       "      <td>0</td>\n",
       "      <td>100.0</td>\n",
       "      <td>[{\"iso_639_1\": \"en\", \"name\": \"English\"}]</td>\n",
       "      <td>Released</td>\n",
       "      <td>NaN</td>\n",
       "      <td>Black Water Transit</td>\n",
       "      <td>0.0</td>\n",
       "      <td>0</td>\n",
       "    </tr>\n",
       "    <tr>\n",
       "      <th>3669</th>\n",
       "      <td>0</td>\n",
       "      <td>[{\"id\": 35, \"name\": \"Comedy\"}, {\"id\": 18, \"nam...</td>\n",
       "      <td>http://www.romeothemovie.com/</td>\n",
       "      <td>113406</td>\n",
       "      <td>[]</td>\n",
       "      <td>en</td>\n",
       "      <td>Should've Been Romeo</td>\n",
       "      <td>A self-centered, middle-aged pitchman for a po...</td>\n",
       "      <td>0.407030</td>\n",
       "      <td>[{\"name\": \"Phillybrook Films\", \"id\": 65147}]</td>\n",
       "      <td>[{\"iso_3166_1\": \"US\", \"name\": \"United States o...</td>\n",
       "      <td>2012-04-28</td>\n",
       "      <td>0</td>\n",
       "      <td>0.0</td>\n",
       "      <td>[{\"iso_639_1\": \"en\", \"name\": \"English\"}]</td>\n",
       "      <td>Released</td>\n",
       "      <td>Even Shakespeare didn't see this one coming.</td>\n",
       "      <td>Should've Been Romeo</td>\n",
       "      <td>0.0</td>\n",
       "      <td>0</td>\n",
       "    </tr>\n",
       "    <tr>\n",
       "      <th>3670</th>\n",
       "      <td>0</td>\n",
       "      <td>[{\"id\": 10751, \"name\": \"Family\"}]</td>\n",
       "      <td>NaN</td>\n",
       "      <td>447027</td>\n",
       "      <td>[]</td>\n",
       "      <td>en</td>\n",
       "      <td>Running Forever</td>\n",
       "      <td>After being estranged since her mother's death...</td>\n",
       "      <td>0.028756</td>\n",
       "      <td>[{\"name\": \"New Kingdom Pictures\", \"id\": 41671}]</td>\n",
       "      <td>[{\"iso_3166_1\": \"US\", \"name\": \"United States o...</td>\n",
       "      <td>2015-10-27</td>\n",
       "      <td>0</td>\n",
       "      <td>88.0</td>\n",
       "      <td>[]</td>\n",
       "      <td>Released</td>\n",
       "      <td>NaN</td>\n",
       "      <td>Running Forever</td>\n",
       "      <td>0.0</td>\n",
       "      <td>0</td>\n",
       "    </tr>\n",
       "    <tr>\n",
       "      <th>3852</th>\n",
       "      <td>0</td>\n",
       "      <td>[{\"id\": 18, \"name\": \"Drama\"}]</td>\n",
       "      <td>NaN</td>\n",
       "      <td>395766</td>\n",
       "      <td>[{\"id\": 11162, \"name\": \"miniseries\"}]</td>\n",
       "      <td>en</td>\n",
       "      <td>The Secret</td>\n",
       "      <td>The Secret is the story of a real-life double ...</td>\n",
       "      <td>0.042346</td>\n",
       "      <td>[]</td>\n",
       "      <td>[]</td>\n",
       "      <td>2016-04-29</td>\n",
       "      <td>0</td>\n",
       "      <td>200.0</td>\n",
       "      <td>[]</td>\n",
       "      <td>Released</td>\n",
       "      <td>NaN</td>\n",
       "      <td>The Secret</td>\n",
       "      <td>0.0</td>\n",
       "      <td>0</td>\n",
       "    </tr>\n",
       "    <tr>\n",
       "      <th>3855</th>\n",
       "      <td>3500000</td>\n",
       "      <td>[{\"id\": 99, \"name\": \"Documentary\"}]</td>\n",
       "      <td>http://www.timetochoose.com</td>\n",
       "      <td>370662</td>\n",
       "      <td>[{\"id\": 2210, \"name\": \"climate change\"}, {\"id\"...</td>\n",
       "      <td>en</td>\n",
       "      <td>Time to Choose</td>\n",
       "      <td>Academy Award® winning director Charles Fergus...</td>\n",
       "      <td>1.618138</td>\n",
       "      <td>[{\"name\": \"Representational Pictures\", \"id\": 8...</td>\n",
       "      <td>[{\"iso_3166_1\": \"US\", \"name\": \"United States o...</td>\n",
       "      <td>2015-09-04</td>\n",
       "      <td>0</td>\n",
       "      <td>100.0</td>\n",
       "      <td>[{\"iso_639_1\": \"en\", \"name\": \"English\"}]</td>\n",
       "      <td>Released</td>\n",
       "      <td>Climate change for good.</td>\n",
       "      <td>Time to Choose</td>\n",
       "      <td>0.0</td>\n",
       "      <td>0</td>\n",
       "    </tr>\n",
       "  </tbody>\n",
       "</table>\n",
       "</div>"
      ],
      "text/plain": [
       "       budget                                             genres  \\\n",
       "1464        0  [{\"id\": 18, \"name\": \"Drama\"}, {\"id\": 80, \"name...   \n",
       "3669        0  [{\"id\": 35, \"name\": \"Comedy\"}, {\"id\": 18, \"nam...   \n",
       "3670        0                  [{\"id\": 10751, \"name\": \"Family\"}]   \n",
       "3852        0                      [{\"id\": 18, \"name\": \"Drama\"}]   \n",
       "3855  3500000                [{\"id\": 99, \"name\": \"Documentary\"}]   \n",
       "\n",
       "                           homepage      id  \\\n",
       "1464                            NaN  310706   \n",
       "3669  http://www.romeothemovie.com/  113406   \n",
       "3670                            NaN  447027   \n",
       "3852                            NaN  395766   \n",
       "3855    http://www.timetochoose.com  370662   \n",
       "\n",
       "                                               keywords original_language  \\\n",
       "1464                                                 []                en   \n",
       "3669                                                 []                en   \n",
       "3670                                                 []                en   \n",
       "3852              [{\"id\": 11162, \"name\": \"miniseries\"}]                en   \n",
       "3855  [{\"id\": 2210, \"name\": \"climate change\"}, {\"id\"...                en   \n",
       "\n",
       "            original_title                                           overview  \\\n",
       "1464   Black Water Transit  In this action thriller set in post-Katrina Ne...   \n",
       "3669  Should've Been Romeo  A self-centered, middle-aged pitchman for a po...   \n",
       "3670       Running Forever  After being estranged since her mother's death...   \n",
       "3852            The Secret  The Secret is the story of a real-life double ...   \n",
       "3855        Time to Choose  Academy Award® winning director Charles Fergus...   \n",
       "\n",
       "      popularity                               production_companies  \\\n",
       "1464    0.126738             [{\"name\": \"Capitol Films\", \"id\": 826}]   \n",
       "3669    0.407030       [{\"name\": \"Phillybrook Films\", \"id\": 65147}]   \n",
       "3670    0.028756    [{\"name\": \"New Kingdom Pictures\", \"id\": 41671}]   \n",
       "3852    0.042346                                                 []   \n",
       "3855    1.618138  [{\"name\": \"Representational Pictures\", \"id\": 8...   \n",
       "\n",
       "                                   production_countries release_date  revenue  \\\n",
       "1464  [{\"iso_3166_1\": \"US\", \"name\": \"United States o...   2009-05-13        0   \n",
       "3669  [{\"iso_3166_1\": \"US\", \"name\": \"United States o...   2012-04-28        0   \n",
       "3670  [{\"iso_3166_1\": \"US\", \"name\": \"United States o...   2015-10-27        0   \n",
       "3852                                                 []   2016-04-29        0   \n",
       "3855  [{\"iso_3166_1\": \"US\", \"name\": \"United States o...   2015-09-04        0   \n",
       "\n",
       "      runtime                          spoken_languages    status  \\\n",
       "1464    100.0  [{\"iso_639_1\": \"en\", \"name\": \"English\"}]  Released   \n",
       "3669      0.0  [{\"iso_639_1\": \"en\", \"name\": \"English\"}]  Released   \n",
       "3670     88.0                                        []  Released   \n",
       "3852    200.0                                        []  Released   \n",
       "3855    100.0  [{\"iso_639_1\": \"en\", \"name\": \"English\"}]  Released   \n",
       "\n",
       "                                           tagline                 title  \\\n",
       "1464                                           NaN   Black Water Transit   \n",
       "3669  Even Shakespeare didn't see this one coming.  Should've Been Romeo   \n",
       "3670                                           NaN       Running Forever   \n",
       "3852                                           NaN            The Secret   \n",
       "3855                      Climate change for good.        Time to Choose   \n",
       "\n",
       "      vote_average  vote_count  \n",
       "1464           0.0           0  \n",
       "3669           0.0           0  \n",
       "3670           0.0           0  \n",
       "3852           0.0           0  \n",
       "3855           0.0           0  "
      ]
     },
     "execution_count": 6,
     "metadata": {},
     "output_type": "execute_result"
    }
   ],
   "source": [
    "#realizando um filtro\n",
    "tmdb.query(\"vote_average == 0\").head()"
   ]
  },
  {
   "cell_type": "markdown",
   "metadata": {},
   "source": [
    "#### Filtrando apenas os filmes que tenham o número minimo de votos de 10, para a análise.\n"
   ]
  },
  {
   "cell_type": "code",
   "execution_count": 7,
   "metadata": {},
   "outputs": [
    {
     "data": {
      "text/html": [
       "<div>\n",
       "<style scoped>\n",
       "    .dataframe tbody tr th:only-of-type {\n",
       "        vertical-align: middle;\n",
       "    }\n",
       "\n",
       "    .dataframe tbody tr th {\n",
       "        vertical-align: top;\n",
       "    }\n",
       "\n",
       "    .dataframe thead th {\n",
       "        text-align: right;\n",
       "    }\n",
       "</style>\n",
       "<table border=\"1\" class=\"dataframe\">\n",
       "  <thead>\n",
       "    <tr style=\"text-align: right;\">\n",
       "      <th></th>\n",
       "      <th>budget</th>\n",
       "      <th>genres</th>\n",
       "      <th>homepage</th>\n",
       "      <th>id</th>\n",
       "      <th>keywords</th>\n",
       "      <th>original_language</th>\n",
       "      <th>original_title</th>\n",
       "      <th>overview</th>\n",
       "      <th>popularity</th>\n",
       "      <th>production_companies</th>\n",
       "      <th>production_countries</th>\n",
       "      <th>release_date</th>\n",
       "      <th>revenue</th>\n",
       "      <th>runtime</th>\n",
       "      <th>spoken_languages</th>\n",
       "      <th>status</th>\n",
       "      <th>tagline</th>\n",
       "      <th>title</th>\n",
       "      <th>vote_average</th>\n",
       "      <th>vote_count</th>\n",
       "    </tr>\n",
       "  </thead>\n",
       "  <tbody>\n",
       "    <tr>\n",
       "      <th>0</th>\n",
       "      <td>237000000</td>\n",
       "      <td>[{\"id\": 28, \"name\": \"Action\"}, {\"id\": 12, \"nam...</td>\n",
       "      <td>http://www.avatarmovie.com/</td>\n",
       "      <td>19995</td>\n",
       "      <td>[{\"id\": 1463, \"name\": \"culture clash\"}, {\"id\":...</td>\n",
       "      <td>en</td>\n",
       "      <td>Avatar</td>\n",
       "      <td>In the 22nd century, a paraplegic Marine is di...</td>\n",
       "      <td>150.437577</td>\n",
       "      <td>[{\"name\": \"Ingenious Film Partners\", \"id\": 289...</td>\n",
       "      <td>[{\"iso_3166_1\": \"US\", \"name\": \"United States o...</td>\n",
       "      <td>2009-12-10</td>\n",
       "      <td>2787965087</td>\n",
       "      <td>162.0</td>\n",
       "      <td>[{\"iso_639_1\": \"en\", \"name\": \"English\"}, {\"iso...</td>\n",
       "      <td>Released</td>\n",
       "      <td>Enter the World of Pandora.</td>\n",
       "      <td>Avatar</td>\n",
       "      <td>7.2</td>\n",
       "      <td>11800</td>\n",
       "    </tr>\n",
       "    <tr>\n",
       "      <th>1</th>\n",
       "      <td>300000000</td>\n",
       "      <td>[{\"id\": 12, \"name\": \"Adventure\"}, {\"id\": 14, \"...</td>\n",
       "      <td>http://disney.go.com/disneypictures/pirates/</td>\n",
       "      <td>285</td>\n",
       "      <td>[{\"id\": 270, \"name\": \"ocean\"}, {\"id\": 726, \"na...</td>\n",
       "      <td>en</td>\n",
       "      <td>Pirates of the Caribbean: At World's End</td>\n",
       "      <td>Captain Barbossa, long believed to be dead, ha...</td>\n",
       "      <td>139.082615</td>\n",
       "      <td>[{\"name\": \"Walt Disney Pictures\", \"id\": 2}, {\"...</td>\n",
       "      <td>[{\"iso_3166_1\": \"US\", \"name\": \"United States o...</td>\n",
       "      <td>2007-05-19</td>\n",
       "      <td>961000000</td>\n",
       "      <td>169.0</td>\n",
       "      <td>[{\"iso_639_1\": \"en\", \"name\": \"English\"}]</td>\n",
       "      <td>Released</td>\n",
       "      <td>At the end of the world, the adventure begins.</td>\n",
       "      <td>Pirates of the Caribbean: At World's End</td>\n",
       "      <td>6.9</td>\n",
       "      <td>4500</td>\n",
       "    </tr>\n",
       "    <tr>\n",
       "      <th>2</th>\n",
       "      <td>245000000</td>\n",
       "      <td>[{\"id\": 28, \"name\": \"Action\"}, {\"id\": 12, \"nam...</td>\n",
       "      <td>http://www.sonypictures.com/movies/spectre/</td>\n",
       "      <td>206647</td>\n",
       "      <td>[{\"id\": 470, \"name\": \"spy\"}, {\"id\": 818, \"name...</td>\n",
       "      <td>en</td>\n",
       "      <td>Spectre</td>\n",
       "      <td>A cryptic message from Bond’s past sends him o...</td>\n",
       "      <td>107.376788</td>\n",
       "      <td>[{\"name\": \"Columbia Pictures\", \"id\": 5}, {\"nam...</td>\n",
       "      <td>[{\"iso_3166_1\": \"GB\", \"name\": \"United Kingdom\"...</td>\n",
       "      <td>2015-10-26</td>\n",
       "      <td>880674609</td>\n",
       "      <td>148.0</td>\n",
       "      <td>[{\"iso_639_1\": \"fr\", \"name\": \"Fran\\u00e7ais\"},...</td>\n",
       "      <td>Released</td>\n",
       "      <td>A Plan No One Escapes</td>\n",
       "      <td>Spectre</td>\n",
       "      <td>6.3</td>\n",
       "      <td>4466</td>\n",
       "    </tr>\n",
       "    <tr>\n",
       "      <th>3</th>\n",
       "      <td>250000000</td>\n",
       "      <td>[{\"id\": 28, \"name\": \"Action\"}, {\"id\": 80, \"nam...</td>\n",
       "      <td>http://www.thedarkknightrises.com/</td>\n",
       "      <td>49026</td>\n",
       "      <td>[{\"id\": 849, \"name\": \"dc comics\"}, {\"id\": 853,...</td>\n",
       "      <td>en</td>\n",
       "      <td>The Dark Knight Rises</td>\n",
       "      <td>Following the death of District Attorney Harve...</td>\n",
       "      <td>112.312950</td>\n",
       "      <td>[{\"name\": \"Legendary Pictures\", \"id\": 923}, {\"...</td>\n",
       "      <td>[{\"iso_3166_1\": \"US\", \"name\": \"United States o...</td>\n",
       "      <td>2012-07-16</td>\n",
       "      <td>1084939099</td>\n",
       "      <td>165.0</td>\n",
       "      <td>[{\"iso_639_1\": \"en\", \"name\": \"English\"}]</td>\n",
       "      <td>Released</td>\n",
       "      <td>The Legend Ends</td>\n",
       "      <td>The Dark Knight Rises</td>\n",
       "      <td>7.6</td>\n",
       "      <td>9106</td>\n",
       "    </tr>\n",
       "    <tr>\n",
       "      <th>4</th>\n",
       "      <td>260000000</td>\n",
       "      <td>[{\"id\": 28, \"name\": \"Action\"}, {\"id\": 12, \"nam...</td>\n",
       "      <td>http://movies.disney.com/john-carter</td>\n",
       "      <td>49529</td>\n",
       "      <td>[{\"id\": 818, \"name\": \"based on novel\"}, {\"id\":...</td>\n",
       "      <td>en</td>\n",
       "      <td>John Carter</td>\n",
       "      <td>John Carter is a war-weary, former military ca...</td>\n",
       "      <td>43.926995</td>\n",
       "      <td>[{\"name\": \"Walt Disney Pictures\", \"id\": 2}]</td>\n",
       "      <td>[{\"iso_3166_1\": \"US\", \"name\": \"United States o...</td>\n",
       "      <td>2012-03-07</td>\n",
       "      <td>284139100</td>\n",
       "      <td>132.0</td>\n",
       "      <td>[{\"iso_639_1\": \"en\", \"name\": \"English\"}]</td>\n",
       "      <td>Released</td>\n",
       "      <td>Lost in our world, found in another.</td>\n",
       "      <td>John Carter</td>\n",
       "      <td>6.1</td>\n",
       "      <td>2124</td>\n",
       "    </tr>\n",
       "  </tbody>\n",
       "</table>\n",
       "</div>"
      ],
      "text/plain": [
       "      budget                                             genres  \\\n",
       "0  237000000  [{\"id\": 28, \"name\": \"Action\"}, {\"id\": 12, \"nam...   \n",
       "1  300000000  [{\"id\": 12, \"name\": \"Adventure\"}, {\"id\": 14, \"...   \n",
       "2  245000000  [{\"id\": 28, \"name\": \"Action\"}, {\"id\": 12, \"nam...   \n",
       "3  250000000  [{\"id\": 28, \"name\": \"Action\"}, {\"id\": 80, \"nam...   \n",
       "4  260000000  [{\"id\": 28, \"name\": \"Action\"}, {\"id\": 12, \"nam...   \n",
       "\n",
       "                                       homepage      id  \\\n",
       "0                   http://www.avatarmovie.com/   19995   \n",
       "1  http://disney.go.com/disneypictures/pirates/     285   \n",
       "2   http://www.sonypictures.com/movies/spectre/  206647   \n",
       "3            http://www.thedarkknightrises.com/   49026   \n",
       "4          http://movies.disney.com/john-carter   49529   \n",
       "\n",
       "                                            keywords original_language  \\\n",
       "0  [{\"id\": 1463, \"name\": \"culture clash\"}, {\"id\":...                en   \n",
       "1  [{\"id\": 270, \"name\": \"ocean\"}, {\"id\": 726, \"na...                en   \n",
       "2  [{\"id\": 470, \"name\": \"spy\"}, {\"id\": 818, \"name...                en   \n",
       "3  [{\"id\": 849, \"name\": \"dc comics\"}, {\"id\": 853,...                en   \n",
       "4  [{\"id\": 818, \"name\": \"based on novel\"}, {\"id\":...                en   \n",
       "\n",
       "                             original_title  \\\n",
       "0                                    Avatar   \n",
       "1  Pirates of the Caribbean: At World's End   \n",
       "2                                   Spectre   \n",
       "3                     The Dark Knight Rises   \n",
       "4                               John Carter   \n",
       "\n",
       "                                            overview  popularity  \\\n",
       "0  In the 22nd century, a paraplegic Marine is di...  150.437577   \n",
       "1  Captain Barbossa, long believed to be dead, ha...  139.082615   \n",
       "2  A cryptic message from Bond’s past sends him o...  107.376788   \n",
       "3  Following the death of District Attorney Harve...  112.312950   \n",
       "4  John Carter is a war-weary, former military ca...   43.926995   \n",
       "\n",
       "                                production_companies  \\\n",
       "0  [{\"name\": \"Ingenious Film Partners\", \"id\": 289...   \n",
       "1  [{\"name\": \"Walt Disney Pictures\", \"id\": 2}, {\"...   \n",
       "2  [{\"name\": \"Columbia Pictures\", \"id\": 5}, {\"nam...   \n",
       "3  [{\"name\": \"Legendary Pictures\", \"id\": 923}, {\"...   \n",
       "4        [{\"name\": \"Walt Disney Pictures\", \"id\": 2}]   \n",
       "\n",
       "                                production_countries release_date     revenue  \\\n",
       "0  [{\"iso_3166_1\": \"US\", \"name\": \"United States o...   2009-12-10  2787965087   \n",
       "1  [{\"iso_3166_1\": \"US\", \"name\": \"United States o...   2007-05-19   961000000   \n",
       "2  [{\"iso_3166_1\": \"GB\", \"name\": \"United Kingdom\"...   2015-10-26   880674609   \n",
       "3  [{\"iso_3166_1\": \"US\", \"name\": \"United States o...   2012-07-16  1084939099   \n",
       "4  [{\"iso_3166_1\": \"US\", \"name\": \"United States o...   2012-03-07   284139100   \n",
       "\n",
       "   runtime                                   spoken_languages    status  \\\n",
       "0    162.0  [{\"iso_639_1\": \"en\", \"name\": \"English\"}, {\"iso...  Released   \n",
       "1    169.0           [{\"iso_639_1\": \"en\", \"name\": \"English\"}]  Released   \n",
       "2    148.0  [{\"iso_639_1\": \"fr\", \"name\": \"Fran\\u00e7ais\"},...  Released   \n",
       "3    165.0           [{\"iso_639_1\": \"en\", \"name\": \"English\"}]  Released   \n",
       "4    132.0           [{\"iso_639_1\": \"en\", \"name\": \"English\"}]  Released   \n",
       "\n",
       "                                          tagline  \\\n",
       "0                     Enter the World of Pandora.   \n",
       "1  At the end of the world, the adventure begins.   \n",
       "2                           A Plan No One Escapes   \n",
       "3                                 The Legend Ends   \n",
       "4            Lost in our world, found in another.   \n",
       "\n",
       "                                      title  vote_average  vote_count  \n",
       "0                                    Avatar           7.2       11800  \n",
       "1  Pirates of the Caribbean: At World's End           6.9        4500  \n",
       "2                                   Spectre           6.3        4466  \n",
       "3                     The Dark Knight Rises           7.6        9106  \n",
       "4                               John Carter           6.1        2124  "
      ]
     },
     "execution_count": 7,
     "metadata": {},
     "output_type": "execute_result"
    }
   ],
   "source": [
    "tmdb_com_mais_de_10_votos = tmdb.query(\"vote_count >= 10\")\n",
    "tmdb_com_mais_de_10_votos.head()"
   ]
  },
  {
   "cell_type": "code",
   "execution_count": 8,
   "metadata": {},
   "outputs": [
    {
     "data": {
      "text/html": [
       "<div>\n",
       "<style scoped>\n",
       "    .dataframe tbody tr th:only-of-type {\n",
       "        vertical-align: middle;\n",
       "    }\n",
       "\n",
       "    .dataframe tbody tr th {\n",
       "        vertical-align: top;\n",
       "    }\n",
       "\n",
       "    .dataframe thead th {\n",
       "        text-align: right;\n",
       "    }\n",
       "</style>\n",
       "<table border=\"1\" class=\"dataframe\">\n",
       "  <thead>\n",
       "    <tr style=\"text-align: right;\">\n",
       "      <th></th>\n",
       "      <th>budget</th>\n",
       "      <th>id</th>\n",
       "      <th>popularity</th>\n",
       "      <th>revenue</th>\n",
       "      <th>runtime</th>\n",
       "      <th>vote_average</th>\n",
       "      <th>vote_count</th>\n",
       "    </tr>\n",
       "  </thead>\n",
       "  <tbody>\n",
       "    <tr>\n",
       "      <th>count</th>\n",
       "      <td>4.392000e+03</td>\n",
       "      <td>4392.000000</td>\n",
       "      <td>4392.000000</td>\n",
       "      <td>4.392000e+03</td>\n",
       "      <td>4391.000000</td>\n",
       "      <td>4392.000000</td>\n",
       "      <td>4392.000000</td>\n",
       "    </tr>\n",
       "    <tr>\n",
       "      <th>mean</th>\n",
       "      <td>3.164545e+07</td>\n",
       "      <td>49204.119991</td>\n",
       "      <td>23.448815</td>\n",
       "      <td>8.990969e+07</td>\n",
       "      <td>108.430881</td>\n",
       "      <td>6.226935</td>\n",
       "      <td>754.441712</td>\n",
       "    </tr>\n",
       "    <tr>\n",
       "      <th>std</th>\n",
       "      <td>4.162736e+07</td>\n",
       "      <td>80136.249777</td>\n",
       "      <td>32.592158</td>\n",
       "      <td>1.682870e+08</td>\n",
       "      <td>21.014719</td>\n",
       "      <td>0.893215</td>\n",
       "      <td>1272.263761</td>\n",
       "    </tr>\n",
       "    <tr>\n",
       "      <th>min</th>\n",
       "      <td>0.000000e+00</td>\n",
       "      <td>5.000000</td>\n",
       "      <td>0.011697</td>\n",
       "      <td>0.000000e+00</td>\n",
       "      <td>0.000000</td>\n",
       "      <td>1.900000</td>\n",
       "      <td>10.000000</td>\n",
       "    </tr>\n",
       "    <tr>\n",
       "      <th>25%</th>\n",
       "      <td>2.895962e+06</td>\n",
       "      <td>8403.500000</td>\n",
       "      <td>6.512166</td>\n",
       "      <td>1.365700e+04</td>\n",
       "      <td>95.000000</td>\n",
       "      <td>5.700000</td>\n",
       "      <td>83.750000</td>\n",
       "    </tr>\n",
       "    <tr>\n",
       "      <th>50%</th>\n",
       "      <td>1.700000e+07</td>\n",
       "      <td>13084.500000</td>\n",
       "      <td>14.827784</td>\n",
       "      <td>2.685837e+07</td>\n",
       "      <td>105.000000</td>\n",
       "      <td>6.300000</td>\n",
       "      <td>288.500000</td>\n",
       "    </tr>\n",
       "    <tr>\n",
       "      <th>75%</th>\n",
       "      <td>4.200000e+07</td>\n",
       "      <td>46831.250000</td>\n",
       "      <td>30.258282</td>\n",
       "      <td>1.022818e+08</td>\n",
       "      <td>118.500000</td>\n",
       "      <td>6.800000</td>\n",
       "      <td>831.000000</td>\n",
       "    </tr>\n",
       "    <tr>\n",
       "      <th>max</th>\n",
       "      <td>3.800000e+08</td>\n",
       "      <td>417859.000000</td>\n",
       "      <td>875.581305</td>\n",
       "      <td>2.787965e+09</td>\n",
       "      <td>338.000000</td>\n",
       "      <td>8.500000</td>\n",
       "      <td>13752.000000</td>\n",
       "    </tr>\n",
       "  </tbody>\n",
       "</table>\n",
       "</div>"
      ],
      "text/plain": [
       "             budget             id   popularity       revenue      runtime  \\\n",
       "count  4.392000e+03    4392.000000  4392.000000  4.392000e+03  4391.000000   \n",
       "mean   3.164545e+07   49204.119991    23.448815  8.990969e+07   108.430881   \n",
       "std    4.162736e+07   80136.249777    32.592158  1.682870e+08    21.014719   \n",
       "min    0.000000e+00       5.000000     0.011697  0.000000e+00     0.000000   \n",
       "25%    2.895962e+06    8403.500000     6.512166  1.365700e+04    95.000000   \n",
       "50%    1.700000e+07   13084.500000    14.827784  2.685837e+07   105.000000   \n",
       "75%    4.200000e+07   46831.250000    30.258282  1.022818e+08   118.500000   \n",
       "max    3.800000e+08  417859.000000   875.581305  2.787965e+09   338.000000   \n",
       "\n",
       "       vote_average    vote_count  \n",
       "count   4392.000000   4392.000000  \n",
       "mean       6.226935    754.441712  \n",
       "std        0.893215   1272.263761  \n",
       "min        1.900000     10.000000  \n",
       "25%        5.700000     83.750000  \n",
       "50%        6.300000    288.500000  \n",
       "75%        6.800000    831.000000  \n",
       "max        8.500000  13752.000000  "
      ]
     },
     "execution_count": 8,
     "metadata": {},
     "output_type": "execute_result"
    }
   ],
   "source": [
    "tmdb_com_mais_de_10_votos.describe()"
   ]
  },
  {
   "cell_type": "markdown",
   "metadata": {},
   "source": [
    "- Note inclusive que limpou a nota máxima 10, pois também deveria existir filmes cujo a avaliação tinha sido feito por menos de 10 pessoas."
   ]
  },
  {
   "cell_type": "markdown",
   "metadata": {},
   "source": [
    "### Reconstrução do Gráfico"
   ]
  },
  {
   "cell_type": "code",
   "execution_count": 9,
   "metadata": {},
   "outputs": [
    {
     "data": {
      "text/plain": [
       "Text(0.5, 1.0, 'Media de votos em filmes no TMDB 5000 com 10 ou mais votos')"
      ]
     },
     "execution_count": 9,
     "metadata": {},
     "output_type": "execute_result"
    },
    {
     "data": {
      "image/png": "[encoded data removed]",
      "text/plain": [
       "<Figure size 1440x432 with 1 Axes>"
      ]
     },
     "metadata": {
      "needs_background": "light"
     },
     "output_type": "display_data"
    }
   ],
   "source": [
    "ax = sns.distplot(tmdb_com_mais_de_10_votos.vote_average, norm_hist=False, kde=False)\n",
    "ax.figure.set_size_inches(20, 6)\n",
    "#ax.set(xlabel = 'Nota Media', ylabel='Densidade')\n",
    "ax.set_xlabel('Nota Media', fontsize=16)\n",
    "ax.set_ylabel('Frequencia', fontsize=16)\n",
    "ax.set_title(\"Media de votos em filmes no TMDB 5000 com 10 ou mais votos\", fontsize=20)"
   ]
  },
  {
   "cell_type": "code",
   "execution_count": 10,
   "metadata": {},
   "outputs": [
    {
     "data": {
      "text/plain": [
       "Text(0.5, 1.0, 'Media de votos em filmes no TMDB 5000 com 10 ou mais votos')"
      ]
     },
     "execution_count": 10,
     "metadata": {},
     "output_type": "execute_result"
    },
    {
     "data": {
      "image/png": "[encoded data removed]",
      "text/plain": [
       "<Figure size 1440x432 with 1 Axes>"
      ]
     },
     "metadata": {
      "needs_background": "light"
     },
     "output_type": "display_data"
    }
   ],
   "source": [
    "ax = sns.distplot(tmdb_com_mais_de_10_votos.vote_average)\n",
    "ax.figure.set_size_inches(20, 6)\n",
    "#ax.set(xlabel = 'Nota Media', ylabel='Densidade')\n",
    "ax.set_xlabel('Nota Media', fontsize=16)\n",
    "ax.set_ylabel('Densidade', fontsize=16)\n",
    "ax.set_title(\"Media de votos em filmes no TMDB 5000 com 10 ou mais votos\", fontsize=20)"
   ]
  },
  {
   "cell_type": "markdown",
   "metadata": {},
   "source": [
    "- Lembra uma curva normal, mas não é simétrica.\n",
    "- A cauda da esquerada é maior que o da direira.\n"
   ]
  },
  {
   "cell_type": "code",
   "execution_count": 11,
   "metadata": {},
   "outputs": [
    {
     "data": {
      "text/plain": [
       "Text(0.5, 0, 'Nota Media do filme')"
      ]
     },
     "execution_count": 11,
     "metadata": {},
     "output_type": "execute_result"
    },
    {
     "data": {
      "image/png": "[encoded data removed]",
      "text/plain": [
       "<Figure size 1440x432 with 1 Axes>"
      ]
     },
     "metadata": {
      "needs_background": "light"
     },
     "output_type": "display_data"
    }
   ],
   "source": [
    "ax = sns.boxplot(x = tmdb_com_mais_de_10_votos.vote_average)\n",
    "ax.figure.set_size_inches(20, 6)\n",
    "ax.set_title(\"Media de votos em filmes no TMDB 5000 com 10 ou mais votos\", fontsize=20)\n",
    "ax.set_xlabel('Nota Media do filme', fontsize=16)"
   ]
  },
  {
   "cell_type": "markdown",
   "metadata": {},
   "source": [
    "## Analise do dataset movielens"
   ]
  },
  {
   "cell_type": "code",
   "execution_count": 12,
   "metadata": {},
   "outputs": [
    {
     "data": {
      "text/html": [
       "<div>\n",
       "<style scoped>\n",
       "    .dataframe tbody tr th:only-of-type {\n",
       "        vertical-align: middle;\n",
       "    }\n",
       "\n",
       "    .dataframe tbody tr th {\n",
       "        vertical-align: top;\n",
       "    }\n",
       "\n",
       "    .dataframe thead th {\n",
       "        text-align: right;\n",
       "    }\n",
       "</style>\n",
       "<table border=\"1\" class=\"dataframe\">\n",
       "  <thead>\n",
       "    <tr style=\"text-align: right;\">\n",
       "      <th></th>\n",
       "      <th>userId</th>\n",
       "      <th>movieId</th>\n",
       "      <th>rating</th>\n",
       "      <th>timestamp</th>\n",
       "    </tr>\n",
       "  </thead>\n",
       "  <tbody>\n",
       "    <tr>\n",
       "      <th>0</th>\n",
       "      <td>1</td>\n",
       "      <td>1</td>\n",
       "      <td>4.0</td>\n",
       "      <td>964982703</td>\n",
       "    </tr>\n",
       "    <tr>\n",
       "      <th>1</th>\n",
       "      <td>1</td>\n",
       "      <td>3</td>\n",
       "      <td>4.0</td>\n",
       "      <td>964981247</td>\n",
       "    </tr>\n",
       "    <tr>\n",
       "      <th>2</th>\n",
       "      <td>1</td>\n",
       "      <td>6</td>\n",
       "      <td>4.0</td>\n",
       "      <td>964982224</td>\n",
       "    </tr>\n",
       "    <tr>\n",
       "      <th>3</th>\n",
       "      <td>1</td>\n",
       "      <td>47</td>\n",
       "      <td>5.0</td>\n",
       "      <td>964983815</td>\n",
       "    </tr>\n",
       "    <tr>\n",
       "      <th>4</th>\n",
       "      <td>1</td>\n",
       "      <td>50</td>\n",
       "      <td>5.0</td>\n",
       "      <td>964982931</td>\n",
       "    </tr>\n",
       "  </tbody>\n",
       "</table>\n",
       "</div>"
      ],
      "text/plain": [
       "   userId  movieId  rating  timestamp\n",
       "0       1        1     4.0  964982703\n",
       "1       1        3     4.0  964981247\n",
       "2       1        6     4.0  964982224\n",
       "3       1       47     5.0  964983815\n",
       "4       1       50     5.0  964982931"
      ]
     },
     "execution_count": 12,
     "metadata": {},
     "output_type": "execute_result"
    }
   ],
   "source": [
    "notas = pd.read_csv(\"aula0/ratings.csv\")\n",
    "notas.head()"
   ]
  },
  {
   "cell_type": "markdown",
   "metadata": {},
   "source": [
    "#### Agrupando por movieId e obtendo a média de notas (rating)"
   ]
  },
  {
   "cell_type": "code",
   "execution_count": 13,
   "metadata": {},
   "outputs": [
    {
     "data": {
      "text/plain": [
       "movieId\n",
       "1    3.920930\n",
       "2    3.431818\n",
       "3    3.259615\n",
       "4    2.357143\n",
       "5    3.071429\n",
       "Name: rating, dtype: float64"
      ]
     },
     "execution_count": 13,
     "metadata": {},
     "output_type": "execute_result"
    }
   ],
   "source": [
    "nota_media_por_filme = notas.groupby('movieId').mean()[\"rating\"]\n",
    "nota_media_por_filme.head()"
   ]
  },
  {
   "cell_type": "code",
   "execution_count": 14,
   "metadata": {},
   "outputs": [
    {
     "data": {
      "text/plain": [
       "Text(0.5, 1.0, 'Media de votos em filmes no MovieLens 100K votos')"
      ]
     },
     "execution_count": 14,
     "metadata": {},
     "output_type": "execute_result"
    },
    {
     "data": {
      "image/png": "[encoded data removed]",
      "text/plain": [
       "<Figure size 1440x432 with 1 Axes>"
      ]
     },
     "metadata": {
      "needs_background": "light"
     },
     "output_type": "display_data"
    }
   ],
   "source": [
    "ax = sns.distplot(nota_media_por_filme.values)\n",
    "ax.figure.set_size_inches(20, 6)\n",
    "#ax.set(xlabel = 'Nota Media', ylabel='Densidade')\n",
    "ax.set_xlabel('Nota Media', fontsize=16)\n",
    "ax.set_ylabel('Densidade', fontsize=16)\n",
    "ax.set_title(\"Media de votos em filmes no MovieLens 100K votos\", fontsize=20)"
   ]
  },
  {
   "cell_type": "markdown",
   "metadata": {},
   "source": [
    "- Note que tem filmes com nota 5. Provavelmente seja filme com poucos votos."
   ]
  },
  {
   "cell_type": "code",
   "execution_count": 15,
   "metadata": {},
   "outputs": [
    {
     "data": {
      "text/html": [
       "<div>\n",
       "<style scoped>\n",
       "    .dataframe tbody tr th:only-of-type {\n",
       "        vertical-align: middle;\n",
       "    }\n",
       "\n",
       "    .dataframe tbody tr th {\n",
       "        vertical-align: top;\n",
       "    }\n",
       "\n",
       "    .dataframe thead th {\n",
       "        text-align: right;\n",
       "    }\n",
       "</style>\n",
       "<table border=\"1\" class=\"dataframe\">\n",
       "  <thead>\n",
       "    <tr style=\"text-align: right;\">\n",
       "      <th></th>\n",
       "      <th>userId</th>\n",
       "      <th>rating</th>\n",
       "      <th>timestamp</th>\n",
       "    </tr>\n",
       "    <tr>\n",
       "      <th>movieId</th>\n",
       "      <th></th>\n",
       "      <th></th>\n",
       "      <th></th>\n",
       "    </tr>\n",
       "  </thead>\n",
       "  <tbody>\n",
       "    <tr>\n",
       "      <th>1</th>\n",
       "      <td>215</td>\n",
       "      <td>215</td>\n",
       "      <td>215</td>\n",
       "    </tr>\n",
       "    <tr>\n",
       "      <th>2</th>\n",
       "      <td>110</td>\n",
       "      <td>110</td>\n",
       "      <td>110</td>\n",
       "    </tr>\n",
       "    <tr>\n",
       "      <th>3</th>\n",
       "      <td>52</td>\n",
       "      <td>52</td>\n",
       "      <td>52</td>\n",
       "    </tr>\n",
       "    <tr>\n",
       "      <th>4</th>\n",
       "      <td>7</td>\n",
       "      <td>7</td>\n",
       "      <td>7</td>\n",
       "    </tr>\n",
       "    <tr>\n",
       "      <th>5</th>\n",
       "      <td>49</td>\n",
       "      <td>49</td>\n",
       "      <td>49</td>\n",
       "    </tr>\n",
       "    <tr>\n",
       "      <th>6</th>\n",
       "      <td>102</td>\n",
       "      <td>102</td>\n",
       "      <td>102</td>\n",
       "    </tr>\n",
       "    <tr>\n",
       "      <th>7</th>\n",
       "      <td>54</td>\n",
       "      <td>54</td>\n",
       "      <td>54</td>\n",
       "    </tr>\n",
       "    <tr>\n",
       "      <th>8</th>\n",
       "      <td>8</td>\n",
       "      <td>8</td>\n",
       "      <td>8</td>\n",
       "    </tr>\n",
       "    <tr>\n",
       "      <th>9</th>\n",
       "      <td>16</td>\n",
       "      <td>16</td>\n",
       "      <td>16</td>\n",
       "    </tr>\n",
       "    <tr>\n",
       "      <th>10</th>\n",
       "      <td>132</td>\n",
       "      <td>132</td>\n",
       "      <td>132</td>\n",
       "    </tr>\n",
       "    <tr>\n",
       "      <th>11</th>\n",
       "      <td>70</td>\n",
       "      <td>70</td>\n",
       "      <td>70</td>\n",
       "    </tr>\n",
       "    <tr>\n",
       "      <th>12</th>\n",
       "      <td>19</td>\n",
       "      <td>19</td>\n",
       "      <td>19</td>\n",
       "    </tr>\n",
       "    <tr>\n",
       "      <th>13</th>\n",
       "      <td>8</td>\n",
       "      <td>8</td>\n",
       "      <td>8</td>\n",
       "    </tr>\n",
       "    <tr>\n",
       "      <th>14</th>\n",
       "      <td>18</td>\n",
       "      <td>18</td>\n",
       "      <td>18</td>\n",
       "    </tr>\n",
       "    <tr>\n",
       "      <th>15</th>\n",
       "      <td>13</td>\n",
       "      <td>13</td>\n",
       "      <td>13</td>\n",
       "    </tr>\n",
       "    <tr>\n",
       "      <th>16</th>\n",
       "      <td>82</td>\n",
       "      <td>82</td>\n",
       "      <td>82</td>\n",
       "    </tr>\n",
       "    <tr>\n",
       "      <th>17</th>\n",
       "      <td>67</td>\n",
       "      <td>67</td>\n",
       "      <td>67</td>\n",
       "    </tr>\n",
       "    <tr>\n",
       "      <th>18</th>\n",
       "      <td>20</td>\n",
       "      <td>20</td>\n",
       "      <td>20</td>\n",
       "    </tr>\n",
       "    <tr>\n",
       "      <th>19</th>\n",
       "      <td>88</td>\n",
       "      <td>88</td>\n",
       "      <td>88</td>\n",
       "    </tr>\n",
       "    <tr>\n",
       "      <th>20</th>\n",
       "      <td>15</td>\n",
       "      <td>15</td>\n",
       "      <td>15</td>\n",
       "    </tr>\n",
       "    <tr>\n",
       "      <th>21</th>\n",
       "      <td>89</td>\n",
       "      <td>89</td>\n",
       "      <td>89</td>\n",
       "    </tr>\n",
       "    <tr>\n",
       "      <th>22</th>\n",
       "      <td>36</td>\n",
       "      <td>36</td>\n",
       "      <td>36</td>\n",
       "    </tr>\n",
       "    <tr>\n",
       "      <th>23</th>\n",
       "      <td>16</td>\n",
       "      <td>16</td>\n",
       "      <td>16</td>\n",
       "    </tr>\n",
       "    <tr>\n",
       "      <th>24</th>\n",
       "      <td>28</td>\n",
       "      <td>28</td>\n",
       "      <td>28</td>\n",
       "    </tr>\n",
       "    <tr>\n",
       "      <th>25</th>\n",
       "      <td>76</td>\n",
       "      <td>76</td>\n",
       "      <td>76</td>\n",
       "    </tr>\n",
       "    <tr>\n",
       "      <th>26</th>\n",
       "      <td>13</td>\n",
       "      <td>13</td>\n",
       "      <td>13</td>\n",
       "    </tr>\n",
       "    <tr>\n",
       "      <th>27</th>\n",
       "      <td>9</td>\n",
       "      <td>9</td>\n",
       "      <td>9</td>\n",
       "    </tr>\n",
       "    <tr>\n",
       "      <th>28</th>\n",
       "      <td>11</td>\n",
       "      <td>11</td>\n",
       "      <td>11</td>\n",
       "    </tr>\n",
       "    <tr>\n",
       "      <th>29</th>\n",
       "      <td>38</td>\n",
       "      <td>38</td>\n",
       "      <td>38</td>\n",
       "    </tr>\n",
       "    <tr>\n",
       "      <th>30</th>\n",
       "      <td>3</td>\n",
       "      <td>3</td>\n",
       "      <td>3</td>\n",
       "    </tr>\n",
       "    <tr>\n",
       "      <th>...</th>\n",
       "      <td>...</td>\n",
       "      <td>...</td>\n",
       "      <td>...</td>\n",
       "    </tr>\n",
       "    <tr>\n",
       "      <th>188189</th>\n",
       "      <td>1</td>\n",
       "      <td>1</td>\n",
       "      <td>1</td>\n",
       "    </tr>\n",
       "    <tr>\n",
       "      <th>188301</th>\n",
       "      <td>3</td>\n",
       "      <td>3</td>\n",
       "      <td>3</td>\n",
       "    </tr>\n",
       "    <tr>\n",
       "      <th>188675</th>\n",
       "      <td>1</td>\n",
       "      <td>1</td>\n",
       "      <td>1</td>\n",
       "    </tr>\n",
       "    <tr>\n",
       "      <th>188751</th>\n",
       "      <td>1</td>\n",
       "      <td>1</td>\n",
       "      <td>1</td>\n",
       "    </tr>\n",
       "    <tr>\n",
       "      <th>188797</th>\n",
       "      <td>1</td>\n",
       "      <td>1</td>\n",
       "      <td>1</td>\n",
       "    </tr>\n",
       "    <tr>\n",
       "      <th>188833</th>\n",
       "      <td>1</td>\n",
       "      <td>1</td>\n",
       "      <td>1</td>\n",
       "    </tr>\n",
       "    <tr>\n",
       "      <th>189043</th>\n",
       "      <td>1</td>\n",
       "      <td>1</td>\n",
       "      <td>1</td>\n",
       "    </tr>\n",
       "    <tr>\n",
       "      <th>189111</th>\n",
       "      <td>1</td>\n",
       "      <td>1</td>\n",
       "      <td>1</td>\n",
       "    </tr>\n",
       "    <tr>\n",
       "      <th>189333</th>\n",
       "      <td>2</td>\n",
       "      <td>2</td>\n",
       "      <td>2</td>\n",
       "    </tr>\n",
       "    <tr>\n",
       "      <th>189381</th>\n",
       "      <td>1</td>\n",
       "      <td>1</td>\n",
       "      <td>1</td>\n",
       "    </tr>\n",
       "    <tr>\n",
       "      <th>189547</th>\n",
       "      <td>1</td>\n",
       "      <td>1</td>\n",
       "      <td>1</td>\n",
       "    </tr>\n",
       "    <tr>\n",
       "      <th>189713</th>\n",
       "      <td>1</td>\n",
       "      <td>1</td>\n",
       "      <td>1</td>\n",
       "    </tr>\n",
       "    <tr>\n",
       "      <th>190183</th>\n",
       "      <td>1</td>\n",
       "      <td>1</td>\n",
       "      <td>1</td>\n",
       "    </tr>\n",
       "    <tr>\n",
       "      <th>190207</th>\n",
       "      <td>1</td>\n",
       "      <td>1</td>\n",
       "      <td>1</td>\n",
       "    </tr>\n",
       "    <tr>\n",
       "      <th>190209</th>\n",
       "      <td>1</td>\n",
       "      <td>1</td>\n",
       "      <td>1</td>\n",
       "    </tr>\n",
       "    <tr>\n",
       "      <th>190213</th>\n",
       "      <td>1</td>\n",
       "      <td>1</td>\n",
       "      <td>1</td>\n",
       "    </tr>\n",
       "    <tr>\n",
       "      <th>190215</th>\n",
       "      <td>1</td>\n",
       "      <td>1</td>\n",
       "      <td>1</td>\n",
       "    </tr>\n",
       "    <tr>\n",
       "      <th>190219</th>\n",
       "      <td>1</td>\n",
       "      <td>1</td>\n",
       "      <td>1</td>\n",
       "    </tr>\n",
       "    <tr>\n",
       "      <th>190221</th>\n",
       "      <td>1</td>\n",
       "      <td>1</td>\n",
       "      <td>1</td>\n",
       "    </tr>\n",
       "    <tr>\n",
       "      <th>191005</th>\n",
       "      <td>1</td>\n",
       "      <td>1</td>\n",
       "      <td>1</td>\n",
       "    </tr>\n",
       "    <tr>\n",
       "      <th>193565</th>\n",
       "      <td>1</td>\n",
       "      <td>1</td>\n",
       "      <td>1</td>\n",
       "    </tr>\n",
       "    <tr>\n",
       "      <th>193567</th>\n",
       "      <td>1</td>\n",
       "      <td>1</td>\n",
       "      <td>1</td>\n",
       "    </tr>\n",
       "    <tr>\n",
       "      <th>193571</th>\n",
       "      <td>1</td>\n",
       "      <td>1</td>\n",
       "      <td>1</td>\n",
       "    </tr>\n",
       "    <tr>\n",
       "      <th>193573</th>\n",
       "      <td>1</td>\n",
       "      <td>1</td>\n",
       "      <td>1</td>\n",
       "    </tr>\n",
       "    <tr>\n",
       "      <th>193579</th>\n",
       "      <td>1</td>\n",
       "      <td>1</td>\n",
       "      <td>1</td>\n",
       "    </tr>\n",
       "    <tr>\n",
       "      <th>193581</th>\n",
       "      <td>1</td>\n",
       "      <td>1</td>\n",
       "      <td>1</td>\n",
       "    </tr>\n",
       "    <tr>\n",
       "      <th>193583</th>\n",
       "      <td>1</td>\n",
       "      <td>1</td>\n",
       "      <td>1</td>\n",
       "    </tr>\n",
       "    <tr>\n",
       "      <th>193585</th>\n",
       "      <td>1</td>\n",
       "      <td>1</td>\n",
       "      <td>1</td>\n",
       "    </tr>\n",
       "    <tr>\n",
       "      <th>193587</th>\n",
       "      <td>1</td>\n",
       "      <td>1</td>\n",
       "      <td>1</td>\n",
       "    </tr>\n",
       "    <tr>\n",
       "      <th>193609</th>\n",
       "      <td>1</td>\n",
       "      <td>1</td>\n",
       "      <td>1</td>\n",
       "    </tr>\n",
       "  </tbody>\n",
       "</table>\n",
       "<p>9724 rows × 3 columns</p>\n",
       "</div>"
      ],
      "text/plain": [
       "         userId  rating  timestamp\n",
       "movieId                           \n",
       "1           215     215        215\n",
       "2           110     110        110\n",
       "3            52      52         52\n",
       "4             7       7          7\n",
       "5            49      49         49\n",
       "6           102     102        102\n",
       "7            54      54         54\n",
       "8             8       8          8\n",
       "9            16      16         16\n",
       "10          132     132        132\n",
       "11           70      70         70\n",
       "12           19      19         19\n",
       "13            8       8          8\n",
       "14           18      18         18\n",
       "15           13      13         13\n",
       "16           82      82         82\n",
       "17           67      67         67\n",
       "18           20      20         20\n",
       "19           88      88         88\n",
       "20           15      15         15\n",
       "21           89      89         89\n",
       "22           36      36         36\n",
       "23           16      16         16\n",
       "24           28      28         28\n",
       "25           76      76         76\n",
       "26           13      13         13\n",
       "27            9       9          9\n",
       "28           11      11         11\n",
       "29           38      38         38\n",
       "30            3       3          3\n",
       "...         ...     ...        ...\n",
       "188189        1       1          1\n",
       "188301        3       3          3\n",
       "188675        1       1          1\n",
       "188751        1       1          1\n",
       "188797        1       1          1\n",
       "188833        1       1          1\n",
       "189043        1       1          1\n",
       "189111        1       1          1\n",
       "189333        2       2          2\n",
       "189381        1       1          1\n",
       "189547        1       1          1\n",
       "189713        1       1          1\n",
       "190183        1       1          1\n",
       "190207        1       1          1\n",
       "190209        1       1          1\n",
       "190213        1       1          1\n",
       "190215        1       1          1\n",
       "190219        1       1          1\n",
       "190221        1       1          1\n",
       "191005        1       1          1\n",
       "193565        1       1          1\n",
       "193567        1       1          1\n",
       "193571        1       1          1\n",
       "193573        1       1          1\n",
       "193579        1       1          1\n",
       "193581        1       1          1\n",
       "193583        1       1          1\n",
       "193585        1       1          1\n",
       "193587        1       1          1\n",
       "193609        1       1          1\n",
       "\n",
       "[9724 rows x 3 columns]"
      ]
     },
     "execution_count": 15,
     "metadata": {},
     "output_type": "execute_result"
    }
   ],
   "source": [
    "quantidade_de_votos_por_filme = notas.groupby('movieId').count()\n",
    "quantidade_de_votos_por_filme"
   ]
  },
  {
   "cell_type": "markdown",
   "metadata": {},
   "source": [
    "- Filtrando os filmes que tenham pelo menos 10 votos."
   ]
  },
  {
   "cell_type": "code",
   "execution_count": 16,
   "metadata": {},
   "outputs": [
    {
     "data": {
      "text/html": [
       "<div>\n",
       "<style scoped>\n",
       "    .dataframe tbody tr th:only-of-type {\n",
       "        vertical-align: middle;\n",
       "    }\n",
       "\n",
       "    .dataframe tbody tr th {\n",
       "        vertical-align: top;\n",
       "    }\n",
       "\n",
       "    .dataframe thead th {\n",
       "        text-align: right;\n",
       "    }\n",
       "</style>\n",
       "<table border=\"1\" class=\"dataframe\">\n",
       "  <thead>\n",
       "    <tr style=\"text-align: right;\">\n",
       "      <th></th>\n",
       "      <th>userId</th>\n",
       "      <th>rating</th>\n",
       "      <th>timestamp</th>\n",
       "    </tr>\n",
       "    <tr>\n",
       "      <th>movieId</th>\n",
       "      <th></th>\n",
       "      <th></th>\n",
       "      <th></th>\n",
       "    </tr>\n",
       "  </thead>\n",
       "  <tbody>\n",
       "    <tr>\n",
       "      <th>1</th>\n",
       "      <td>215</td>\n",
       "      <td>215</td>\n",
       "      <td>215</td>\n",
       "    </tr>\n",
       "    <tr>\n",
       "      <th>2</th>\n",
       "      <td>110</td>\n",
       "      <td>110</td>\n",
       "      <td>110</td>\n",
       "    </tr>\n",
       "    <tr>\n",
       "      <th>3</th>\n",
       "      <td>52</td>\n",
       "      <td>52</td>\n",
       "      <td>52</td>\n",
       "    </tr>\n",
       "    <tr>\n",
       "      <th>4</th>\n",
       "      <td>7</td>\n",
       "      <td>7</td>\n",
       "      <td>7</td>\n",
       "    </tr>\n",
       "    <tr>\n",
       "      <th>5</th>\n",
       "      <td>49</td>\n",
       "      <td>49</td>\n",
       "      <td>49</td>\n",
       "    </tr>\n",
       "    <tr>\n",
       "      <th>6</th>\n",
       "      <td>102</td>\n",
       "      <td>102</td>\n",
       "      <td>102</td>\n",
       "    </tr>\n",
       "    <tr>\n",
       "      <th>7</th>\n",
       "      <td>54</td>\n",
       "      <td>54</td>\n",
       "      <td>54</td>\n",
       "    </tr>\n",
       "    <tr>\n",
       "      <th>8</th>\n",
       "      <td>8</td>\n",
       "      <td>8</td>\n",
       "      <td>8</td>\n",
       "    </tr>\n",
       "    <tr>\n",
       "      <th>9</th>\n",
       "      <td>16</td>\n",
       "      <td>16</td>\n",
       "      <td>16</td>\n",
       "    </tr>\n",
       "    <tr>\n",
       "      <th>10</th>\n",
       "      <td>132</td>\n",
       "      <td>132</td>\n",
       "      <td>132</td>\n",
       "    </tr>\n",
       "    <tr>\n",
       "      <th>11</th>\n",
       "      <td>70</td>\n",
       "      <td>70</td>\n",
       "      <td>70</td>\n",
       "    </tr>\n",
       "    <tr>\n",
       "      <th>12</th>\n",
       "      <td>19</td>\n",
       "      <td>19</td>\n",
       "      <td>19</td>\n",
       "    </tr>\n",
       "    <tr>\n",
       "      <th>13</th>\n",
       "      <td>8</td>\n",
       "      <td>8</td>\n",
       "      <td>8</td>\n",
       "    </tr>\n",
       "    <tr>\n",
       "      <th>14</th>\n",
       "      <td>18</td>\n",
       "      <td>18</td>\n",
       "      <td>18</td>\n",
       "    </tr>\n",
       "    <tr>\n",
       "      <th>15</th>\n",
       "      <td>13</td>\n",
       "      <td>13</td>\n",
       "      <td>13</td>\n",
       "    </tr>\n",
       "    <tr>\n",
       "      <th>16</th>\n",
       "      <td>82</td>\n",
       "      <td>82</td>\n",
       "      <td>82</td>\n",
       "    </tr>\n",
       "    <tr>\n",
       "      <th>17</th>\n",
       "      <td>67</td>\n",
       "      <td>67</td>\n",
       "      <td>67</td>\n",
       "    </tr>\n",
       "    <tr>\n",
       "      <th>18</th>\n",
       "      <td>20</td>\n",
       "      <td>20</td>\n",
       "      <td>20</td>\n",
       "    </tr>\n",
       "    <tr>\n",
       "      <th>19</th>\n",
       "      <td>88</td>\n",
       "      <td>88</td>\n",
       "      <td>88</td>\n",
       "    </tr>\n",
       "    <tr>\n",
       "      <th>20</th>\n",
       "      <td>15</td>\n",
       "      <td>15</td>\n",
       "      <td>15</td>\n",
       "    </tr>\n",
       "    <tr>\n",
       "      <th>21</th>\n",
       "      <td>89</td>\n",
       "      <td>89</td>\n",
       "      <td>89</td>\n",
       "    </tr>\n",
       "    <tr>\n",
       "      <th>22</th>\n",
       "      <td>36</td>\n",
       "      <td>36</td>\n",
       "      <td>36</td>\n",
       "    </tr>\n",
       "    <tr>\n",
       "      <th>23</th>\n",
       "      <td>16</td>\n",
       "      <td>16</td>\n",
       "      <td>16</td>\n",
       "    </tr>\n",
       "    <tr>\n",
       "      <th>24</th>\n",
       "      <td>28</td>\n",
       "      <td>28</td>\n",
       "      <td>28</td>\n",
       "    </tr>\n",
       "    <tr>\n",
       "      <th>25</th>\n",
       "      <td>76</td>\n",
       "      <td>76</td>\n",
       "      <td>76</td>\n",
       "    </tr>\n",
       "    <tr>\n",
       "      <th>26</th>\n",
       "      <td>13</td>\n",
       "      <td>13</td>\n",
       "      <td>13</td>\n",
       "    </tr>\n",
       "    <tr>\n",
       "      <th>27</th>\n",
       "      <td>9</td>\n",
       "      <td>9</td>\n",
       "      <td>9</td>\n",
       "    </tr>\n",
       "    <tr>\n",
       "      <th>28</th>\n",
       "      <td>11</td>\n",
       "      <td>11</td>\n",
       "      <td>11</td>\n",
       "    </tr>\n",
       "    <tr>\n",
       "      <th>29</th>\n",
       "      <td>38</td>\n",
       "      <td>38</td>\n",
       "      <td>38</td>\n",
       "    </tr>\n",
       "    <tr>\n",
       "      <th>30</th>\n",
       "      <td>3</td>\n",
       "      <td>3</td>\n",
       "      <td>3</td>\n",
       "    </tr>\n",
       "    <tr>\n",
       "      <th>...</th>\n",
       "      <td>...</td>\n",
       "      <td>...</td>\n",
       "      <td>...</td>\n",
       "    </tr>\n",
       "    <tr>\n",
       "      <th>188189</th>\n",
       "      <td>1</td>\n",
       "      <td>1</td>\n",
       "      <td>1</td>\n",
       "    </tr>\n",
       "    <tr>\n",
       "      <th>188301</th>\n",
       "      <td>3</td>\n",
       "      <td>3</td>\n",
       "      <td>3</td>\n",
       "    </tr>\n",
       "    <tr>\n",
       "      <th>188675</th>\n",
       "      <td>1</td>\n",
       "      <td>1</td>\n",
       "      <td>1</td>\n",
       "    </tr>\n",
       "    <tr>\n",
       "      <th>188751</th>\n",
       "      <td>1</td>\n",
       "      <td>1</td>\n",
       "      <td>1</td>\n",
       "    </tr>\n",
       "    <tr>\n",
       "      <th>188797</th>\n",
       "      <td>1</td>\n",
       "      <td>1</td>\n",
       "      <td>1</td>\n",
       "    </tr>\n",
       "    <tr>\n",
       "      <th>188833</th>\n",
       "      <td>1</td>\n",
       "      <td>1</td>\n",
       "      <td>1</td>\n",
       "    </tr>\n",
       "    <tr>\n",
       "      <th>189043</th>\n",
       "      <td>1</td>\n",
       "      <td>1</td>\n",
       "      <td>1</td>\n",
       "    </tr>\n",
       "    <tr>\n",
       "      <th>189111</th>\n",
       "      <td>1</td>\n",
       "      <td>1</td>\n",
       "      <td>1</td>\n",
       "    </tr>\n",
       "    <tr>\n",
       "      <th>189333</th>\n",
       "      <td>2</td>\n",
       "      <td>2</td>\n",
       "      <td>2</td>\n",
       "    </tr>\n",
       "    <tr>\n",
       "      <th>189381</th>\n",
       "      <td>1</td>\n",
       "      <td>1</td>\n",
       "      <td>1</td>\n",
       "    </tr>\n",
       "    <tr>\n",
       "      <th>189547</th>\n",
       "      <td>1</td>\n",
       "      <td>1</td>\n",
       "      <td>1</td>\n",
       "    </tr>\n",
       "    <tr>\n",
       "      <th>189713</th>\n",
       "      <td>1</td>\n",
       "      <td>1</td>\n",
       "      <td>1</td>\n",
       "    </tr>\n",
       "    <tr>\n",
       "      <th>190183</th>\n",
       "      <td>1</td>\n",
       "      <td>1</td>\n",
       "      <td>1</td>\n",
       "    </tr>\n",
       "    <tr>\n",
       "      <th>190207</th>\n",
       "      <td>1</td>\n",
       "      <td>1</td>\n",
       "      <td>1</td>\n",
       "    </tr>\n",
       "    <tr>\n",
       "      <th>190209</th>\n",
       "      <td>1</td>\n",
       "      <td>1</td>\n",
       "      <td>1</td>\n",
       "    </tr>\n",
       "    <tr>\n",
       "      <th>190213</th>\n",
       "      <td>1</td>\n",
       "      <td>1</td>\n",
       "      <td>1</td>\n",
       "    </tr>\n",
       "    <tr>\n",
       "      <th>190215</th>\n",
       "      <td>1</td>\n",
       "      <td>1</td>\n",
       "      <td>1</td>\n",
       "    </tr>\n",
       "    <tr>\n",
       "      <th>190219</th>\n",
       "      <td>1</td>\n",
       "      <td>1</td>\n",
       "      <td>1</td>\n",
       "    </tr>\n",
       "    <tr>\n",
       "      <th>190221</th>\n",
       "      <td>1</td>\n",
       "      <td>1</td>\n",
       "      <td>1</td>\n",
       "    </tr>\n",
       "    <tr>\n",
       "      <th>191005</th>\n",
       "      <td>1</td>\n",
       "      <td>1</td>\n",
       "      <td>1</td>\n",
       "    </tr>\n",
       "    <tr>\n",
       "      <th>193565</th>\n",
       "      <td>1</td>\n",
       "      <td>1</td>\n",
       "      <td>1</td>\n",
       "    </tr>\n",
       "    <tr>\n",
       "      <th>193567</th>\n",
       "      <td>1</td>\n",
       "      <td>1</td>\n",
       "      <td>1</td>\n",
       "    </tr>\n",
       "    <tr>\n",
       "      <th>193571</th>\n",
       "      <td>1</td>\n",
       "      <td>1</td>\n",
       "      <td>1</td>\n",
       "    </tr>\n",
       "    <tr>\n",
       "      <th>193573</th>\n",
       "      <td>1</td>\n",
       "      <td>1</td>\n",
       "      <td>1</td>\n",
       "    </tr>\n",
       "    <tr>\n",
       "      <th>193579</th>\n",
       "      <td>1</td>\n",
       "      <td>1</td>\n",
       "      <td>1</td>\n",
       "    </tr>\n",
       "    <tr>\n",
       "      <th>193581</th>\n",
       "      <td>1</td>\n",
       "      <td>1</td>\n",
       "      <td>1</td>\n",
       "    </tr>\n",
       "    <tr>\n",
       "      <th>193583</th>\n",
       "      <td>1</td>\n",
       "      <td>1</td>\n",
       "      <td>1</td>\n",
       "    </tr>\n",
       "    <tr>\n",
       "      <th>193585</th>\n",
       "      <td>1</td>\n",
       "      <td>1</td>\n",
       "      <td>1</td>\n",
       "    </tr>\n",
       "    <tr>\n",
       "      <th>193587</th>\n",
       "      <td>1</td>\n",
       "      <td>1</td>\n",
       "      <td>1</td>\n",
       "    </tr>\n",
       "    <tr>\n",
       "      <th>193609</th>\n",
       "      <td>1</td>\n",
       "      <td>1</td>\n",
       "      <td>1</td>\n",
       "    </tr>\n",
       "  </tbody>\n",
       "</table>\n",
       "<p>9724 rows × 3 columns</p>\n",
       "</div>"
      ],
      "text/plain": [
       "         userId  rating  timestamp\n",
       "movieId                           \n",
       "1           215     215        215\n",
       "2           110     110        110\n",
       "3            52      52         52\n",
       "4             7       7          7\n",
       "5            49      49         49\n",
       "6           102     102        102\n",
       "7            54      54         54\n",
       "8             8       8          8\n",
       "9            16      16         16\n",
       "10          132     132        132\n",
       "11           70      70         70\n",
       "12           19      19         19\n",
       "13            8       8          8\n",
       "14           18      18         18\n",
       "15           13      13         13\n",
       "16           82      82         82\n",
       "17           67      67         67\n",
       "18           20      20         20\n",
       "19           88      88         88\n",
       "20           15      15         15\n",
       "21           89      89         89\n",
       "22           36      36         36\n",
       "23           16      16         16\n",
       "24           28      28         28\n",
       "25           76      76         76\n",
       "26           13      13         13\n",
       "27            9       9          9\n",
       "28           11      11         11\n",
       "29           38      38         38\n",
       "30            3       3          3\n",
       "...         ...     ...        ...\n",
       "188189        1       1          1\n",
       "188301        3       3          3\n",
       "188675        1       1          1\n",
       "188751        1       1          1\n",
       "188797        1       1          1\n",
       "188833        1       1          1\n",
       "189043        1       1          1\n",
       "189111        1       1          1\n",
       "189333        2       2          2\n",
       "189381        1       1          1\n",
       "189547        1       1          1\n",
       "189713        1       1          1\n",
       "190183        1       1          1\n",
       "190207        1       1          1\n",
       "190209        1       1          1\n",
       "190213        1       1          1\n",
       "190215        1       1          1\n",
       "190219        1       1          1\n",
       "190221        1       1          1\n",
       "191005        1       1          1\n",
       "193565        1       1          1\n",
       "193567        1       1          1\n",
       "193571        1       1          1\n",
       "193573        1       1          1\n",
       "193579        1       1          1\n",
       "193581        1       1          1\n",
       "193583        1       1          1\n",
       "193585        1       1          1\n",
       "193587        1       1          1\n",
       "193609        1       1          1\n",
       "\n",
       "[9724 rows x 3 columns]"
      ]
     },
     "execution_count": 16,
     "metadata": {},
     "output_type": "execute_result"
    }
   ],
   "source": [
    "filmes_com_pelo_menos_10_votos = quantidade_de_votos_por_filme.query(\"rating >- 10\")\n",
    "filmes_com_pelo_menos_10_votos"
   ]
  },
  {
   "cell_type": "markdown",
   "metadata": {},
   "source": [
    "- Note que o filtro nao funcionou, pois o campo MovieId é um index"
   ]
  },
  {
   "cell_type": "code",
   "execution_count": 17,
   "metadata": {},
   "outputs": [
    {
     "data": {
      "text/plain": [
       "Int64Index([     1,      2,      3,      5,      6,      7,      9,     10,\n",
       "                11,     12,\n",
       "            ...\n",
       "            166461, 166528, 166643, 168250, 168252, 174055, 176371, 177765,\n",
       "            179819, 187593],\n",
       "           dtype='int64', name='movieId', length=2269)"
      ]
     },
     "execution_count": 17,
     "metadata": {},
     "output_type": "execute_result"
    }
   ],
   "source": [
    "filmes_com_pelo_menos_10_votos = quantidade_de_votos_por_filme.query(\"rating >= 10\").index\n",
    "filmes_com_pelo_menos_10_votos"
   ]
  },
  {
   "cell_type": "code",
   "execution_count": 18,
   "metadata": {},
   "outputs": [
    {
     "data": {
      "text/plain": [
       "array([     1,      2,      3, ..., 177765, 179819, 187593], dtype=int64)"
      ]
     },
     "execution_count": 18,
     "metadata": {},
     "output_type": "execute_result"
    }
   ],
   "source": [
    "#uma maneira de visualizar apenas o array\n",
    "filmes_com_pelo_menos_10_votos.values"
   ]
  },
  {
   "cell_type": "markdown",
   "metadata": {},
   "source": [
    "#### Localizando apenas os filmes do array"
   ]
  },
  {
   "cell_type": "code",
   "execution_count": 19,
   "metadata": {},
   "outputs": [
    {
     "data": {
      "text/plain": [
       "movieId\n",
       "1         3.920930\n",
       "2         3.431818\n",
       "3         3.259615\n",
       "5         3.071429\n",
       "6         3.946078\n",
       "7         3.185185\n",
       "9         3.125000\n",
       "10        3.496212\n",
       "11        3.671429\n",
       "12        2.421053\n",
       "14        3.833333\n",
       "15        3.000000\n",
       "16        3.926829\n",
       "17        3.776119\n",
       "18        3.700000\n",
       "19        2.727273\n",
       "20        2.500000\n",
       "21        3.494382\n",
       "22        3.222222\n",
       "23        3.125000\n",
       "24        3.125000\n",
       "25        3.625000\n",
       "26        3.500000\n",
       "28        4.227273\n",
       "29        4.013158\n",
       "31        3.184211\n",
       "32        3.983051\n",
       "34        3.652344\n",
       "36        3.835821\n",
       "39        3.293269\n",
       "            ...   \n",
       "135536    2.916667\n",
       "135569    3.466667\n",
       "135887    3.166667\n",
       "136020    3.058824\n",
       "136864    2.343750\n",
       "137857    3.636364\n",
       "138036    3.472222\n",
       "139385    3.903226\n",
       "139644    3.545455\n",
       "140110    3.653846\n",
       "142488    4.157895\n",
       "143355    3.307692\n",
       "148626    3.961538\n",
       "150548    3.850000\n",
       "152077    3.678571\n",
       "152081    3.890625\n",
       "157296    3.576923\n",
       "158238    3.833333\n",
       "159093    3.636364\n",
       "164179    3.980769\n",
       "166461    3.450000\n",
       "166528    3.925926\n",
       "166643    3.800000\n",
       "168250    3.633333\n",
       "168252    4.280000\n",
       "174055    3.423077\n",
       "176371    3.805556\n",
       "177765    3.538462\n",
       "179819    3.125000\n",
       "187593    3.875000\n",
       "Name: rating, Length: 2269, dtype: float64"
      ]
     },
     "execution_count": 19,
     "metadata": {},
     "output_type": "execute_result"
    }
   ],
   "source": [
    "nota_media_dos_filmes_com_pelo_menos_10_votos = nota_media_por_filme.loc[filmes_com_pelo_menos_10_votos.values]\n",
    "nota_media_dos_filmes_com_pelo_menos_10_votos"
   ]
  },
  {
   "cell_type": "markdown",
   "metadata": {},
   "source": [
    "#### Montando novamente o grafico"
   ]
  },
  {
   "cell_type": "code",
   "execution_count": 20,
   "metadata": {},
   "outputs": [
    {
     "data": {
      "text/plain": [
       "Text(0.5, 1.0, 'Media de votos em filmes no MovieLens 100K com pelo menos 10 votos')"
      ]
     },
     "execution_count": 20,
     "metadata": {},
     "output_type": "execute_result"
    },
    {
     "data": {
      "image/png": "[encoded data removed]",
      "text/plain": [
       "<Figure size 1440x432 with 1 Axes>"
      ]
     },
     "metadata": {
      "needs_background": "light"
     },
     "output_type": "display_data"
    }
   ],
   "source": [
    "ax = sns.distplot(nota_media_dos_filmes_com_pelo_menos_10_votos.values)\n",
    "ax.figure.set_size_inches(20, 6)\n",
    "#ax.set(xlabel = 'Nota Media', ylabel='Densidade')\n",
    "ax.set_xlabel('Nota Media', fontsize=16)\n",
    "ax.set_ylabel('Densidade', fontsize=16)\n",
    "ax.set_title(\"Media de votos em filmes no MovieLens 100K com pelo menos 10 votos\", fontsize=20)"
   ]
  },
  {
   "cell_type": "markdown",
   "metadata": {},
   "source": [
    "- Agora o grafico ficou muio mais parecida com o que encontrado anteior TMDB."
   ]
  },
  {
   "cell_type": "code",
   "execution_count": 21,
   "metadata": {},
   "outputs": [
    {
     "data": {
      "text/plain": [
       "Text(0.5, 0, 'Nota Media do filme')"
      ]
     },
     "execution_count": 21,
     "metadata": {},
     "output_type": "execute_result"
    },
    {
     "data": {
      "image/png": "[encoded data removed]",
      "text/plain": [
       "<Figure size 1440x432 with 1 Axes>"
      ]
     },
     "metadata": {
      "needs_background": "light"
     },
     "output_type": "display_data"
    }
   ],
   "source": [
    "ax = sns.boxplot(x = nota_media_dos_filmes_com_pelo_menos_10_votos.values)\n",
    "ax.figure.set_size_inches(20, 6)\n",
    "ax.set_title(\"Media de votos em filmes no MovieLens 100k com 10 ou mais votos\", fontsize=20)\n",
    "ax.set_xlabel('Nota Media do filme', fontsize=16)"
   ]
  },
  {
   "cell_type": "markdown",
   "metadata": {},
   "source": [
    "### Funcao Acumulativa\n",
    "\n",
    "- Esta é uma forma de acumular os valores.\n",
    "- O cumulative é uma funcao do MatPlotLib e nao do Seaborn. As funções hist() e kde() pode receber arumentos extrar por meio de hist_kwd e kde_kws."
   ]
  },
  {
   "cell_type": "code",
   "execution_count": 22,
   "metadata": {},
   "outputs": [
    {
     "data": {
      "text/plain": [
       "Text(0.5, 1.0, 'Média de votos em filmes no MovieLens')"
      ]
     },
     "execution_count": 22,
     "metadata": {},
     "output_type": "execute_result"
    },
    {
     "data": {
      "image/png": "[encoded data removed]",
      "text/plain": [
       "<Figure size 1440x432 with 1 Axes>"
      ]
     },
     "metadata": {
      "needs_background": "light"
     },
     "output_type": "display_data"
    }
   ],
   "source": [
    "ax = sns.distplot(nota_media_dos_filmes_com_pelo_menos_10_votos, \n",
    "                  hist_kws = {'cumulative':True}, \n",
    "                  kde_kws = {'cumulative':True})\n",
    "ax.figure.set_size_inches(20, 6)\n",
    "ax.set(xlabel='Nota média', ylabel='Proporção acumulada de filmes')\n",
    "ax.set_title('Média de votos em filmes no MovieLens')"
   ]
  },
  {
   "cell_type": "markdown",
   "metadata": {},
   "source": [
    "## Analisando a distribuição dos dados capturados de outros campos do TMDB"
   ]
  },
  {
   "cell_type": "code",
   "execution_count": 23,
   "metadata": {},
   "outputs": [
    {
     "data": {
      "text/plain": [
       "0       11800\n",
       "1        4500\n",
       "2        4466\n",
       "3        9106\n",
       "4        2124\n",
       "5        3576\n",
       "6        3330\n",
       "7        6767\n",
       "8        5293\n",
       "9        7004\n",
       "10       1400\n",
       "11       2965\n",
       "12       5246\n",
       "13       2311\n",
       "14       6359\n",
       "15       1630\n",
       "16      11776\n",
       "17       4948\n",
       "18       4160\n",
       "19       4760\n",
       "20       6586\n",
       "21       1398\n",
       "22       4524\n",
       "23       1303\n",
       "24       2337\n",
       "25       7562\n",
       "26       7241\n",
       "27       2114\n",
       "28       8662\n",
       "29       7604\n",
       "        ...  \n",
       "4743       11\n",
       "4744       58\n",
       "4745       32\n",
       "4747       10\n",
       "4748      121\n",
       "4749       23\n",
       "4750       42\n",
       "4752       59\n",
       "4756       41\n",
       "4758      631\n",
       "4762       36\n",
       "4766       64\n",
       "4768       15\n",
       "4772       26\n",
       "4773      755\n",
       "4776       44\n",
       "4778      131\n",
       "4779       77\n",
       "4782       19\n",
       "4783       79\n",
       "4784       15\n",
       "4786       12\n",
       "4787       13\n",
       "4788      110\n",
       "4789       17\n",
       "4790       17\n",
       "4792       63\n",
       "4796      658\n",
       "4798      238\n",
       "4802       16\n",
       "Name: vote_count, Length: 4392, dtype: int64"
      ]
     },
     "execution_count": 23,
     "metadata": {},
     "output_type": "execute_result"
    }
   ],
   "source": [
    "tmdb_com_mais_de_10_votos.vote_count"
   ]
  },
  {
   "cell_type": "code",
   "execution_count": 24,
   "metadata": {},
   "outputs": [
    {
     "data": {
      "text/plain": [
       "Text(0.5, 1.0, 'Numero de votos em filmes no TMDB 5000 com pelo menos 10 votos')"
      ]
     },
     "execution_count": 24,
     "metadata": {},
     "output_type": "execute_result"
    },
    {
     "data": {
      "image/png": "[encoded data removed]",
      "text/plain": [
       "<Figure size 1440x432 with 1 Axes>"
      ]
     },
     "metadata": {
      "needs_background": "light"
     },
     "output_type": "display_data"
    }
   ],
   "source": [
    "ax = sns.distplot(tmdb_com_mais_de_10_votos.vote_count)\n",
    "ax.figure.set_size_inches(20, 6)\n",
    "#ax.set(xlabel = 'Nota Media', ylabel='Densidade')\n",
    "ax.set_xlabel('Numero de Votos', fontsize=16)\n",
    "ax.set_ylabel('Densidade', fontsize=16)\n",
    "ax.set_title(\"Numero de votos em filmes no TMDB 5000 com pelo menos 10 votos\", fontsize=20)"
   ]
  },
  {
   "cell_type": "markdown",
   "metadata": {},
   "source": [
    "- parece ser esponencial (bem diferente da anterior). Parece ser uma curva assintotica\n",
    "- filme muito popular tem muitos votos, filmes pouco popular tem poucos votos"
   ]
  },
  {
   "cell_type": "markdown",
   "metadata": {},
   "source": [
    "### Vamos ver agora o valor gasto, nao tem haver com votos"
   ]
  },
  {
   "cell_type": "code",
   "execution_count": 25,
   "metadata": {},
   "outputs": [
    {
     "data": {
      "text/plain": [
       "0       237000000\n",
       "1       300000000\n",
       "2       245000000\n",
       "3       250000000\n",
       "4       260000000\n",
       "5       258000000\n",
       "6       260000000\n",
       "7       280000000\n",
       "8       250000000\n",
       "9       250000000\n",
       "10      270000000\n",
       "11      200000000\n",
       "12      200000000\n",
       "13      255000000\n",
       "14      225000000\n",
       "15      225000000\n",
       "16      220000000\n",
       "17      380000000\n",
       "18      225000000\n",
       "19      250000000\n",
       "20      215000000\n",
       "21      200000000\n",
       "22      250000000\n",
       "23      180000000\n",
       "24      207000000\n",
       "25      200000000\n",
       "26      250000000\n",
       "27      209000000\n",
       "28      150000000\n",
       "29      200000000\n",
       "          ...    \n",
       "4773        27000\n",
       "4774        27000\n",
       "4775            0\n",
       "4776            0\n",
       "4777            0\n",
       "4778            0\n",
       "4779            0\n",
       "4780            0\n",
       "4781        22000\n",
       "4782            0\n",
       "4783            0\n",
       "4784            0\n",
       "4785            0\n",
       "4786            0\n",
       "4787            0\n",
       "4788        12000\n",
       "4789            0\n",
       "4790            0\n",
       "4791           13\n",
       "4792        20000\n",
       "4793            0\n",
       "4794            0\n",
       "4795            0\n",
       "4796         7000\n",
       "4797            0\n",
       "4798       220000\n",
       "4799         9000\n",
       "4800            0\n",
       "4801            0\n",
       "4802            0\n",
       "Name: budget, Length: 4803, dtype: int64"
      ]
     },
     "execution_count": 25,
     "metadata": {},
     "output_type": "execute_result"
    }
   ],
   "source": [
    "tmdb.budget"
   ]
  },
  {
   "cell_type": "markdown",
   "metadata": {},
   "source": [
    "- Encontramos filmes sem dados de gasto"
   ]
  },
  {
   "cell_type": "code",
   "execution_count": 26,
   "metadata": {},
   "outputs": [
    {
     "data": {
      "text/plain": [
       "0       237000000\n",
       "1       300000000\n",
       "2       245000000\n",
       "3       250000000\n",
       "4       260000000\n",
       "5       258000000\n",
       "6       260000000\n",
       "7       280000000\n",
       "8       250000000\n",
       "9       250000000\n",
       "10      270000000\n",
       "11      200000000\n",
       "12      200000000\n",
       "13      255000000\n",
       "14      225000000\n",
       "15      225000000\n",
       "16      220000000\n",
       "17      380000000\n",
       "18      225000000\n",
       "19      250000000\n",
       "20      215000000\n",
       "21      200000000\n",
       "22      250000000\n",
       "23      180000000\n",
       "24      207000000\n",
       "25      200000000\n",
       "26      250000000\n",
       "27      209000000\n",
       "28      150000000\n",
       "29      200000000\n",
       "          ...    \n",
       "4718       120000\n",
       "4719       120000\n",
       "4720      8500000\n",
       "4722       100000\n",
       "4723       100000\n",
       "4724        10000\n",
       "4736          100\n",
       "4738        60000\n",
       "4741        75000\n",
       "4742        65000\n",
       "4745        62000\n",
       "4748        70000\n",
       "4752        65000\n",
       "4753        60000\n",
       "4755        50000\n",
       "4756        50000\n",
       "4758      4000000\n",
       "4759        50000\n",
       "4767        50000\n",
       "4770       500000\n",
       "4772        31192\n",
       "4773        27000\n",
       "4774        27000\n",
       "4781        22000\n",
       "4788        12000\n",
       "4791           13\n",
       "4792        20000\n",
       "4796         7000\n",
       "4798       220000\n",
       "4799         9000\n",
       "Name: budget, Length: 3766, dtype: int64"
      ]
     },
     "execution_count": 26,
     "metadata": {},
     "output_type": "execute_result"
    }
   ],
   "source": [
    "tmdb.query(\"budget > 0\").budget"
   ]
  },
  {
   "cell_type": "code",
   "execution_count": 27,
   "metadata": {},
   "outputs": [
    {
     "data": {
      "text/plain": [
       "Text(0.5, 1.0, 'Gastos em filmes no TMDB 5000')"
      ]
     },
     "execution_count": 27,
     "metadata": {},
     "output_type": "execute_result"
    },
    {
     "data": {
      "image/png": "[encoded data removed]",
      "text/plain": [
       "<Figure size 1440x432 with 1 Axes>"
      ]
     },
     "metadata": {
      "needs_background": "light"
     },
     "output_type": "display_data"
    }
   ],
   "source": [
    "ax = sns.distplot(tmdb.query(\"budget > 0\").budget)\n",
    "ax.figure.set_size_inches(20, 6)\n",
    "#ax.set(xlabel = 'Nota Media', ylabel='Densidade')\n",
    "ax.set_xlabel('Budget (gastos e milhoes)', fontsize=16)\n",
    "ax.set_ylabel('Densidade', fontsize=16)\n",
    "ax.set_title(\"Gastos em filmes no TMDB 5000\", fontsize=20)"
   ]
  },
  {
   "cell_type": "markdown",
   "metadata": {},
   "source": [
    "- A escala esta em milhoes"
   ]
  },
  {
   "cell_type": "code",
   "execution_count": 28,
   "metadata": {},
   "outputs": [
    {
     "data": {
      "text/plain": [
       "0       150.437577\n",
       "1       139.082615\n",
       "2       107.376788\n",
       "3       112.312950\n",
       "4        43.926995\n",
       "5       115.699814\n",
       "6        48.681969\n",
       "7       134.279229\n",
       "8        98.885637\n",
       "9       155.790452\n",
       "10       57.925623\n",
       "11      107.928811\n",
       "12      145.847379\n",
       "13       49.046956\n",
       "14       99.398009\n",
       "15       53.978602\n",
       "16      144.448633\n",
       "17      135.413856\n",
       "18       52.035179\n",
       "19      120.965743\n",
       "20       89.866276\n",
       "21       37.668301\n",
       "22       94.370564\n",
       "23       42.990906\n",
       "24       61.226010\n",
       "25      100.025899\n",
       "26      198.372395\n",
       "27       64.928382\n",
       "28      418.708552\n",
       "29       93.004993\n",
       "           ...    \n",
       "4773     19.748658\n",
       "4774      0.027811\n",
       "4775      0.362633\n",
       "4776      2.634007\n",
       "4777      0.039264\n",
       "4778      7.101197\n",
       "4779      3.320622\n",
       "4780      0.038143\n",
       "4781      0.048948\n",
       "4782      1.048524\n",
       "4783      3.619167\n",
       "4784      1.243955\n",
       "4785      0.327794\n",
       "4786      0.674570\n",
       "4787      3.545991\n",
       "4788      4.553644\n",
       "4789      1.464566\n",
       "4790      1.193779\n",
       "4791      0.332679\n",
       "4792      0.212443\n",
       "4793      0.029757\n",
       "4794      0.166513\n",
       "4795      0.918116\n",
       "4796     23.307949\n",
       "4797      0.022173\n",
       "4798     14.269792\n",
       "4799      0.642552\n",
       "4800      1.444476\n",
       "4801      0.857008\n",
       "4802      1.929883\n",
       "Name: popularity, Length: 4803, dtype: float64"
      ]
     },
     "execution_count": 28,
     "metadata": {},
     "output_type": "execute_result"
    }
   ],
   "source": [
    "tmdb.popularity"
   ]
  },
  {
   "cell_type": "code",
   "execution_count": 29,
   "metadata": {},
   "outputs": [
    {
     "data": {
      "text/html": [
       "<div>\n",
       "<style scoped>\n",
       "    .dataframe tbody tr th:only-of-type {\n",
       "        vertical-align: middle;\n",
       "    }\n",
       "\n",
       "    .dataframe tbody tr th {\n",
       "        vertical-align: top;\n",
       "    }\n",
       "\n",
       "    .dataframe thead th {\n",
       "        text-align: right;\n",
       "    }\n",
       "</style>\n",
       "<table border=\"1\" class=\"dataframe\">\n",
       "  <thead>\n",
       "    <tr style=\"text-align: right;\">\n",
       "      <th></th>\n",
       "      <th>budget</th>\n",
       "      <th>genres</th>\n",
       "      <th>homepage</th>\n",
       "      <th>id</th>\n",
       "      <th>keywords</th>\n",
       "      <th>original_language</th>\n",
       "      <th>original_title</th>\n",
       "      <th>overview</th>\n",
       "      <th>popularity</th>\n",
       "      <th>production_companies</th>\n",
       "      <th>production_countries</th>\n",
       "      <th>release_date</th>\n",
       "      <th>revenue</th>\n",
       "      <th>runtime</th>\n",
       "      <th>spoken_languages</th>\n",
       "      <th>status</th>\n",
       "      <th>tagline</th>\n",
       "      <th>title</th>\n",
       "      <th>vote_average</th>\n",
       "      <th>vote_count</th>\n",
       "    </tr>\n",
       "  </thead>\n",
       "  <tbody>\n",
       "    <tr>\n",
       "      <th>4553</th>\n",
       "      <td>0</td>\n",
       "      <td>[]</td>\n",
       "      <td>NaN</td>\n",
       "      <td>380097</td>\n",
       "      <td>[]</td>\n",
       "      <td>en</td>\n",
       "      <td>America Is Still the Place</td>\n",
       "      <td>1971 post civil rights San Francisco seemed li...</td>\n",
       "      <td>0.0</td>\n",
       "      <td>[]</td>\n",
       "      <td>[]</td>\n",
       "      <td>NaN</td>\n",
       "      <td>0</td>\n",
       "      <td>0.0</td>\n",
       "      <td>[]</td>\n",
       "      <td>Released</td>\n",
       "      <td>NaN</td>\n",
       "      <td>America Is Still the Place</td>\n",
       "      <td>0.0</td>\n",
       "      <td>0</td>\n",
       "    </tr>\n",
       "  </tbody>\n",
       "</table>\n",
       "</div>"
      ],
      "text/plain": [
       "      budget genres homepage      id keywords original_language  \\\n",
       "4553       0     []      NaN  380097       []                en   \n",
       "\n",
       "                  original_title  \\\n",
       "4553  America Is Still the Place   \n",
       "\n",
       "                                               overview  popularity  \\\n",
       "4553  1971 post civil rights San Francisco seemed li...         0.0   \n",
       "\n",
       "     production_companies production_countries release_date  revenue  runtime  \\\n",
       "4553                   []                   []          NaN        0      0.0   \n",
       "\n",
       "     spoken_languages    status tagline                       title  \\\n",
       "4553               []  Released     NaN  America Is Still the Place   \n",
       "\n",
       "      vote_average  vote_count  \n",
       "4553           0.0           0  "
      ]
     },
     "execution_count": 29,
     "metadata": {},
     "output_type": "execute_result"
    }
   ],
   "source": [
    "tmdb.query(\"popularity ==0\")"
   ]
  },
  {
   "cell_type": "code",
   "execution_count": 30,
   "metadata": {},
   "outputs": [
    {
     "data": {
      "text/plain": [
       "Text(0.5, 1.0, 'Popularidade em filmes no TMDB 5000')"
      ]
     },
     "execution_count": 30,
     "metadata": {},
     "output_type": "execute_result"
    },
    {
     "data": {
      "image/png": "[encoded data removed]",
      "text/plain": [
       "<Figure size 1440x432 with 1 Axes>"
      ]
     },
     "metadata": {
      "needs_background": "light"
     },
     "output_type": "display_data"
    }
   ],
   "source": [
    "ax = sns.distplot(tmdb.popularity)\n",
    "ax.figure.set_size_inches(20, 6)\n",
    "#ax.set(xlabel = 'Nota Media', ylabel='Densidade')\n",
    "ax.set_xlabel('Popularidade', fontsize=16)\n",
    "ax.set_ylabel('Densidade', fontsize=16)\n",
    "ax.set_title(\"Popularidade em filmes no TMDB 5000\", fontsize=20)"
   ]
  },
  {
   "cell_type": "code",
   "execution_count": 31,
   "metadata": {},
   "outputs": [
    {
     "data": {
      "text/plain": [
       "0       162.0\n",
       "1       169.0\n",
       "2       148.0\n",
       "3       165.0\n",
       "4       132.0\n",
       "5       139.0\n",
       "6       100.0\n",
       "7       141.0\n",
       "8       153.0\n",
       "9       151.0\n",
       "10      154.0\n",
       "11      106.0\n",
       "12      151.0\n",
       "13      149.0\n",
       "14      143.0\n",
       "15      150.0\n",
       "16      143.0\n",
       "17      136.0\n",
       "18      106.0\n",
       "19      144.0\n",
       "20      136.0\n",
       "21      140.0\n",
       "22      161.0\n",
       "23      113.0\n",
       "24      187.0\n",
       "25      194.0\n",
       "26      147.0\n",
       "27      131.0\n",
       "28      124.0\n",
       "29      143.0\n",
       "        ...  \n",
       "4773     92.0\n",
       "4774     64.0\n",
       "4775     85.0\n",
       "4776     97.0\n",
       "4777     78.0\n",
       "4778     85.0\n",
       "4779     97.0\n",
       "4780     90.0\n",
       "4781     90.0\n",
       "4782    120.0\n",
       "4783     91.0\n",
       "4784     85.0\n",
       "4785     60.0\n",
       "4786     88.0\n",
       "4787     78.0\n",
       "4788     93.0\n",
       "4789    111.0\n",
       "4790     90.0\n",
       "4791     84.0\n",
       "4792    111.0\n",
       "4793     90.0\n",
       "4794     82.0\n",
       "4795     98.0\n",
       "4796     77.0\n",
       "4797     80.0\n",
       "4798     81.0\n",
       "4799     85.0\n",
       "4800    120.0\n",
       "4801     98.0\n",
       "4802     90.0\n",
       "Name: runtime, Length: 4803, dtype: float64"
      ]
     },
     "execution_count": 31,
     "metadata": {},
     "output_type": "execute_result"
    }
   ],
   "source": [
    "tmdb.runtime"
   ]
  },
  {
   "cell_type": "code",
   "execution_count": 32,
   "metadata": {},
   "outputs": [
    {
     "name": "stdout",
     "output_type": "stream",
     "text": [
      "Oops!  cannot convert float NaN to integer\n"
     ]
    },
    {
     "data": {
      "image/png": "[encoded data removed]",
      "text/plain": [
       "<Figure size 432x288 with 1 Axes>"
      ]
     },
     "metadata": {
      "needs_background": "light"
     },
     "output_type": "display_data"
    }
   ],
   "source": [
    "try:\n",
    "    ax = sns.distplot(tmdb.runtime)\n",
    "    ax.figure.set_size_inches(20, 6)\n",
    "    #ax.set(xlabel = 'Nota Media', ylabel='Densidade')\n",
    "    ax.set_xlabel('Tempo de duração de um filme', fontsize=16)\n",
    "    ax.set_ylabel('Densidade', fontsize=16)\n",
    "    ax.set_title(\"Tempo de duracao dos no TMDB 5000\", fontsize=20)\n",
    "except ValueError:\n",
    "    print(\"Oops!  cannot convert float NaN to integer\")"
   ]
  },
  {
   "cell_type": "markdown",
   "metadata": {},
   "source": [
    "- Note que tem na coleçao runtime um elemento que nem numero é. Pode ser um texto ou um campo vazio."
   ]
  },
  {
   "cell_type": "code",
   "execution_count": 33,
   "metadata": {},
   "outputs": [
    {
     "data": {
      "text/plain": [
       "2"
      ]
     },
     "execution_count": 33,
     "metadata": {},
     "output_type": "execute_result"
    }
   ],
   "source": [
    "# conta quantos são nulos \n",
    "tmdb.runtime.isnull().sum()"
   ]
  },
  {
   "cell_type": "code",
   "execution_count": 34,
   "metadata": {},
   "outputs": [
    {
     "data": {
      "text/plain": [
       "Text(0.5, 1.0, 'Tempo de duracao dos no TMDB 5000')"
      ]
     },
     "execution_count": 34,
     "metadata": {},
     "output_type": "execute_result"
    },
    {
     "data": {
      "image/png": "[encoded data removed]",
      "text/plain": [
       "<Figure size 1440x432 with 1 Axes>"
      ]
     },
     "metadata": {
      "needs_background": "light"
     },
     "output_type": "display_data"
    }
   ],
   "source": [
    "#fazendo drop dos valores nulos atraves do DROPNA do Pandas\n",
    "ax = sns.distplot(tmdb.runtime.dropna())\n",
    "ax.figure.set_size_inches(20, 6)\n",
    "#ax.set(xlabel = 'Nota Media', ylabel='Densidade')\n",
    "ax.set_xlabel('Tempo de duração de um filme', fontsize=16)\n",
    "ax.set_ylabel('Densidade', fontsize=16)\n",
    "ax.set_title(\"Tempo de duracao dos no TMDB 5000\", fontsize=20)"
   ]
  },
  {
   "cell_type": "markdown",
   "metadata": {},
   "source": [
    "- Note que tem alguns filmes com tamanho zero."
   ]
  },
  {
   "cell_type": "code",
   "execution_count": 35,
   "metadata": {},
   "outputs": [
    {
     "data": {
      "text/html": [
       "<div>\n",
       "<style scoped>\n",
       "    .dataframe tbody tr th:only-of-type {\n",
       "        vertical-align: middle;\n",
       "    }\n",
       "\n",
       "    .dataframe tbody tr th {\n",
       "        vertical-align: top;\n",
       "    }\n",
       "\n",
       "    .dataframe thead th {\n",
       "        text-align: right;\n",
       "    }\n",
       "</style>\n",
       "<table border=\"1\" class=\"dataframe\">\n",
       "  <thead>\n",
       "    <tr style=\"text-align: right;\">\n",
       "      <th></th>\n",
       "      <th>budget</th>\n",
       "      <th>genres</th>\n",
       "      <th>homepage</th>\n",
       "      <th>id</th>\n",
       "      <th>keywords</th>\n",
       "      <th>original_language</th>\n",
       "      <th>original_title</th>\n",
       "      <th>overview</th>\n",
       "      <th>popularity</th>\n",
       "      <th>production_companies</th>\n",
       "      <th>production_countries</th>\n",
       "      <th>release_date</th>\n",
       "      <th>revenue</th>\n",
       "      <th>runtime</th>\n",
       "      <th>spoken_languages</th>\n",
       "      <th>status</th>\n",
       "      <th>tagline</th>\n",
       "      <th>title</th>\n",
       "      <th>vote_average</th>\n",
       "      <th>vote_count</th>\n",
       "    </tr>\n",
       "  </thead>\n",
       "  <tbody>\n",
       "    <tr>\n",
       "      <th>1011</th>\n",
       "      <td>0</td>\n",
       "      <td>[{\"id\": 27, \"name\": \"Horror\"}]</td>\n",
       "      <td>NaN</td>\n",
       "      <td>53953</td>\n",
       "      <td>[{\"id\": 10292, \"name\": \"gore\"}, {\"id\": 12339, ...</td>\n",
       "      <td>de</td>\n",
       "      <td>The Tooth Fairy</td>\n",
       "      <td>A woman and her daughter (Nicole Muñoz) encoun...</td>\n",
       "      <td>0.716764</td>\n",
       "      <td>[]</td>\n",
       "      <td>[]</td>\n",
       "      <td>2006-08-08</td>\n",
       "      <td>0</td>\n",
       "      <td>0.0</td>\n",
       "      <td>[{\"iso_639_1\": \"en\", \"name\": \"English\"}, {\"iso...</td>\n",
       "      <td>Released</td>\n",
       "      <td>NaN</td>\n",
       "      <td>The Tooth Fairy</td>\n",
       "      <td>4.3</td>\n",
       "      <td>13</td>\n",
       "    </tr>\n",
       "    <tr>\n",
       "      <th>3112</th>\n",
       "      <td>0</td>\n",
       "      <td>[{\"id\": 18, \"name\": \"Drama\"}, {\"id\": 80, \"name...</td>\n",
       "      <td>NaN</td>\n",
       "      <td>41894</td>\n",
       "      <td>[]</td>\n",
       "      <td>en</td>\n",
       "      <td>Blood Done Sign My Name</td>\n",
       "      <td>A drama based on the true story in which a bla...</td>\n",
       "      <td>0.397341</td>\n",
       "      <td>[]</td>\n",
       "      <td>[]</td>\n",
       "      <td>2010-02-01</td>\n",
       "      <td>0</td>\n",
       "      <td>0.0</td>\n",
       "      <td>[]</td>\n",
       "      <td>Released</td>\n",
       "      <td>No one changes the world alone.</td>\n",
       "      <td>Blood Done Sign My Name</td>\n",
       "      <td>6.0</td>\n",
       "      <td>5</td>\n",
       "    </tr>\n",
       "    <tr>\n",
       "      <th>3669</th>\n",
       "      <td>0</td>\n",
       "      <td>[{\"id\": 35, \"name\": \"Comedy\"}, {\"id\": 18, \"nam...</td>\n",
       "      <td>http://www.romeothemovie.com/</td>\n",
       "      <td>113406</td>\n",
       "      <td>[]</td>\n",
       "      <td>en</td>\n",
       "      <td>Should've Been Romeo</td>\n",
       "      <td>A self-centered, middle-aged pitchman for a po...</td>\n",
       "      <td>0.407030</td>\n",
       "      <td>[{\"name\": \"Phillybrook Films\", \"id\": 65147}]</td>\n",
       "      <td>[{\"iso_3166_1\": \"US\", \"name\": \"United States o...</td>\n",
       "      <td>2012-04-28</td>\n",
       "      <td>0</td>\n",
       "      <td>0.0</td>\n",
       "      <td>[{\"iso_639_1\": \"en\", \"name\": \"English\"}]</td>\n",
       "      <td>Released</td>\n",
       "      <td>Even Shakespeare didn't see this one coming.</td>\n",
       "      <td>Should've Been Romeo</td>\n",
       "      <td>0.0</td>\n",
       "      <td>0</td>\n",
       "    </tr>\n",
       "    <tr>\n",
       "      <th>3809</th>\n",
       "      <td>4000000</td>\n",
       "      <td>[{\"id\": 35, \"name\": \"Comedy\"}, {\"id\": 10749, \"...</td>\n",
       "      <td>NaN</td>\n",
       "      <td>158150</td>\n",
       "      <td>[]</td>\n",
       "      <td>en</td>\n",
       "      <td>How to Fall in Love</td>\n",
       "      <td>An accountant, who never quite grew out of his...</td>\n",
       "      <td>1.923514</td>\n",
       "      <td>[{\"name\": \"Annuit Coeptis Entertainment Inc.\",...</td>\n",
       "      <td>[{\"iso_3166_1\": \"US\", \"name\": \"United States o...</td>\n",
       "      <td>2012-07-21</td>\n",
       "      <td>0</td>\n",
       "      <td>0.0</td>\n",
       "      <td>[{\"iso_639_1\": \"en\", \"name\": \"English\"}]</td>\n",
       "      <td>Released</td>\n",
       "      <td>NaN</td>\n",
       "      <td>How to Fall in Love</td>\n",
       "      <td>5.2</td>\n",
       "      <td>20</td>\n",
       "    </tr>\n",
       "    <tr>\n",
       "      <th>3953</th>\n",
       "      <td>0</td>\n",
       "      <td>[{\"id\": 10752, \"name\": \"War\"}, {\"id\": 18, \"nam...</td>\n",
       "      <td>NaN</td>\n",
       "      <td>281230</td>\n",
       "      <td>[{\"id\": 187056, \"name\": \"woman director\"}]</td>\n",
       "      <td>en</td>\n",
       "      <td>Fort McCoy</td>\n",
       "      <td>Unable to serve in World War II because of a h...</td>\n",
       "      <td>0.384496</td>\n",
       "      <td>[]</td>\n",
       "      <td>[]</td>\n",
       "      <td>2014-01-01</td>\n",
       "      <td>0</td>\n",
       "      <td>0.0</td>\n",
       "      <td>[]</td>\n",
       "      <td>Released</td>\n",
       "      <td>NaN</td>\n",
       "      <td>Fort McCoy</td>\n",
       "      <td>6.3</td>\n",
       "      <td>2</td>\n",
       "    </tr>\n",
       "  </tbody>\n",
       "</table>\n",
       "</div>"
      ],
      "text/plain": [
       "       budget                                             genres  \\\n",
       "1011        0                     [{\"id\": 27, \"name\": \"Horror\"}]   \n",
       "3112        0  [{\"id\": 18, \"name\": \"Drama\"}, {\"id\": 80, \"name...   \n",
       "3669        0  [{\"id\": 35, \"name\": \"Comedy\"}, {\"id\": 18, \"nam...   \n",
       "3809  4000000  [{\"id\": 35, \"name\": \"Comedy\"}, {\"id\": 10749, \"...   \n",
       "3953        0  [{\"id\": 10752, \"name\": \"War\"}, {\"id\": 18, \"nam...   \n",
       "\n",
       "                           homepage      id  \\\n",
       "1011                            NaN   53953   \n",
       "3112                            NaN   41894   \n",
       "3669  http://www.romeothemovie.com/  113406   \n",
       "3809                            NaN  158150   \n",
       "3953                            NaN  281230   \n",
       "\n",
       "                                               keywords original_language  \\\n",
       "1011  [{\"id\": 10292, \"name\": \"gore\"}, {\"id\": 12339, ...                de   \n",
       "3112                                                 []                en   \n",
       "3669                                                 []                en   \n",
       "3809                                                 []                en   \n",
       "3953         [{\"id\": 187056, \"name\": \"woman director\"}]                en   \n",
       "\n",
       "               original_title  \\\n",
       "1011          The Tooth Fairy   \n",
       "3112  Blood Done Sign My Name   \n",
       "3669     Should've Been Romeo   \n",
       "3809      How to Fall in Love   \n",
       "3953               Fort McCoy   \n",
       "\n",
       "                                               overview  popularity  \\\n",
       "1011  A woman and her daughter (Nicole Muñoz) encoun...    0.716764   \n",
       "3112  A drama based on the true story in which a bla...    0.397341   \n",
       "3669  A self-centered, middle-aged pitchman for a po...    0.407030   \n",
       "3809  An accountant, who never quite grew out of his...    1.923514   \n",
       "3953  Unable to serve in World War II because of a h...    0.384496   \n",
       "\n",
       "                                   production_companies  \\\n",
       "1011                                                 []   \n",
       "3112                                                 []   \n",
       "3669       [{\"name\": \"Phillybrook Films\", \"id\": 65147}]   \n",
       "3809  [{\"name\": \"Annuit Coeptis Entertainment Inc.\",...   \n",
       "3953                                                 []   \n",
       "\n",
       "                                   production_countries release_date  revenue  \\\n",
       "1011                                                 []   2006-08-08        0   \n",
       "3112                                                 []   2010-02-01        0   \n",
       "3669  [{\"iso_3166_1\": \"US\", \"name\": \"United States o...   2012-04-28        0   \n",
       "3809  [{\"iso_3166_1\": \"US\", \"name\": \"United States o...   2012-07-21        0   \n",
       "3953                                                 []   2014-01-01        0   \n",
       "\n",
       "      runtime                                   spoken_languages    status  \\\n",
       "1011      0.0  [{\"iso_639_1\": \"en\", \"name\": \"English\"}, {\"iso...  Released   \n",
       "3112      0.0                                                 []  Released   \n",
       "3669      0.0           [{\"iso_639_1\": \"en\", \"name\": \"English\"}]  Released   \n",
       "3809      0.0           [{\"iso_639_1\": \"en\", \"name\": \"English\"}]  Released   \n",
       "3953      0.0                                                 []  Released   \n",
       "\n",
       "                                           tagline                    title  \\\n",
       "1011                                           NaN          The Tooth Fairy   \n",
       "3112               No one changes the world alone.  Blood Done Sign My Name   \n",
       "3669  Even Shakespeare didn't see this one coming.     Should've Been Romeo   \n",
       "3809                                           NaN      How to Fall in Love   \n",
       "3953                                           NaN               Fort McCoy   \n",
       "\n",
       "      vote_average  vote_count  \n",
       "1011           4.3          13  \n",
       "3112           6.0           5  \n",
       "3669           0.0           0  \n",
       "3809           5.2          20  \n",
       "3953           6.3           2  "
      ]
     },
     "execution_count": 35,
     "metadata": {},
     "output_type": "execute_result"
    }
   ],
   "source": [
    "tmdb.query(\"runtime == 0\").head()"
   ]
  },
  {
   "cell_type": "code",
   "execution_count": 36,
   "metadata": {},
   "outputs": [
    {
     "data": {
      "text/plain": [
       "Text(0.5, 1.0, 'Tempo de duracao dos no TMDB 5000, ignorando zeros e nulos')"
      ]
     },
     "execution_count": 36,
     "metadata": {},
     "output_type": "execute_result"
    },
    {
     "data": {
      "image/png": "[encoded data removed]",
      "text/plain": [
       "<Figure size 1440x432 with 1 Axes>"
      ]
     },
     "metadata": {
      "needs_background": "light"
     },
     "output_type": "display_data"
    }
   ],
   "source": [
    "ax = sns.distplot(tmdb.query(\"runtime > 0\").runtime.dropna())\n",
    "ax.figure.set_size_inches(20, 6)\n",
    "#ax.set(xlabel = 'Nota Media', ylabel='Densidade')\n",
    "ax.set_xlabel('Tempo de duração de um filme', fontsize=16)\n",
    "ax.set_ylabel('Densidade', fontsize=16)\n",
    "ax.set_title(\"Tempo de duracao dos no TMDB 5000, ignorando zeros e nulos\", fontsize=20)"
   ]
  },
  {
   "cell_type": "markdown",
   "metadata": {},
   "source": [
    "#### Analisando de forma cumulativa"
   ]
  },
  {
   "cell_type": "code",
   "execution_count": 37,
   "metadata": {},
   "outputs": [
    {
     "data": {
      "text/plain": [
       "Text(0.5, 1.0, 'Tempo de duracao dos no TMDB 5000, ignorando zeros e nulos')"
      ]
     },
     "execution_count": 37,
     "metadata": {},
     "output_type": "execute_result"
    },
    {
     "data": {
      "image/png": "[encoded data removed]",
      "text/plain": [
       "<Figure size 1440x432 with 1 Axes>"
      ]
     },
     "metadata": {
      "needs_background": "light"
     },
     "output_type": "display_data"
    }
   ],
   "source": [
    "ax = sns.distplot(tmdb.query(\"runtime > 0\").runtime.dropna(),\n",
    "                 hist_kws={'cumulative' : True}, kde_kws= {'cumulative' : True}                 )\n",
    "ax.figure.set_size_inches(20, 6)\n",
    "#ax.set(xlabel = 'Nota Media', ylabel='Densidade')\n",
    "ax.set_xlabel('Tempo de duração de um filme', fontsize=16)\n",
    "ax.set_ylabel('Porcentagem/Proporção de filmes', fontsize=16)\n",
    "ax.set_title(\"Tempo de duracao dos no TMDB 5000, ignorando zeros e nulos\", fontsize=20)"
   ]
  },
  {
   "cell_type": "markdown",
   "metadata": {},
   "source": [
    "Estimações visuais\n",
    "- 40% dos filmes tem menos que 100 minutos de duração\n",
    "- 60% dos filmes tem menos que 110 minutos\n",
    "- 20% dos filmes tem mais de ~ 2hs"
   ]
  },
  {
   "cell_type": "code",
   "execution_count": 38,
   "metadata": {},
   "outputs": [
    {
     "data": {
      "text/plain": [
       "121.0"
      ]
     },
     "execution_count": 38,
     "metadata": {},
     "output_type": "execute_result"
    }
   ],
   "source": [
    "#Estimação mais precisa, pelo quantile\n",
    "tmdb.query(\"runtime > 0\").runtime.dropna().quantile(0.8)"
   ]
  },
  {
   "cell_type": "markdown",
   "metadata": {},
   "source": [
    "# Chapter 3\n",
    "## Movielens: Média dos filmes com pelo menos 10 votos"
   ]
  },
  {
   "cell_type": "code",
   "execution_count": 59,
   "metadata": {},
   "outputs": [
    {
     "data": {
      "text/plain": [
       "movieId\n",
       "1         3.920930\n",
       "2         3.431818\n",
       "3         3.259615\n",
       "5         3.071429\n",
       "6         3.946078\n",
       "7         3.185185\n",
       "9         3.125000\n",
       "10        3.496212\n",
       "11        3.671429\n",
       "12        2.421053\n",
       "14        3.833333\n",
       "15        3.000000\n",
       "16        3.926829\n",
       "17        3.776119\n",
       "18        3.700000\n",
       "19        2.727273\n",
       "20        2.500000\n",
       "21        3.494382\n",
       "22        3.222222\n",
       "23        3.125000\n",
       "24        3.125000\n",
       "25        3.625000\n",
       "26        3.500000\n",
       "28        4.227273\n",
       "29        4.013158\n",
       "31        3.184211\n",
       "32        3.983051\n",
       "34        3.652344\n",
       "36        3.835821\n",
       "39        3.293269\n",
       "            ...   \n",
       "135536    2.916667\n",
       "135569    3.466667\n",
       "135887    3.166667\n",
       "136020    3.058824\n",
       "136864    2.343750\n",
       "137857    3.636364\n",
       "138036    3.472222\n",
       "139385    3.903226\n",
       "139644    3.545455\n",
       "140110    3.653846\n",
       "142488    4.157895\n",
       "143355    3.307692\n",
       "148626    3.961538\n",
       "150548    3.850000\n",
       "152077    3.678571\n",
       "152081    3.890625\n",
       "157296    3.576923\n",
       "158238    3.833333\n",
       "159093    3.636364\n",
       "164179    3.980769\n",
       "166461    3.450000\n",
       "166528    3.925926\n",
       "166643    3.800000\n",
       "168250    3.633333\n",
       "168252    4.280000\n",
       "174055    3.423077\n",
       "176371    3.805556\n",
       "177765    3.538462\n",
       "179819    3.125000\n",
       "187593    3.875000\n",
       "Name: rating, Length: 2269, dtype: float64"
      ]
     },
     "execution_count": 59,
     "metadata": {},
     "output_type": "execute_result"
    }
   ],
   "source": [
    "nota_media_dos_filmes_com_pelo_menos_10_votos"
   ]
  },
  {
   "cell_type": "code",
   "execution_count": 40,
   "metadata": {},
   "outputs": [
    {
     "name": "stdout",
     "output_type": "stream",
     "text": [
      "Média dos filmes com pelo menos 10 votos 3.4320503405352603\n"
     ]
    }
   ],
   "source": [
    "print(\"Média dos filmes com pelo menos 10 votos\", nota_media_dos_filmes_com_pelo_menos_10_votos.mean())"
   ]
  },
  {
   "cell_type": "markdown",
   "metadata": {},
   "source": [
    "- Numa analise crua, sabendo que as notas variam de 0,5 a 5... podemos afirmar que a media seria 2,55. Como a media calculada esta dando 3.4, parece que a populacao esta positiva em relação aos filmes. (SERA???)\n",
    "- Aqui houve uma abordagem bem forte... \n",
    "    - imagina uma familia com 3 pessoas e todas deem nota 1 para um filme, media sera 1. Mas neste caso, a amostra certo grau de dependencia. Ex. todos serem da mesma famila.\n",
    "    - Imagina que 3 pessoas deem uma nota 1 a cada 5 filme, por tanto, 20% de chance de dar nota 1 cada pessoa.\n",
    "        - 1/5 de chance da primeira pessoa + 1/5 de chance da segunda pessoa e + 1/5 de chance da terceira pessoa.\n",
    "        - a probabilidade seria de 1/5/5/5 = 0,008 ===> ~1% de chance de 3 pessoas terem dado a mesma nota 1 (1 em 100)\n",
    "    - Tomar cuidado com o tamanho da amostra.\n",
    "    - Nao podemos geralizar com uma amostra pequena."
   ]
  },
  {
   "cell_type": "code",
   "execution_count": 41,
   "metadata": {},
   "outputs": [
    {
     "data": {
      "text/plain": [
       "3.5259741603585653"
      ]
     },
     "execution_count": 41,
     "metadata": {},
     "output_type": "execute_result"
    }
   ],
   "source": [
    "# media das 5 primeiras amostras\n",
    "nota_media_dos_filmes_com_pelo_menos_10_votos[0:5].mean()"
   ]
  },
  {
   "cell_type": "code",
   "execution_count": 42,
   "metadata": {},
   "outputs": [
    {
     "data": {
      "text/plain": [
       "2269"
      ]
     },
     "execution_count": 42,
     "metadata": {},
     "output_type": "execute_result"
    }
   ],
   "source": [
    "#total de notas da minha amostra\n",
    "len(nota_media_dos_filmes_com_pelo_menos_10_votos)"
   ]
  },
  {
   "cell_type": "code",
   "execution_count": 43,
   "metadata": {},
   "outputs": [
    {
     "data": {
      "text/plain": [
       "[3.9209302325581397,\n",
       " 3.676374207188161,\n",
       " 3.5374545996639024,\n",
       " 3.4209480926050695,\n",
       " 3.5259741603585653,\n",
       " 3.469175997829668,\n",
       " 3.420007998139716,\n",
       " 3.4295335135237663,\n",
       " 3.4564107421798558,\n",
       " 3.352874931119765,\n",
       " 3.396552967684635,\n",
       " 3.363506887044249,\n",
       " 3.406839377909513,\n",
       " 3.4332165225577675,\n",
       " 3.451002087720583,\n",
       " 3.405769002692592,\n",
       " 3.3524884731224396,\n",
       " 3.3603714480862994,\n",
       " 3.3531004361987162,\n",
       " 3.3416954143887807,\n",
       " 3.331376585132172,\n",
       " 3.3447231039898004,\n",
       " 3.3514742733815486,\n",
       " 3.3879658756270143,\n",
       " 3.412973556391407,\n",
       " 3.404174978311576,\n",
       " 3.425614825316986,\n",
       " 3.4337122869128076,\n",
       " 3.4475781010027933,\n",
       " 3.4424344719950075,\n",
       " 3.4507430374145236,\n",
       " 3.4223910131474935,\n",
       " 3.4190609824460543,\n",
       " 3.4086964437466603,\n",
       " 3.4248871013004156,\n",
       " 3.4171696491401096,\n",
       " 3.4393473639752203,\n",
       " 3.4400036363518125,\n",
       " 3.4550555181639973,\n",
       " 3.4495614831510744,\n",
       " 3.455822178683975,\n",
       " 3.433832556918074,\n",
       " 3.441766683501375,\n",
       " 3.4432967795375005,\n",
       " 3.4437021502486327,\n",
       " 3.4427521035040973,\n",
       " 3.4283255881604555,\n",
       " 3.4216342812642555,\n",
       " 3.432757391170427,\n",
       " 3.427227243347019,\n",
       " 3.4237521993598223,\n",
       " 3.433872349372133,\n",
       " 3.4261353149275555,\n",
       " 3.4349105868733414,\n",
       " 3.4231070177613585,\n",
       " 3.4295266905808375,\n",
       " 3.4296998002091375,\n",
       " 3.4271637466822935,\n",
       " 3.425464752279595,\n",
       " 3.435567765901939,\n",
       " 3.4465546751620586,\n",
       " 3.448117958802502,\n",
       " 3.4355486261230976,\n",
       " 3.4378577621732576,\n",
       " 3.430377072035604,\n",
       " 3.43143196488355,\n",
       " 3.432368592967551,\n",
       " 3.4309121920905774,\n",
       " 3.42821923335326,\n",
       " 3.4287684824005944,\n",
       " 3.434641759328454,\n",
       " 3.436180825802427,\n",
       " 3.429055860985416,\n",
       " 3.4350821331342614,\n",
       " 3.427462856207623,\n",
       " 3.4192916556378283,\n",
       " 3.412454843783534,\n",
       " 3.405592512228055,\n",
       " 3.4085080795428526,\n",
       " 3.4184752579603312,\n",
       " 3.4202299592275627,\n",
       " 3.419025064254404,\n",
       " 3.420670009932731,\n",
       " 3.416654097116071,\n",
       " 3.404693460679411,\n",
       " 3.402645530073505,\n",
       " 3.394330584705061,\n",
       " 3.3860922239551132,\n",
       " 3.378383322562359,\n",
       " 3.3850123967561108,\n",
       " 3.3951517364367287,\n",
       " 3.3952346281904355,\n",
       " 3.383078405116914,\n",
       " 3.379430534545761,\n",
       " 3.3735724938312446,\n",
       " 3.3744554192427247,\n",
       " 3.36514586411062,\n",
       " 3.3682226069938452,\n",
       " 3.3655132877312814,\n",
       " 3.3585248215206356,\n",
       " 3.357450318337263,\n",
       " 3.358179415038056,\n",
       " 3.351951135927654,\n",
       " 3.3526878695107674,\n",
       " 3.3485007800702924,\n",
       " 3.3550400808872394,\n",
       " 3.3547736372550676,\n",
       " 3.355456950137627,\n",
       " 3.3590766111455386,\n",
       " 3.363591998596663,\n",
       " 3.36583441302372,\n",
       " 3.3673757266437008,\n",
       " 3.3629178561746094,\n",
       " 3.3632065884303874,\n",
       " 3.3605713170174263,\n",
       " 3.3651599879298377,\n",
       " 3.3663124666654802,\n",
       " 3.359718592321854,\n",
       " 3.36239802792059,\n",
       " 3.3633595258360667,\n",
       " 3.363173985051546,\n",
       " 3.3601971491085005,\n",
       " 3.367781753166772,\n",
       " 3.3723042505490675,\n",
       " 3.3707375812505576,\n",
       " 3.37352714189319,\n",
       " 3.3741567578790153,\n",
       " 3.3748173738044156,\n",
       " 3.370582909112687,\n",
       " 3.3715784251964354,\n",
       " 3.3656885135537147,\n",
       " 3.372244477066271,\n",
       " 3.376069348524062,\n",
       " 3.380014815361658,\n",
       " 3.3841583644285635,\n",
       " 3.3842532207454816,\n",
       " 3.38101908388302,\n",
       " 3.3837512971601647,\n",
       " 3.380605090500225,\n",
       " 3.379672196996652,\n",
       " 3.3785658992202667,\n",
       " 3.3834839075139485,\n",
       " 3.3862967073615033,\n",
       " 3.3859578413381595,\n",
       " 3.3849077572749575,\n",
       " 3.389365336236871,\n",
       " 3.389612800441092,\n",
       " 3.3938640449819037,\n",
       " 3.3992546782632926,\n",
       " 3.400049770531661,\n",
       " 3.397090003839398,\n",
       " 3.4024956617088757,\n",
       " 3.40572009093518,\n",
       " 3.40974138904599,\n",
       " 3.4119366058908547,\n",
       " 3.4098020594968173,\n",
       " 3.4095803903280477,\n",
       " 3.408277373324096,\n",
       " 3.414697151366202,\n",
       " 3.4158552941701634,\n",
       " 3.4166884911007833,\n",
       " 3.4130270153024127,\n",
       " 3.411413352631846,\n",
       " 3.411304237789691,\n",
       " 3.4078013838232892,\n",
       " 3.4100435441617027,\n",
       " 3.412176419742973,\n",
       " 3.408783139049014,\n",
       " 3.409141746244594,\n",
       " 3.4083393081650804,\n",
       " 3.406187456484626,\n",
       " 3.4072981237272866,\n",
       " 3.4083156682914835,\n",
       " 3.409443425683748,\n",
       " 3.409309262750016,\n",
       " 3.407986315735727,\n",
       " 3.4091241049123617,\n",
       " 3.4032140979024206,\n",
       " 3.407465045615825,\n",
       " 3.4080870035608934,\n",
       " 3.4061573711070303,\n",
       " 3.406834593049881,\n",
       " 3.4097582316950525,\n",
       " 3.407078386232942,\n",
       " 3.4058764132035537,\n",
       " 3.406382453992782,\n",
       " 3.404531985402372,\n",
       " 3.4040266227647202,\n",
       " 3.4006291526014407,\n",
       " 3.401869860410715,\n",
       " 3.395577348052544,\n",
       " 3.3948191326981036,\n",
       " 3.395515612663823,\n",
       " 3.390899552804731,\n",
       " 3.3914446372069422,\n",
       " 3.393621867722121,\n",
       " 3.3924169343834296,\n",
       " 3.390916031155423,\n",
       " 3.3864390661747423,\n",
       " 3.381590204177202,\n",
       " 3.3801951806548796,\n",
       " 3.3807882738199546,\n",
       " 3.377870408128534,\n",
       " 3.373720308088688,\n",
       " 3.375274392889757,\n",
       " 3.37187500263301,\n",
       " 3.3687274856301976,\n",
       " 3.3679563598980016,\n",
       " 3.3654780998027958,\n",
       " 3.361555188216433,\n",
       " 3.363264510652479,\n",
       " 3.3650325801215484,\n",
       " 3.361654279489309,\n",
       " 3.360126238301726,\n",
       " 3.3557565112428107,\n",
       " 3.3566375117999225,\n",
       " 3.3592731519693766,\n",
       " 3.3580498466511344,\n",
       " 3.3564149158445082,\n",
       " 3.3572250910695174,\n",
       " 3.3528570675438267,\n",
       " 3.3557365639204666,\n",
       " 3.35369290219885,\n",
       " 3.3515186779330817,\n",
       " 3.3508654636069144,\n",
       " 3.3517465898741405,\n",
       " 3.3532492795348587,\n",
       " 3.357401694975495,\n",
       " 3.3575106523824862,\n",
       " 3.35921712780691,\n",
       " 3.358345602304898,\n",
       " 3.3565163637783724,\n",
       " 3.354400998970896,\n",
       " 3.3528864647872596,\n",
       " 3.3526363847118192,\n",
       " 3.3543201288443965,\n",
       " 3.355638046725503,\n",
       " 3.355732209472403,\n",
       " 3.357649453317172,\n",
       " 3.3577796176320542,\n",
       " 3.3536671157608287,\n",
       " 3.3537950011693183,\n",
       " 3.354864307187701,\n",
       " 3.3556270912015114,\n",
       " 3.355876232325859,\n",
       " 3.356885543034561,\n",
       " 3.355665583571083,\n",
       " 3.351831294543627,\n",
       " 3.350942151925415,\n",
       " 3.3514795597883014,\n",
       " 3.3549597209046826,\n",
       " 3.3570233728058545,\n",
       " 3.356600355522037,\n",
       " 3.35519641711447,\n",
       " 3.3533677601410363,\n",
       " 3.3543590691136997,\n",
       " 3.354017853539976,\n",
       " 3.3532916861489936,\n",
       " 3.3541798778369643,\n",
       " 3.3546318710499285,\n",
       " 3.351995989040797,\n",
       " 3.354854044241454,\n",
       " 3.3526900147413508,\n",
       " 3.3525551024534357,\n",
       " 3.3474511209347435,\n",
       " 3.348226731160027,\n",
       " 3.3479048897772823,\n",
       " 3.349649217111638,\n",
       " 3.3513233835907767,\n",
       " 3.352035068321439,\n",
       " 3.349467595744607,\n",
       " 3.3472126086687486,\n",
       " 3.345924978802462,\n",
       " 3.34624927672178,\n",
       " 3.3478714601765223,\n",
       " 3.350129107577539,\n",
       " 3.3518808647836074,\n",
       " 3.352156730120974,\n",
       " 3.355056850524055,\n",
       " 3.35599194433248,\n",
       " 3.357467232591815,\n",
       " 3.3577953629726953,\n",
       " 3.358245503687227,\n",
       " 3.359864997752349,\n",
       " 3.358602313549709,\n",
       " 3.3612506344794215,\n",
       " 3.3619829617858645,\n",
       " 3.3626200158958253,\n",
       " 3.362787805152626,\n",
       " 3.3637535614895375,\n",
       " 3.363128353999258,\n",
       " 3.3620404299973923,\n",
       " 3.3597188523585553,\n",
       " 3.3596095576460994,\n",
       " 3.3602110067287807,\n",
       " 3.3593059279638444,\n",
       " 3.359607859492036,\n",
       " 3.359379868912085,\n",
       " 3.359803719220443,\n",
       " 3.3576295307224124,\n",
       " 3.3562903809676716,\n",
       " 3.354716414080204,\n",
       " 3.3548260332894535,\n",
       " 3.353957885452676,\n",
       " 3.3529613022216838,\n",
       " 3.3549668753081052,\n",
       " 3.3532987654304147,\n",
       " 3.355699070064058,\n",
       " 3.354652335418272,\n",
       " 3.3551211988524066,\n",
       " 3.356038802289436,\n",
       " 3.355926941421143,\n",
       " 3.3536715837808204,\n",
       " 3.356201763922117,\n",
       " 3.35449376409437,\n",
       " 3.351844231231129,\n",
       " 3.353560285180978,\n",
       " 3.3528058074402716,\n",
       " 3.355674884022319,\n",
       " 3.3539055052729077,\n",
       " 3.3509794262731214,\n",
       " 3.3503797843804786,\n",
       " 3.352512403271791,\n",
       " 3.3527995395408765,\n",
       " 3.352728732447035,\n",
       " 3.3510502871191474,\n",
       " 3.351105324831467,\n",
       " 3.35036834213381,\n",
       " 3.3484879134862093,\n",
       " 3.3465480511221095,\n",
       " 3.3468802979136756,\n",
       " 3.3493231124887615,\n",
       " 3.34868359454244,\n",
       " 3.348648483546023,\n",
       " 3.349569362273178,\n",
       " 3.3462968344092694,\n",
       " 3.346011087126156,\n",
       " 3.3451987128193585,\n",
       " 3.3451769993238383,\n",
       " 3.3438157520939935,\n",
       " 3.343607281480015,\n",
       " 3.345282893717403,\n",
       " 3.343790329401414,\n",
       " 3.341458574567883,\n",
       " 3.340238273034221,\n",
       " 3.3397590254377385,\n",
       " 3.342494770321203,\n",
       " 3.3443841531651075,\n",
       " 3.342654515880224,\n",
       " 3.34321396451617,\n",
       " 3.3459693231004155,\n",
       " 3.3480389218561144,\n",
       " 3.3490595859112906,\n",
       " 3.3504668249969143,\n",
       " 3.3523669184476277,\n",
       " 3.3549218000303727,\n",
       " 3.35762910191104,\n",
       " 3.3599379885713887,\n",
       " 3.3616177238761007,\n",
       " 3.363418785754223,\n",
       " 3.3646494603302286,\n",
       " 3.367067555743681,\n",
       " 3.3692807430431597,\n",
       " 3.371131227658034,\n",
       " 3.3722148863950436,\n",
       " 3.3740877755242713,\n",
       " 3.3760657379887826,\n",
       " 3.377436306044815,\n",
       " 3.378159905335871,\n",
       " 3.380741455141269,\n",
       " 3.382527807717356,\n",
       " 3.3839040647203844,\n",
       " 3.3861701842966485,\n",
       " 3.3882570732869426,\n",
       " 3.390555054424844,\n",
       " 3.3927540870044264,\n",
       " 3.3923754289487116,\n",
       " 3.3950222059696333,\n",
       " 3.395629007536996,\n",
       " 3.397310201618795,\n",
       " 3.3991107872663395,\n",
       " 3.40032021219787,\n",
       " 3.4020046360444933,\n",
       " 3.402910873971461,\n",
       " 3.404385360624247,\n",
       " 3.406187471088951,\n",
       " 3.4065292645446936,\n",
       " 3.4063015649406654,\n",
       " 3.408295180922356,\n",
       " 3.405966218919991,\n",
       " 3.405034506510136,\n",
       " 3.402980847054753,\n",
       " 3.402485560760296,\n",
       " 3.4013371202507523,\n",
       " 3.4015868996931555,\n",
       " 3.4017611454901275,\n",
       " 3.4009533871414903,\n",
       " 3.398270924694736,\n",
       " 3.398496048287218,\n",
       " 3.3990382697049615,\n",
       " 3.3994895458403604,\n",
       " 3.398540211504581,\n",
       " 3.3997530743635327,\n",
       " 3.3997183248866785,\n",
       " 3.3981552343725547,\n",
       " 3.3983547699200773,\n",
       " 3.398297387193001,\n",
       " 3.398730481832234,\n",
       " 3.4000477667177296,\n",
       " 3.4011746476904112,\n",
       " 3.3996409705265256,\n",
       " 3.402532398003182,\n",
       " 3.4022207203416963,\n",
       " 3.402017727824402,\n",
       " 3.402196457338537,\n",
       " 3.402351433803268,\n",
       " 3.403118510034488,\n",
       " 3.403815462030684,\n",
       " 3.404456508166896,\n",
       " 3.403859816847085,\n",
       " 3.404976419609519,\n",
       " 3.4057940110322455,\n",
       " 3.4058018051174908,\n",
       " 3.4070205159810523,\n",
       " 3.4082439178072965,\n",
       " 3.4085571167482813,\n",
       " 3.410109508913809,\n",
       " 3.411721402584571,\n",
       " 3.411621929895674,\n",
       " 3.4134606930269302,\n",
       " 3.41478474474642,\n",
       " 3.4127774167438103,\n",
       " 3.412266358879973,\n",
       " 3.412250550231414,\n",
       " 3.412315436760712,\n",
       " 3.412898811141231,\n",
       " 3.4143567085985733,\n",
       " 3.4151604454342452,\n",
       " 3.413555356300658,\n",
       " 3.413300014171059,\n",
       " 3.4148571569960677,\n",
       " 3.4172556702155332,\n",
       " 3.417526057048087,\n",
       " 3.4180583095183534,\n",
       " 3.418663796463256,\n",
       " 3.4187919190084344,\n",
       " 3.4188588676207603,\n",
       " 3.420358979726314,\n",
       " 3.419679749516199,\n",
       " 3.4213288271970126,\n",
       " 3.4223901823473524,\n",
       " 3.423747094080465,\n",
       " 3.4235907896265796,\n",
       " 3.425216723362826,\n",
       " 3.4245818814133773,\n",
       " 3.4254782661763596,\n",
       " 3.427920691560365,\n",
       " 3.4283611040889004,\n",
       " 3.4289771171760948,\n",
       " 3.4301097756170162,\n",
       " 3.430450007170427,\n",
       " 3.430944900897528,\n",
       " 3.432173961586734,\n",
       " 3.4338352408048594,\n",
       " 3.43417303403089,\n",
       " 3.435850001362211,\n",
       " 3.437555663813678,\n",
       " 3.4392008440192043,\n",
       " 3.440776036466274,\n",
       " 3.4418898868446135,\n",
       " 3.443384458917838,\n",
       " 3.444879667282456,\n",
       " 3.446687532679322,\n",
       " 3.4478460681237397,\n",
       " 3.4492625809385786,\n",
       " 3.4508809918362378,\n",
       " 3.452672762410073,\n",
       " 3.45410598906202,\n",
       " 3.4550047560673507,\n",
       " 3.4566175933810994,\n",
       " 3.458267037053904,\n",
       " 3.459327018475352,\n",
       " 3.460527616131251,\n",
       " 3.4605152562932635,\n",
       " 3.4625210667613877,\n",
       " 3.4636269904923314,\n",
       " 3.464802591288678,\n",
       " 3.4655089872276847,\n",
       " 3.4671330791198174,\n",
       " 3.4684206426638307,\n",
       " 3.4696851336447305,\n",
       " 3.470763009389355,\n",
       " 3.4722101645961025,\n",
       " 3.473405083291252,\n",
       " 3.474847699284603,\n",
       " 3.475645767744054,\n",
       " 3.476426432926936,\n",
       " 3.4779044922985687,\n",
       " 3.478903806943261,\n",
       " 3.4805229224062972,\n",
       " 3.4820033601304807,\n",
       " 3.482829940219634,\n",
       " 3.4839575148911655,\n",
       " 3.48532016209836,\n",
       " 3.486277448906086,\n",
       " 3.4875023168056005,\n",
       " 3.488956947344445,\n",
       " 3.4898828240732582,\n",
       " 3.49100936300286,\n",
       " 3.492526415001586,\n",
       " 3.493659295933928,\n",
       " 3.494886957899335,\n",
       " 3.4960108206937393,\n",
       " 3.4974035319507157,\n",
       " 3.498029932859549,\n",
       " 3.498336560896643,\n",
       " 3.498928458895077,\n",
       " 3.499288027864749,\n",
       " 3.500411882931174,\n",
       " 3.5013831956668726,\n",
       " 3.5018283974666162,\n",
       " 3.5028672657608544,\n",
       " 3.504062370370765,\n",
       " 3.5046759562962957,\n",
       " 3.505512870558695,\n",
       " 3.5066641980122166,\n",
       " 3.508074702380315,\n",
       " 3.50877780018798,\n",
       " 3.509778242334896,\n",
       " 3.5097597928210567,\n",
       " 3.5109113037973105,\n",
       " 3.5119160843267414,\n",
       " 3.512350744100218,\n",
       " 3.5127567664271218,\n",
       " 3.5141757814890546,\n",
       " 3.51531537891165,\n",
       " 3.5162044631654243,\n",
       " 3.5173515428497515,\n",
       " 3.5178444321356044,\n",
       " 3.519127176364593,\n",
       " 3.520280096820217,\n",
       " 3.5206701839424546,\n",
       " 3.521444596993368,\n",
       " 3.522352146475276,\n",
       " 3.5229783560480485,\n",
       " 3.522661545872136,\n",
       " 3.523619072427084,\n",
       " 3.524397139813166,\n",
       " 3.5249598651201244,\n",
       " 3.5244186157785835,\n",
       " 3.524747951054741,\n",
       " 3.5250201467955837,\n",
       " 3.525446637606473,\n",
       " 3.5263354652332795,\n",
       " 3.5268424144989714,\n",
       " 3.5268262539384647,\n",
       " 3.527728561857257,\n",
       " 3.528473758676683,\n",
       " 3.529064724277282,\n",
       " 3.528385923287881,\n",
       " 3.5281803217815937,\n",
       " 3.52658806735375,\n",
       " 3.5267224983660395,\n",
       " 3.5266139784068433,\n",
       " 3.5247969625158575,\n",
       " 3.5252478512746634,\n",
       " 3.526022168493378,\n",
       " 3.5257073798555765,\n",
       " 3.524783465303985,\n",
       " 3.5247948101016973,\n",
       " 3.525308622725305,\n",
       " 3.5259271756211015,\n",
       " 3.5267545278451484,\n",
       " 3.527300993009033,\n",
       " 3.52614240191008,\n",
       " 3.525358245110074,\n",
       " 3.525148632492389,\n",
       " 3.524316964346977,\n",
       " 3.524007674417601,\n",
       " 3.522529500266306,\n",
       " 3.5229487765692182,\n",
       " 3.522500247334399,\n",
       " 3.5224217635242994,\n",
       " 3.5215700139292236,\n",
       " 3.5208493814267805,\n",
       " 3.5199605599567687,\n",
       " 3.5193127666388753,\n",
       " 3.516863165621498,\n",
       " 3.515738044231082,\n",
       " 3.5165681399281388,\n",
       " 3.515047122870432,\n",
       " 3.5143342447166206,\n",
       " 3.514468786710452,\n",
       " 3.5152716663798698,\n",
       " 3.515209463360013,\n",
       " 3.514236769413046,\n",
       " 3.5137104096652854,\n",
       " 3.5142448961597137,\n",
       " 3.5125516659490965,\n",
       " 3.513364079839181,\n",
       " 3.5132031856408905,\n",
       " 3.513305838156437,\n",
       " 3.5115735730848674,\n",
       " 3.5101057360433363,\n",
       " 3.510045535174713,\n",
       " 3.5106477702651837,\n",
       " 3.5099437926096124,\n",
       " 3.5085568236524693,\n",
       " 3.5081564115977906,\n",
       " 3.508537113571212,\n",
       " 3.5062913304661256,\n",
       " 3.5063438961654643,\n",
       " 3.505871339510491,\n",
       " 3.5056396864553214,\n",
       " 3.5049653277633763,\n",
       " 3.504200422659513,\n",
       " 3.5031131178145762,\n",
       " 3.5005610349798055,\n",
       " 3.500738108415259,\n",
       " 3.499874848952298,\n",
       " 3.497620622142391,\n",
       " 3.497680717605184,\n",
       " 3.497437496302694,\n",
       " 3.497835336300883,\n",
       " 3.498331107455109,\n",
       " 3.4970558181460754,\n",
       " 3.4958702926678256,\n",
       " 3.495134668483776,\n",
       " 3.492130103284111,\n",
       " 3.4901017788571296,\n",
       " 3.4900407822237995,\n",
       " 3.4900565404797748,\n",
       " 3.489867082864688,\n",
       " 3.4898639467527226,\n",
       " 3.490119970497034,\n",
       " 3.4890277292626903,\n",
       " 3.488665149650236,\n",
       " 3.4880167716727275,\n",
       " 3.487693193000313,\n",
       " 3.4868374223862504,\n",
       " 3.485507902826545,\n",
       " 3.484661099964068,\n",
       " 3.483069929453298,\n",
       " 3.482855267429623,\n",
       " 3.483458937126976,\n",
       " 3.4823830897606207,\n",
       " 3.4816375208429076,\n",
       " 3.4809328333107423,\n",
       " 3.481827937835846,\n",
       " 3.48174600474467,\n",
       " 3.4811832376335183,\n",
       " 3.4815208380379126,\n",
       " 3.4821346697425657,\n",
       " 3.4822796061449823,\n",
       " 3.4827019709774762,\n",
       " 3.48060848474123,\n",
       " 3.4805036996896943,\n",
       " 3.481222521380277,\n",
       " 3.4816973243023996,\n",
       " 3.4809201313867897,\n",
       " 3.4807598891305314,\n",
       " 3.4816604377525744,\n",
       " 3.4819143435779853,\n",
       " 3.481687439446091,\n",
       " 3.4817149771311344,\n",
       " 3.4818925822705773,\n",
       " 3.482387495940336,\n",
       " 3.4819980269677044,\n",
       " 3.4818007204998898,\n",
       " 3.4809655287114163,\n",
       " 3.4809938960307734,\n",
       " 3.480278131304537,\n",
       " 3.4811662978024454,\n",
       " 3.4806069511687125,\n",
       " 3.4797754665576623,\n",
       " 3.480914851962163,\n",
       " 3.4808164337381204,\n",
       " 3.4802055933737086,\n",
       " 3.479045213548869,\n",
       " 3.4793670833328654,\n",
       " 3.4800207708784656,\n",
       " 3.4797834703613155,\n",
       " 3.4795769201520304,\n",
       " 3.480078878845765,\n",
       " 3.4802448220883258,\n",
       " 3.4802736197237656,\n",
       " 3.477172784760558,\n",
       " 3.4763753990684223,\n",
       " 3.4752606790891263,\n",
       " 3.4751800735500735,\n",
       " 3.4741463390951783,\n",
       " 3.4744697066205705,\n",
       " 3.4738164157458438,\n",
       " 3.473743304084938,\n",
       " 3.4737810835035208,\n",
       " 3.4731235374528806,\n",
       " 3.473162097657396,\n",
       " 3.4716937792683007,\n",
       " 3.471018966994669,\n",
       " 3.471774654184677,\n",
       " 3.4716470911133386,\n",
       " 3.4723522472038706,\n",
       " 3.4717396076867475,\n",
       " 3.472134863925829,\n",
       " 3.471564129993822,\n",
       " 3.469415378328881,\n",
       " 3.469134498491546,\n",
       " 3.4698382510421912,\n",
       " 3.4693518783326818,\n",
       " 3.4690869461096776,\n",
       " 3.4682074286046007,\n",
       " 3.468017998695512,\n",
       " 3.4681563558735924,\n",
       " 3.4681175881349406,\n",
       " 3.4669165495501364,\n",
       " 3.4674646758775802,\n",
       " 3.4673938278870486,\n",
       " 3.4668185549040405,\n",
       " 3.4659585636572823,\n",
       " 3.4650799175040548,\n",
       " 3.4656152627360703,\n",
       " 3.4659069181563673,\n",
       " 3.4671297301644497,\n",
       " 3.4678029563030974,\n",
       " 3.4687956418806105,\n",
       " 3.4689804153442334,\n",
       " 3.4699609349679936,\n",
       " 3.470626573044336,\n",
       " 3.471176872493926,\n",
       " 3.471665842531605,\n",
       " 3.47224202762097,\n",
       " 3.4729630084575533,\n",
       " 3.473734493491665,\n",
       " 3.474172804189162,\n",
       " 3.474434700600696,\n",
       " 3.474730723687254,\n",
       " 3.4751819597021516,\n",
       " 3.475539613462423,\n",
       " 3.475388188225852,\n",
       " 3.475260572270077,\n",
       " 3.475727735561789,\n",
       " 3.4761361362712027,\n",
       " 3.474620475253341,\n",
       " 3.473870537338574,\n",
       " 3.473066684268321,\n",
       " 3.4734006729250955,\n",
       " 3.4723764863928444,\n",
       " 3.4723138599603587,\n",
       " 3.472753877226704,\n",
       " 3.4730213165015127,\n",
       " 3.47263227488677,\n",
       " 3.471917049266835,\n",
       " 3.4717923902113514,\n",
       " 3.471608757509922,\n",
       " 3.4717393094054008,\n",
       " 3.471247590742166,\n",
       " 3.4712508095265573,\n",
       " 3.47175990193766,\n",
       " 3.4718046808895693,\n",
       " 3.471669830232896,\n",
       " 3.4711751761790266,\n",
       " 3.471040328247862,\n",
       " 3.471979331749503,\n",
       " 3.472670458278627,\n",
       " 3.4726178595520305,\n",
       " 3.47246503670086,\n",
       " 3.4733435393854024,\n",
       " 3.472998474012939,\n",
       " 3.4720724286178863,\n",
       " 3.4702255813079934,\n",
       " 3.469300973473841,\n",
       " 3.469146438534108,\n",
       " 3.4685395220547623,\n",
       " 3.468026458811059,\n",
       " 3.4685047597382956,\n",
       " 3.4688427294174593,\n",
       " 3.4697101868350138,\n",
       " 3.469333272183857,\n",
       " 3.469944721351674,\n",
       " 3.4704065725797424,\n",
       " 3.4703164233190766,\n",
       " 3.4702589510825157,\n",
       " 3.4692162782891103,\n",
       " 3.469557637762292,\n",
       " 3.4695095620222354,\n",
       " 3.469641446462038,\n",
       " 3.4684093734678045,\n",
       " 3.4684494630953835,\n",
       " 3.46809947352531,\n",
       " 3.4678315124909873,\n",
       " 3.4677572512983197,\n",
       " 3.4670403860820342,\n",
       " 3.466599789200245,\n",
       " 3.4664403436219073,\n",
       " 3.4664563515754225,\n",
       " 3.466335640543758,\n",
       " 3.466133908944024,\n",
       " 3.4658630644466006,\n",
       " 3.466179568746417,\n",
       " 3.466395455396595,\n",
       " 3.4659796475038815,\n",
       " 3.4662892560659535,\n",
       " 3.4666218140700225,\n",
       " 3.4653630126278276,\n",
       " 3.4644122511214577,\n",
       " 3.4641952057530814,\n",
       " 3.4643870922627404,\n",
       " 3.4635235768845276,\n",
       " 3.4633523487301585,\n",
       " 3.462920600600413,\n",
       " 3.463302606361359,\n",
       " 3.4620722899918075,\n",
       " 3.462177513555925,\n",
       " 3.4628996542026624,\n",
       " 3.4629159619597027,\n",
       " 3.4630154738286967,\n",
       " 3.4626527457905545,\n",
       " 3.461720407470517,\n",
       " 3.4612505694600806,\n",
       " 3.4614222648830886,\n",
       " 3.4611555194233334,\n",
       " 3.4608606221977576,\n",
       " 3.461385526840114,\n",
       " 3.4599981436985385,\n",
       " 3.46086102473648,\n",
       " 3.461006950068321,\n",
       " 3.460887315262334,\n",
       " 3.4609013734232823,\n",
       " 3.4614310460729527,\n",
       " 3.462055827945154,\n",
       " 3.4619059412689266,\n",
       " 3.4624787244386295,\n",
       " 3.46295727472275,\n",
       " 3.4629128726258718,\n",
       " 3.4628717451479623,\n",
       " 3.462562742408007,\n",
       " 3.462010098749216,\n",
       " 3.462560297823593,\n",
       " 3.4622256826674485,\n",
       " 3.4609313663785586,\n",
       " 3.4613220231179542,\n",
       " 3.461085185515563,\n",
       " 3.4611589347782417,\n",
       " 3.459901637462154,\n",
       " 3.4604619116584514,\n",
       " 3.4610374512676643,\n",
       " 3.4613195794243725,\n",
       " 3.4610638304444437,\n",
       " 3.4594606928349685,\n",
       " 3.4596764533644064,\n",
       " 3.4602757724200264,\n",
       " 3.460469110715308,\n",
       " 3.4602372733808315,\n",
       " 3.4603871539671744,\n",
       " 3.460823348329006,\n",
       " 3.4614875871331847,\n",
       " 3.462261813986005,\n",
       " 3.4622866913093047,\n",
       " 3.4630846430920963,\n",
       " 3.4626803407342974,\n",
       " 3.463556500923416,\n",
       " 3.462795637590202,\n",
       " 3.462466293199682,\n",
       " 3.4627110232347267,\n",
       " 3.4610842539079303,\n",
       " 3.4606095607740874,\n",
       " 3.4602880020901705,\n",
       " 3.4607254583089606,\n",
       " 3.4607620657371814,\n",
       " 3.460825907440732,\n",
       " 3.4610695940258482,\n",
       " 3.462213245103036,\n",
       " 3.4613974223709594,\n",
       " 3.4616017731462785,\n",
       " 3.460747697650438,\n",
       " 3.4598412124552507,\n",
       " 3.459411899024097,\n",
       " 3.4588072971215316,\n",
       " 3.4585291155710927,\n",
       " 3.458033886204225,\n",
       " 3.4568991523190142,\n",
       " 3.4555874752755686,\n",
       " 3.4548176843284453,\n",
       " 3.4547980941878023,\n",
       " 3.455183016731606,\n",
       " 3.4548402764774115,\n",
       " 3.454891189356242,\n",
       " 3.4549922610542,\n",
       " 3.4553546701115554,\n",
       " 3.4560327250096456,\n",
       " 3.4551369472451476,\n",
       " 3.4552432959589985,\n",
       " 3.453520365803016,\n",
       " 3.4528000117132183,\n",
       " 3.4528010214249396,\n",
       " 3.4525941473613684,\n",
       " 3.452303972941019,\n",
       " 3.4514986975442765,\n",
       " 3.450670441542252,\n",
       " 3.44899322601897,\n",
       " 3.4489265175426875,\n",
       " 3.44883196083104,\n",
       " 3.4482310948722015,\n",
       " 3.4483611373266396,\n",
       " 3.447618044433423,\n",
       " 3.445744293832503,\n",
       " 3.445877615081493,\n",
       " 3.4455187190296415,\n",
       " 3.445358632430049,\n",
       " 3.444295887635692,\n",
       " 3.4442147399767835,\n",
       " 3.4437775029213866,\n",
       " 3.4435835151489282,\n",
       " 3.4421750539726164,\n",
       " 3.4421121472301492,\n",
       " 3.442048401360064,\n",
       " 3.44185994156494,\n",
       " 3.441728752708582,\n",
       " 3.442064194762218,\n",
       " 3.441040211941824,\n",
       " 3.4407518279945384,\n",
       " 3.439708893980083,\n",
       " 3.439774214788338,\n",
       " 3.440109956980126,\n",
       " 3.439779692577569,\n",
       " 3.439137195702439,\n",
       " 3.439118948697606,\n",
       " 3.438762889110835,\n",
       " 3.439097912911577,\n",
       " 3.4397982651900754,\n",
       " 3.4392661987875557,\n",
       " 3.438633938917612,\n",
       " 3.4381102155104117,\n",
       " 3.437694679947767,\n",
       " 3.43767219009399,\n",
       " 3.437449427782636,\n",
       " 3.4378401663106923,\n",
       " 3.437136475064922,\n",
       " 3.4364490737780224,\n",
       " 3.435984766252727,\n",
       " 3.4356231933670713,\n",
       " 3.4353996018666817,\n",
       " 3.4360537261552326,\n",
       " 3.436827680541368,\n",
       " 3.4363375816312987,\n",
       " 3.4371368506181215,\n",
       " 3.4372325643743618,\n",
       " 3.4377856296667293,\n",
       " 3.4372804112301294,\n",
       " 3.4377411686919923,\n",
       " 3.438069516569288,\n",
       " 3.438440942147121,\n",
       " 3.4378129873284986,\n",
       " 3.4380466364882323,\n",
       " 3.438492280181581,\n",
       " 3.4380214431657254,\n",
       " 3.43711093660721,\n",
       " 3.43653421891202,\n",
       " 3.436204871087474,\n",
       " 3.43589253646797,\n",
       " 3.435550445230379,\n",
       " 3.4357282071137663,\n",
       " 3.4352969298096663,\n",
       " 3.4340673686791585,\n",
       " 3.43225745430747,\n",
       " 3.4327510707202897,\n",
       " 3.4326564675874556,\n",
       " 3.432381684735265,\n",
       " 3.4327293102094605,\n",
       " 3.432752637871984,\n",
       " 3.432264049504797,\n",
       " 3.432023394214605,\n",
       " 3.432634177765745,\n",
       " 3.4326605629357325,\n",
       " 3.4321484324438325,\n",
       " 3.432422870525345,\n",
       " 3.4330038092453803,\n",
       " 3.4327634338439705,\n",
       " 3.4321286609337287,\n",
       " 3.4325671440401875,\n",
       " 3.4313183978890875,\n",
       " 3.4312865054268786,\n",
       " 3.431232949243025,\n",
       " 3.4310718662384363,\n",
       " 3.4304280115519,\n",
       " 3.430460299725725,\n",
       " 3.4296864459941556,\n",
       " 3.4300359536399103,\n",
       " 3.4296011346776862,\n",
       " 3.4293692143396277,\n",
       " 3.4280432964799354,\n",
       " 3.4266997428496513,\n",
       " 3.426044317196193,\n",
       " 3.4257059864844703,\n",
       " 3.4251106370843183,\n",
       " 3.4252630592126705,\n",
       " 3.425839525552477,\n",
       " 3.4256633336431057,\n",
       " 3.4249557126885084,\n",
       " 3.425447423642486,\n",
       " ...]"
      ]
     },
     "execution_count": 43,
     "metadata": {},
     "output_type": "execute_result"
    }
   ],
   "source": [
    "medias = list()\n",
    "for i in range(1, len(nota_media_dos_filmes_com_pelo_menos_10_votos)):\n",
    "    #insere na lista\n",
    "    medias.append(nota_media_dos_filmes_com_pelo_menos_10_votos[0:i].mean())\n",
    "\n",
    "medias"
   ]
  },
  {
   "cell_type": "markdown",
   "metadata": {},
   "source": [
    "- Aqui criamos um array com media de 1, 2, 3, n amostras"
   ]
  },
  {
   "cell_type": "code",
   "execution_count": 44,
   "metadata": {},
   "outputs": [
    {
     "data": {
      "text/plain": [
       "[<matplotlib.lines.Line2D at 0x1fdfc22cac8>]"
      ]
     },
     "execution_count": 44,
     "metadata": {},
     "output_type": "execute_result"
    },
    {
     "data": {
      "image/png": "[encoded data removed]",
      "text/plain": [
       "<Figure size 432x288 with 1 Axes>"
      ]
     },
     "metadata": {
      "needs_background": "light"
     },
     "output_type": "display_data"
    }
   ],
   "source": [
    "import matplotlib.pyplot as plt\n",
    "\n",
    "plt.plot(medias)"
   ]
  },
  {
   "cell_type": "markdown",
   "metadata": {},
   "source": [
    "- Conforme vai aumentando o numero de amostras, a media \"chacoalha\" menos\n",
    "- note que a ordem das notas vem conforme o dataset. \n",
    "    - Será que esse dataset tem algum tipo de ordenação para induzir esse tipo de comportamento? \n",
    "    - Será que existe alguma caracteristica que nao sabemos?\n",
    "    \n",
    "Para tirar a duvida, vamos aleatorizar pegamos uma amostra de 100% (frac =1) a leitura deste dataset, utilizando o mesmo seed (75243) de amostragem"
   ]
  },
  {
   "cell_type": "code",
   "execution_count": 45,
   "metadata": {},
   "outputs": [
    {
     "data": {
      "text/plain": [
       "[<matplotlib.lines.Line2D at 0x1fdfc4f3288>]"
      ]
     },
     "execution_count": 45,
     "metadata": {},
     "output_type": "execute_result"
    },
    {
     "data": {
      "image/png": "[encoded data removed]",
      "text/plain": [
       "<Figure size 432x288 with 1 Axes>"
      ]
     },
     "metadata": {
      "needs_background": "light"
     },
     "output_type": "display_data"
    }
   ],
   "source": [
    "import numpy as np\n",
    "\n",
    "np.random.seed(75243)\n",
    "temp = nota_media_dos_filmes_com_pelo_menos_10_votos.sample(frac = 1)\n",
    "\n",
    "medias = list()\n",
    "for i in range(1, len(temp)):\n",
    "    #insere na lista\n",
    "    medias.append(temp[0:i].mean())\n",
    "\n",
    "plt.plot(medias)"
   ]
  },
  {
   "cell_type": "markdown",
   "metadata": {},
   "source": [
    "- Note que ao tornar a aleatorio a leitura do dataset, as medias tiveram um comportamento mais estavel\n",
    "- Note que quando calculamos a media, nao temos a certeza se esta media representa o mundo real, mas sabemos que representa a media do conjundo de dados (dataset).\n",
    "\n",
    "<p style='color:red'>A pergunta é, sera que o conjunto de dados representa o mundo real?</p>\n",
    "\n",
    "Bem... apenas para refatorar o codigo anterior, um outro jeito em python para criar uma lista seguido de um for adicionando elementos nessa lista, pode ser reescrito desta forma:"
   ]
  },
  {
   "cell_type": "code",
   "execution_count": 46,
   "metadata": {},
   "outputs": [
    {
     "data": {
      "text/plain": [
       "[<matplotlib.lines.Line2D at 0x1fdfc565808>]"
      ]
     },
     "execution_count": 46,
     "metadata": {},
     "output_type": "execute_result"
    },
    {
     "data": {
      "image/png": "[encoded data removed]",
      "text/plain": [
       "<Figure size 432x288 with 1 Axes>"
      ]
     },
     "metadata": {
      "needs_background": "light"
     },
     "output_type": "display_data"
    }
   ],
   "source": [
    "medias = list()\n",
    "\n",
    "for i in range(1, len(temp)):\n",
    "    #insere na lista\n",
    "    medias.append(temp[0:i].mean())\n",
    "    \n",
    "#copia o trecho \"temp[0:i].mean()\" e insere antes do for e coloca toda a linha \"temp[0:i].mean() for i in range(1, len(temp))\" entre colchetes\n",
    "mediasUmaLinha = [temp[0:i].mean() for i in range(1, len(temp))]\n",
    "\n",
    "plt.plot(mediasUmaLinha)"
   ]
  },
  {
   "cell_type": "markdown",
   "metadata": {},
   "source": [
    "### Resumindo \n",
    "<div style='color:red'>\n",
    "    - Sera que o conjunto de dados representa o mundo real?<br>\n",
    "    - o Tamanho do conjunto da amostra também é importante<br>\n",
    "    - A maneia como escolhe as amostras é perigosa<br>\n",
    "</div>\n",
    "\n",
    "<div style='color:blue'>\n",
    "     - Como explicar isso em evidencia numérica e nao graficamente?<br>\n",
    "     - Em estatistica existem algums tipos de testes como por exemplo (intervalo de confiança, T-test, etc)\n",
    "<div>"
   ]
  },
  {
   "cell_type": "markdown",
   "metadata": {},
   "source": [
    "### Usando zconfint\n",
    "https://www.statsmodels.org/stable/generated/statsmodels.stats.weightstats.zconfint.html\n",
    "- Ira definir o intervalo de confianca da minha amostra de dados\n",
    "- Para utilizacao deste metodo:\n",
    "    - exige que amostra possua uma normalidade\n",
    "    - exige que o conjunto de dados seja uma amostra grande o suficiente para a aplicacao do teste\n"
   ]
  },
  {
   "cell_type": "code",
   "execution_count": 52,
   "metadata": {},
   "outputs": [],
   "source": [
    "from statsmodels.stats.weightstats import zconfint"
   ]
  },
  {
   "cell_type": "code",
   "execution_count": 53,
   "metadata": {},
   "outputs": [
    {
     "data": {
      "text/plain": [
       "(3.4112459477469557, 3.452854733323563)"
      ]
     },
     "execution_count": 53,
     "metadata": {},
     "output_type": "execute_result"
    }
   ],
   "source": [
    "zconfint(nota_media_dos_filmes_com_pelo_menos_10_votos)"
   ]
  },
  {
   "cell_type": "markdown",
   "metadata": {},
   "source": [
    "- Esse intervalo variando de 3.41 à 3.45 é aplicado para os filmes em geral, nao só para os filmes da amostra\n",
    "    - Estamos nesta afirmaçao generalizando\n",
    "    - considera-se que os filmes tenham caracteriscas similares ao conjunto de dados do TMDB\n",
    "- Sabemos que a media dos filmes do conjunto de dados é 3.43\n",
    "\n",
    "### Diferenças do T-Test e Z-test\n",
    "\n",
    "https://keydifferences.com/difference-between-t-test-and-z-test.html\n",
    "\n",
    "Em linhas gerais, usa-se:\n",
    "- T-Test quando \n",
    "    - um conjunto menor de dados\n",
    "- Z-test quando\n",
    "    - um conjunto grande de dados\n",
    "    - Busca abrangencia fora da amostra\n",
    "    \n",
    "### Usando o T-test\n",
    "http://www.statsmodels.org/stable/generated/statsmodels.stats.weightstats.DescrStatsW.html#statsmodels.stats.weightstats.DescrStatsW\n",
    "\n"
   ]
  },
  {
   "cell_type": "code",
   "execution_count": 58,
   "metadata": {},
   "outputs": [
    {
     "data": {
      "text/plain": [
       "(3.41123483922938, 3.4528658418411386)"
      ]
     },
     "execution_count": 58,
     "metadata": {},
     "output_type": "execute_result"
    }
   ],
   "source": [
    "from statsmodels.stats.weightstats import DescrStatsW\n",
    "#cria um objeto tipo DescrStatsW\n",
    "descr_todos_com_10_votos = DescrStatsW(nota_media_dos_filmes_com_pelo_menos_10_votos)\n",
    "descr_todos_com_10_votos.tconfint_mean()"
   ]
  },
  {
   "cell_type": "markdown",
   "metadata": {},
   "source": [
    "# Chapter 4\n",
    "## ZTest para uma amostra\n",
    "### Vamos ver um filme especifico (Toy Story)"
   ]
  },
  {
   "cell_type": "code",
   "execution_count": 62,
   "metadata": {},
   "outputs": [
    {
     "data": {
      "text/html": [
       "<div>\n",
       "<style scoped>\n",
       "    .dataframe tbody tr th:only-of-type {\n",
       "        vertical-align: middle;\n",
       "    }\n",
       "\n",
       "    .dataframe tbody tr th {\n",
       "        vertical-align: top;\n",
       "    }\n",
       "\n",
       "    .dataframe thead th {\n",
       "        text-align: right;\n",
       "    }\n",
       "</style>\n",
       "<table border=\"1\" class=\"dataframe\">\n",
       "  <thead>\n",
       "    <tr style=\"text-align: right;\">\n",
       "      <th></th>\n",
       "      <th>movieId</th>\n",
       "      <th>title</th>\n",
       "      <th>genres</th>\n",
       "    </tr>\n",
       "  </thead>\n",
       "  <tbody>\n",
       "    <tr>\n",
       "      <th>0</th>\n",
       "      <td>1</td>\n",
       "      <td>Toy Story (1995)</td>\n",
       "      <td>Adventure|Animation|Children|Comedy|Fantasy</td>\n",
       "    </tr>\n",
       "  </tbody>\n",
       "</table>\n",
       "</div>"
      ],
      "text/plain": [
       "   movieId             title                                       genres\n",
       "0        1  Toy Story (1995)  Adventure|Animation|Children|Comedy|Fantasy"
      ]
     },
     "execution_count": 62,
     "metadata": {},
     "output_type": "execute_result"
    }
   ],
   "source": [
    "filmes = pd.read_csv(\"aula0/movies.csv\")\n",
    "filmes.query(\"movieId == 1\")"
   ]
  },
  {
   "cell_type": "code",
   "execution_count": 64,
   "metadata": {},
   "outputs": [
    {
     "data": {
      "text/html": [
       "<div>\n",
       "<style scoped>\n",
       "    .dataframe tbody tr th:only-of-type {\n",
       "        vertical-align: middle;\n",
       "    }\n",
       "\n",
       "    .dataframe tbody tr th {\n",
       "        vertical-align: top;\n",
       "    }\n",
       "\n",
       "    .dataframe thead th {\n",
       "        text-align: right;\n",
       "    }\n",
       "</style>\n",
       "<table border=\"1\" class=\"dataframe\">\n",
       "  <thead>\n",
       "    <tr style=\"text-align: right;\">\n",
       "      <th></th>\n",
       "      <th>userId</th>\n",
       "      <th>movieId</th>\n",
       "      <th>rating</th>\n",
       "      <th>timestamp</th>\n",
       "    </tr>\n",
       "  </thead>\n",
       "  <tbody>\n",
       "    <tr>\n",
       "      <th>0</th>\n",
       "      <td>1</td>\n",
       "      <td>1</td>\n",
       "      <td>4.0</td>\n",
       "      <td>964982703</td>\n",
       "    </tr>\n",
       "    <tr>\n",
       "      <th>516</th>\n",
       "      <td>5</td>\n",
       "      <td>1</td>\n",
       "      <td>4.0</td>\n",
       "      <td>847434962</td>\n",
       "    </tr>\n",
       "    <tr>\n",
       "      <th>874</th>\n",
       "      <td>7</td>\n",
       "      <td>1</td>\n",
       "      <td>4.5</td>\n",
       "      <td>1106635946</td>\n",
       "    </tr>\n",
       "    <tr>\n",
       "      <th>1434</th>\n",
       "      <td>15</td>\n",
       "      <td>1</td>\n",
       "      <td>2.5</td>\n",
       "      <td>1510577970</td>\n",
       "    </tr>\n",
       "    <tr>\n",
       "      <th>1667</th>\n",
       "      <td>17</td>\n",
       "      <td>1</td>\n",
       "      <td>4.5</td>\n",
       "      <td>1305696483</td>\n",
       "    </tr>\n",
       "  </tbody>\n",
       "</table>\n",
       "</div>"
      ],
      "text/plain": [
       "      userId  movieId  rating   timestamp\n",
       "0          1        1     4.0   964982703\n",
       "516        5        1     4.0   847434962\n",
       "874        7        1     4.5  1106635946\n",
       "1434      15        1     2.5  1510577970\n",
       "1667      17        1     4.5  1305696483"
      ]
     },
     "execution_count": 64,
     "metadata": {},
     "output_type": "execute_result"
    }
   ],
   "source": [
    "#vendo as notas de usuarios distintos do filme ToyStory\n",
    "notas1 = notas.query(\"movieId==1\")\n",
    "notas1.head()"
   ]
  },
  {
   "cell_type": "code",
   "execution_count": 67,
   "metadata": {},
   "outputs": [
    {
     "data": {
      "text/plain": [
       "Text(0.5, 1.0, 'Distribuicao de notas para o Toy Story')"
      ]
     },
     "execution_count": 67,
     "metadata": {},
     "output_type": "execute_result"
    },
    {
     "data": {
      "image/png": "[encoded data removed]",
      "text/plain": [
       "<Figure size 432x288 with 1 Axes>"
      ]
     },
     "metadata": {
      "needs_background": "light"
     },
     "output_type": "display_data"
    }
   ],
   "source": [
    "#vendo um histograma das notas do ToyStory\n",
    "ax = sns.distplot(notas1.rating)\n",
    "ax.set(xlabel=\"Nota Media\", ylabel = \"densidade\")\n",
    "ax.set_title(\"Distribuicao de notas para o Toy Story\")"
   ]
  },
  {
   "cell_type": "code",
   "execution_count": 69,
   "metadata": {},
   "outputs": [
    {
     "data": {
      "text/plain": [
       "Text(0.5, 1.0, 'Distribuicao de notas para o Toy Story')"
      ]
     },
     "execution_count": 69,
     "metadata": {},
     "output_type": "execute_result"
    },
    {
     "data": {
      "image/png": "[encoded data removed]",
      "text/plain": [
       "<Figure size 432x288 with 1 Axes>"
      ]
     },
     "metadata": {
      "needs_background": "light"
     },
     "output_type": "display_data"
    }
   ],
   "source": [
    "ax = sns.boxplot(notas1.rating)\n",
    "ax.set(xlabel=\"Nota\")\n",
    "ax.set_title(\"Distribuicao de notas para o Toy Story\")"
   ]
  },
  {
   "cell_type": "markdown",
   "metadata": {},
   "source": [
    "- No grafico de boxplot ficou mais facil de visualizar\n",
    "    - Note que a mediana esta em quatro\n",
    "    - o segundo e terceiro quartil parecem ter o mesmo tamanho\n",
    "    - a cauda se alonda ate a nota 2\n",
    "    - tem notas baixas\n",
    "    - a cauda nao se alonga para a direita pois tem uma barreira no 5 (nota maxima)\n",
    "- A mediana no movie lens (proximo a 3.5) e abaixo da mediana do Toy Story (proximo 4)"
   ]
  },
  {
   "cell_type": "code",
   "execution_count": 70,
   "metadata": {},
   "outputs": [
    {
     "data": {
      "text/plain": [
       "3.9209302325581397"
      ]
     },
     "execution_count": 70,
     "metadata": {},
     "output_type": "execute_result"
    }
   ],
   "source": [
    "#media das notas de ToyStory\n",
    "notas1.rating.mean()"
   ]
  },
  {
   "cell_type": "code",
   "execution_count": 71,
   "metadata": {},
   "outputs": [
    {
     "data": {
      "text/plain": [
       "215"
      ]
     },
     "execution_count": 71,
     "metadata": {},
     "output_type": "execute_result"
    }
   ],
   "source": [
    "notas1.rating.count()"
   ]
  },
  {
   "cell_type": "markdown",
   "metadata": {},
   "source": [
    "- Como temos um sample maior que 30 votos, consigo aplicar o Z-Test"
   ]
  },
  {
   "cell_type": "code",
   "execution_count": 73,
   "metadata": {},
   "outputs": [
    {
     "data": {
      "text/plain": [
       "(3.8093359183563402, 4.032524546759939)"
      ]
     },
     "execution_count": 73,
     "metadata": {},
     "output_type": "execute_result"
    }
   ],
   "source": [
    "#aplicando um teste esatistico\n",
    "zconfint(notas1.rating)"
   ]
  },
  {
   "cell_type": "markdown",
   "metadata": {},
   "source": [
    "- generalizando as notas do Toy Story defino uma intervalo de confianca\n",
    "\n",
    "Vamos agora tentar nao testar, mas afirmar uma hipotese. Acredito que a media do Toy Story seja aquela media calculada de todo o dataset (3.43).\n",
    "\n",
    "O ztest vai me dizer se a media desse conjunto é igual a esse outro no mundo real, nao so na amostra"
   ]
  },
  {
   "cell_type": "code",
   "execution_count": 79,
   "metadata": {},
   "outputs": [
    {
     "data": {
      "text/plain": [
       "(8.586342305916716, 8.978190401886942e-18)"
      ]
     },
     "execution_count": 79,
     "metadata": {},
     "output_type": "execute_result"
    }
   ],
   "source": [
    "from statsmodels.stats.weightstats import ztest\n",
    "ztest(notas1.rating, value = 3.4320503405352603)"
   ]
  },
  {
   "cell_type": "markdown",
   "metadata": {},
   "source": [
    "- o tstat é o resultado de teste estatistico (8.58)\n",
    "- o pValue é um valor muito pequeno elevado a e-18, como ele é muito menor que o nosso 0.05 (5%), vou descartar a hipotese de que o valor é igual a 3.43\n",
    "- Isso é apenas um teste estatístico"
   ]
  },
  {
   "cell_type": "code",
   "execution_count": 81,
   "metadata": {},
   "outputs": [
    {
     "data": {
      "text/plain": [
       "[<matplotlib.lines.Line2D at 0x1fdfe1f1e08>]"
      ]
     },
     "execution_count": 81,
     "metadata": {},
     "output_type": "execute_result"
    },
    {
     "data": {
      "image/png": "[encoded data removed]",
      "text/plain": [
       "<Figure size 432x288 with 1 Axes>"
      ]
     },
     "metadata": {
      "needs_background": "light"
     },
     "output_type": "display_data"
    }
   ],
   "source": [
    "np.random.seed(75241)\n",
    "temp = notas1.sample(frac = 1).rating\n",
    "\n",
    "medias = [temp[0:i].mean() for i in range(1, len(temp))]\n",
    "\n",
    "plt.plot(medias)"
   ]
  },
  {
   "cell_type": "markdown",
   "metadata": {},
   "source": [
    "- Vamos ver o que acontece quando aplica-se o Z-Test para poucas amostras"
   ]
  },
  {
   "cell_type": "code",
   "execution_count": 96,
   "metadata": {},
   "outputs": [
    {
     "data": {
      "text/plain": [
       "[(2, 4.5, 0.032687621135204896),\n",
       " (3, 4.0, 0.3252543510880489),\n",
       " (4, 3.875, 0.29952196979944745),\n",
       " (5, 3.9, 0.15826781784711086),\n",
       " (6, 3.9166666666666665, 0.07406936464331344),\n",
       " (7, 3.9285714285714284, 0.03058372185045264),\n",
       " (8, 4.0625, 0.008546846816661634),\n",
       " (9, 3.9444444444444446, 0.034351369792154834),\n",
       " (10, 3.6, 0.6797757440816464),\n",
       " (11, 3.590909090909091, 0.6661040559180447),\n",
       " (12, 3.5, 0.8452594429449549),\n",
       " (13, 3.5, 0.8319722700425317),\n",
       " (14, 3.5357142857142856, 0.7285036535608292),\n",
       " (15, 3.6, 0.5561564945645507),\n",
       " (16, 3.5625, 0.6284166359766319),\n",
       " (17, 3.6470588235294117, 0.42056196093078513),\n",
       " (18, 3.7222222222222223, 0.2692718087435868),\n",
       " (19, 3.6842105263157894, 0.3157395629293568),\n",
       " (20, 3.65, 0.36558117183067695),\n",
       " (21, 3.5714285714285716, 0.5650170364597873),\n",
       " (22, 3.590909090909091, 0.4930885087384419),\n",
       " (23, 3.608695652173913, 0.4265824656611449),\n",
       " (24, 3.625, 0.36578337526912086),\n",
       " (25, 3.64, 0.3108287352909964),\n",
       " (26, 3.6538461538461537, 0.26171758950670954),\n",
       " (27, 3.6481481481481484, 0.2559999054486449),\n",
       " (28, 3.6964285714285716, 0.16314137427171593),\n",
       " (29, 3.7413793103448274, 0.10054986793464257),\n",
       " (30, 3.7333333333333334, 0.09812718831667805),\n",
       " (31, 3.7419354838709675, 0.07894877889458934),\n",
       " (32, 3.671875, 0.19389049416761317),\n",
       " (33, 3.6666666666666665, 0.18994435269346233),\n",
       " (34, 3.7058823529411766, 0.12400478766945784),\n",
       " (35, 3.742857142857143, 0.07870821336871098),\n",
       " (36, 3.7222222222222223, 0.09353576061527746),\n",
       " (37, 3.7027027027027026, 0.11013590254134484),\n",
       " (38, 3.736842105263158, 0.070293980214127),\n",
       " (39, 3.7435897435897436, 0.057719600728433226),\n",
       " (40, 3.725, 0.06895669959313765),\n",
       " (41, 3.7560975609756095, 0.043027696867534854),\n",
       " (42, 3.7857142857142856, 0.026192682251694282),\n",
       " (43, 3.813953488372093, 0.015559932099710492),\n",
       " (44, 3.8181818181818183, 0.01233272538941352),\n",
       " (45, 3.8222222222222224, 0.00971325069982623),\n",
       " (46, 3.8043478260869565, 0.012260404094830826),\n",
       " (47, 3.7872340425531914, 0.015299059283941084),\n",
       " (48, 3.8125, 0.008966188879749698),\n",
       " (49, 3.806122448979592, 0.008766884002523942),\n",
       " (50, 3.81, 0.006897537294395224),\n",
       " (51, 3.8137254901960786, 0.005394516156167565),\n",
       " (52, 3.8173076923076925, 0.004193844231736312),\n",
       " (53, 3.80188679245283, 0.005385212289644282),\n",
       " (54, 3.8055555555555554, 0.004195763368449785),\n",
       " (55, 3.790909090909091, 0.005368352947838337),\n",
       " (56, 3.7767857142857144, 0.006794205663451532),\n",
       " (57, 3.763157894736842, 0.008512220201001898),\n",
       " (58, 3.7844827586206895, 0.004975558567317606),\n",
       " (59, 3.788135593220339, 0.003904050433428437),\n",
       " (60, 3.808333333333333, 0.0022169155153936113),\n",
       " (61, 3.8114754098360657, 0.0017134856636438817),\n",
       " (62, 3.7983870967741935, 0.0022185468321933607),\n",
       " (63, 3.7936507936507935, 0.0021667091142656882),\n",
       " (64, 3.7890625, 0.0021155742986059037),\n",
       " (65, 3.792307692307692, 0.001638169688311084),\n",
       " (66, 3.7803030303030303, 0.002112904717074153),\n",
       " (67, 3.783582089552239, 0.0016391796508841768),\n",
       " (68, 3.7720588235294117, 0.002107877006211813),\n",
       " (69, 3.7753623188405796, 0.001638208006937132),\n",
       " (70, 3.7785714285714285, 0.0012667046775475992),\n",
       " (71, 3.76056338028169, 0.0022426047709492537),\n",
       " (72, 3.763888888888889, 0.0017525084760790894),\n",
       " (73, 3.7739726027397262, 0.0011365250751412),\n",
       " (74, 3.7905405405405403, 0.0006361085905667348),\n",
       " (75, 3.8066666666666666, 0.00035042445221225517),\n",
       " (76, 3.8157894736842106, 0.00021841519783205381),\n",
       " (77, 3.811688311688312, 0.0002133389727594162),\n",
       " (78, 3.8141025641025643, 0.0001607423772756106),\n",
       " (79, 3.8164556962025316, 0.00012053616176043722),\n",
       " (80, 3.83125, 6.355135417245393e-05),\n",
       " (81, 3.845679012345679, 3.300722928041108e-05),\n",
       " (82, 3.841463414634146, 3.2304003745802037e-05),\n",
       " (83, 3.8433734939759034, 2.374556884407959e-05),\n",
       " (84, 3.857142857142857, 1.2077073301628071e-05),\n",
       " (85, 3.847058823529412, 1.7088673225760976e-05),\n",
       " (86, 3.8313953488372094, 3.608185615666001e-05),\n",
       " (87, 3.8333333333333335, 2.681257612846113e-05),\n",
       " (88, 3.8238636363636362, 3.681562512354262e-05),\n",
       " (89, 3.808988764044944, 7.313870608516293e-05),\n",
       " (90, 3.811111111111111, 5.525606847923858e-05),\n",
       " (91, 3.8131868131868134, 4.1572170968967595e-05),\n",
       " (92, 3.8206521739130435, 2.540508532221419e-05),\n",
       " (93, 3.8225806451612905, 1.891161316381205e-05),\n",
       " (94, 3.824468085106383, 1.4019284811900051e-05),\n",
       " (95, 3.8157894736842106, 1.9300245184706242e-05),\n",
       " (96, 3.8177083333333335, 1.4337154349835086e-05),\n",
       " (97, 3.829896907216495, 7.470440358184904e-06),\n",
       " (98, 3.8418367346938775, 3.843679820388642e-06),\n",
       " (99, 3.823232323232323, 1.3101881021708747e-05),\n",
       " (100, 3.815, 1.773810320525232e-05),\n",
       " (101, 3.797029702970297, 5.156319239792069e-05),\n",
       " (102, 3.799019607843137, 3.956916550250529e-05),\n",
       " (103, 3.7815533980582523, 0.00010532490098882295),\n",
       " (104, 3.7836538461538463, 8.207340957567451e-05),\n",
       " (105, 3.7857142857142856, 6.373666797007717e-05),\n",
       " (106, 3.7877358490566038, 4.9327620681370155e-05),\n",
       " (107, 3.794392523364486, 3.158510492524062e-05),\n",
       " (108, 3.7824074074074074, 5.741195652105531e-05),\n",
       " (109, 3.7844036697247705, 4.452063805181686e-05),\n",
       " (110, 3.7954545454545454, 2.5034997999585643e-05),\n",
       " (111, 3.8018018018018016, 1.593383648900579e-05),\n",
       " (112, 3.8035714285714284, 1.2181676067708934e-05),\n",
       " (113, 3.8053097345132745, 9.282385148662153e-06),\n",
       " (114, 3.807017543859649, 7.049800097807919e-06),\n",
       " (115, 3.8086956521739133, 5.336512954125956e-06),\n",
       " (116, 3.8017241379310347, 7.132420343988585e-06),\n",
       " (117, 3.8119658119658117, 3.8777239631651985e-06),\n",
       " (118, 3.809322033898305, 3.789024541840527e-06),\n",
       " (119, 3.80672268907563, 3.701652394675697e-06),\n",
       " (120, 3.8041666666666667, 3.6156244484077226e-06),\n",
       " (121, 3.809917355371901, 2.234409015059164e-06),\n",
       " (122, 3.819672131147541, 1.1935921381583365e-06),\n",
       " (123, 3.821138211382114, 8.907771906449635e-07),\n",
       " (124, 3.814516129032258, 1.2165528009735344e-06),\n",
       " (125, 3.808, 1.6492029231809994e-06),\n",
       " (126, 3.8095238095238093, 1.2383902023580329e-06),\n",
       " (127, 3.7992125984251968, 2.4447090501870245e-06),\n",
       " (128, 3.80859375, 1.3259626346058774e-06),\n",
       " (129, 3.802325581395349, 1.7799716841358229e-06),\n",
       " (130, 3.7884615384615383, 5.106740278151876e-06),\n",
       " (131, 3.786259541984733, 4.986913728968981e-06),\n",
       " (132, 3.7954545454545454, 2.7799402746913627e-06),\n",
       " (133, 3.793233082706767, 2.715247214619515e-06),\n",
       " (134, 3.794776119402985, 2.075872794199074e-06),\n",
       " (135, 3.785185185185185, 3.869818273690176e-06),\n",
       " (136, 3.786764705882353, 2.9771501112494567e-06),\n",
       " (137, 3.7846715328467155, 2.906855295169462e-06),\n",
       " (138, 3.786231884057971, 2.229978257172786e-06),\n",
       " (139, 3.7805755395683454, 2.923020543496903e-06),\n",
       " (140, 3.7857142857142856, 1.861736987479408e-06),\n",
       " (141, 3.780141843971631, 2.441850783063681e-06),\n",
       " (142, 3.7816901408450705, 1.8743496554091788e-06),\n",
       " (143, 3.7832167832167833, 1.4348129269825041e-06),\n",
       " (144, 3.7847222222222223, 1.0953489095524478e-06),\n",
       " (145, 3.786206896551724, 8.33914593413763e-07),\n",
       " (146, 3.7945205479452055, 4.5654100105346796e-07),\n",
       " (147, 3.802721088435374, 2.4781068087348057e-07),\n",
       " (148, 3.804054054054054, 1.8647631467675183e-07),\n",
       " (149, 3.8053691275167787, 1.3994497318116365e-07),\n",
       " (150, 3.8066666666666666, 1.0474187906210276e-07),\n",
       " (151, 3.814569536423841, 5.5638738167742754e-08),\n",
       " (152, 3.8223684210526314, 2.9310557354650833e-08),\n",
       " (153, 3.823529411764706, 2.169106984430368e-08),\n",
       " (154, 3.8279220779220777, 1.296533237512879e-08),\n",
       " (155, 3.835483870967742, 6.69721358751862e-09),\n",
       " (156, 3.8365384615384617, 4.90242789582791e-09),\n",
       " (157, 3.837579617834395, 3.579198670373318e-09),\n",
       " (158, 3.8322784810126582, 5.065038279328382e-09),\n",
       " (159, 3.839622641509434, 2.593122661980238e-09),\n",
       " (160, 3.840625, 1.888254008877338e-09),\n",
       " (161, 3.829192546583851, 6.89862648428305e-09),\n",
       " (162, 3.830246913580247, 5.088654193995244e-09),\n",
       " (163, 3.831288343558282, 3.744165106538347e-09),\n",
       " (164, 3.826219512195122, 5.23409616911476e-09),\n",
       " (165, 3.8333333333333335, 2.715045381204715e-09),\n",
       " (166, 3.8343373493975905, 1.9924856311040464e-09),\n",
       " (167, 3.841317365269461, 1.021658248002295e-09),\n",
       " (168, 3.8452380952380953, 5.986014433616568e-10),\n",
       " (169, 3.8520710059171597, 3.026046512497991e-10),\n",
       " (170, 3.85, 2.9667891226340393e-10),\n",
       " (171, 3.8508771929824563, 2.1473424779915278e-10),\n",
       " (172, 3.8459302325581395, 3.087411923363227e-10),\n",
       " (173, 3.8497109826589595, 1.7917893544489147e-10),\n",
       " (174, 3.8505747126436782, 1.2939702905988413e-10),\n",
       " (175, 3.854285714285714, 7.437375301814674e-11),\n",
       " (176, 3.8607954545454546, 3.68536489501502e-11),\n",
       " (177, 3.867231638418079, 1.8128994549484078e-11),\n",
       " (178, 3.8707865168539324, 1.0226884113071301e-11),\n",
       " (179, 3.863128491620112, 2.476407211840968e-11),\n",
       " (180, 3.863888888888889, 1.7738569534234892e-11),\n",
       " (181, 3.8701657458563536, 8.709233016873075e-12),\n",
       " (182, 3.870879120879121, 6.201886620364462e-12),\n",
       " (183, 3.866120218579235, 9.186029818083115e-12),\n",
       " (184, 3.8668478260869565, 6.5513651601619266e-12),\n",
       " (185, 3.8702702702702703, 3.688482306426001e-12),\n",
       " (186, 3.8763440860215055, 1.787257905280176e-12),\n",
       " (187, 3.8823529411764706, 8.600037830948384e-13),\n",
       " (188, 3.882978723404255, 6.056150219694947e-13),\n",
       " (189, 3.8835978835978837, 4.2551292144889585e-13),\n",
       " (190, 3.886842105263158, 2.3370424038676717e-13),\n",
       " (191, 3.887434554973822, 1.6326985261947053e-13),\n",
       " (192, 3.8880208333333335, 1.1380629973295943e-13),\n",
       " (193, 3.88860103626943, 7.91493424125946e-14),\n",
       " (194, 3.8917525773195876, 4.278258438283099e-14),\n",
       " (195, 3.8923076923076922, 2.958555465053198e-14),\n",
       " (196, 3.8877551020408165, 4.623476152843946e-14),\n",
       " (197, 3.8908629441624365, 2.493280074064741e-14),\n",
       " (198, 3.893939393939394, 1.3370684043107038e-14),\n",
       " (199, 3.899497487437186, 6.160613753635314e-15),\n",
       " (200, 3.895, 9.749074156510373e-15),\n",
       " (201, 3.8955223880597014, 6.7127681104016146e-15),\n",
       " (202, 3.896039603960396, 4.6119520070165714e-15),\n",
       " (203, 3.896551724137931, 3.1616414709692205e-15),\n",
       " (204, 3.9019607843137254, 1.443848995257856e-15),\n",
       " (205, 3.897560975609756, 2.309845735394206e-15),\n",
       " (206, 3.9029126213592233, 1.0555998801123747e-15),\n",
       " (207, 3.9082125603864735, 4.793088683620973e-16),\n",
       " (208, 3.9086538461538463, 3.2609910418318076e-16),\n",
       " (209, 3.9138755980861246, 1.466694033719233e-16),\n",
       " (210, 3.914285714285714, 9.927030087378508e-17),\n",
       " (211, 3.914691943127962, 6.704625749290763e-17),\n",
       " (212, 3.9150943396226414, 4.518611521397103e-17),\n",
       " (213, 3.915492957746479, 3.038859398683116e-17),\n",
       " (214, 3.9205607476635516, 1.3418325209316871e-17)]"
      ]
     },
     "execution_count": 96,
     "metadata": {},
     "output_type": "execute_result"
    }
   ],
   "source": [
    "np.random.seed(75241)\n",
    "temp = notas1.sample(frac = 1).rating\n",
    "\n",
    "def calcula_teste(i):\n",
    "    media = temp[0:i].mean()\n",
    "    stat, pvalue = ztest(temp[0:i], value = 3.4320503405352603)\n",
    "    return (i, media, pvalue)\n",
    "    \n",
    "#comeca a partir do 2, pois o 1 tem um valor  nan de pvalue   \n",
    "medias = [calcula_teste(i) for i in range(2, len(temp))]\n",
    "\n",
    "#apresenta o numero de amostras, a media e o pvalue\n",
    "medias"
   ]
  },
  {
   "cell_type": "code",
   "execution_count": 97,
   "metadata": {},
   "outputs": [],
   "source": [
    "#transformado em um Array de Numpy\n",
    "valores = np.array(medias)"
   ]
  },
  {
   "cell_type": "code",
   "execution_count": 98,
   "metadata": {},
   "outputs": [
    {
     "data": {
      "text/plain": [
       "[<matplotlib.lines.Line2D at 0x1fdfe5a1548>]"
      ]
     },
     "execution_count": 98,
     "metadata": {},
     "output_type": "execute_result"
    },
    {
     "data": {
      "image/png": "[encoded data removed]",
      "text/plain": [
       "<Figure size 432x288 with 1 Axes>"
      ]
     },
     "metadata": {
      "needs_background": "light"
     },
     "output_type": "display_data"
    }
   ],
   "source": [
    "plt.plot(valores[:,1]) #prot de todas as linhas da coluna index 1"
   ]
  },
  {
   "cell_type": "code",
   "execution_count": 100,
   "metadata": {},
   "outputs": [
    {
     "data": {
      "text/plain": [
       "[<matplotlib.lines.Line2D at 0x1fdfe639848>]"
      ]
     },
     "execution_count": 100,
     "metadata": {},
     "output_type": "execute_result"
    },
    {
     "data": {
      "image/png": "[encoded data removed]",
      "text/plain": [
       "<Figure size 432x288 with 1 Axes>"
      ]
     },
     "metadata": {
      "needs_background": "light"
     },
     "output_type": "display_data"
    }
   ],
   "source": [
    "#note que os dados no eixo x nao comeca em zero, corrigindo\n",
    "plt.plot(valores[:,0], valores[:,1])\n",
    "plt.plot(valores[:,0], valores[:,2])"
   ]
  },
  {
   "cell_type": "code",
   "execution_count": 102,
   "metadata": {},
   "outputs": [
    {
     "data": {
      "text/plain": [
       "<matplotlib.collections.LineCollection at 0x1fdfde138c8>"
      ]
     },
     "execution_count": 102,
     "metadata": {},
     "output_type": "execute_result"
    },
    {
     "data": {
      "image/png": "[encoded data removed]",
      "text/plain": [
       "<Figure size 432x288 with 1 Axes>"
      ]
     },
     "metadata": {
      "needs_background": "light"
     },
     "output_type": "display_data"
    }
   ],
   "source": [
    "# inserindo uma linha em 0.05 para avaliar o pValue\n",
    "plt.plot(valores[:,0], valores[:,1])\n",
    "plt.plot(valores[:,0], valores[:,2])\n",
    "plt.hlines(y = 0.05, xmin = 2, xmax = len(temp), colors='r')"
   ]
  },
  {
   "cell_type": "markdown",
   "metadata": {},
   "source": [
    "O Teste Z é realizado quando temos um número grande de amostras - por exemplo, a partir de 50.\n",
    "\n",
    "Ou seja, na prática esse tipo de gráfico não é executado, nós apenas queríamos visualizar as consequências de trabalharmos com um conjunto pequeno de dados. Uma possibilidade seria cairmos em uma situação na qual não teríamos evidências suficientes para descartar a hipótese nula (de que a média é igual a 3.4320503405352603), concluindo, portanto, que a média do Toy Story é igual àquela usada como referência.\n",
    "\n",
    "Nessa situação, poderia-se afirmar, a partir do Teste Z:\n",
    "\n",
    "- que não há evidências para descartar a hipótese nula\n",
    "- que não há dados suficientes para tirar essa conclusão\n",
    "\n",
    "É importante, em nossas análises, evidenciarmos qual o tamanho da amostra e qual o p value para que as pessoas tenham uma noção clara do comportamento dos dados.\n",
    "\n",
    "PORTANTO, as medias são diferentes, ou seja, não tem uma relação.\n",
    "\n",
    "Vamos ver agora se é possível imprimirmos um intervalo de confiança entre duas distribuições.\n",
    "\n",
    "# Chapter 5\n",
    "## Comparando a média de duas amostras - Ztest\n",
    "\n",
    "- notas1 sao as notas de Toy Story e notas são as notas de todos os filmes do dataset\n",
    "- pega a media das distribuições de cada tipo e cria um intervalo de confianca entra essas duas medias"
   ]
  },
  {
   "cell_type": "code",
   "execution_count": 106,
   "metadata": {},
   "outputs": [
    {
     "data": {
      "text/plain": [
       "(0.2799245129192442, 0.5588219849631111)"
      ]
     },
     "execution_count": 106,
     "metadata": {},
     "output_type": "execute_result"
    }
   ],
   "source": [
    "# intervalo de confianca entra essas duas medias\n",
    "zconfint(notas1.rating, notas.rating)"
   ]
  },
  {
   "cell_type": "markdown",
   "metadata": {},
   "source": [
    "- Significa que as medias das notas do filme 1 esta entre 0.28 e 0.56 mais altas que as medias das notas de todos os filmes"
   ]
  },
  {
   "cell_type": "code",
   "execution_count": 108,
   "metadata": {},
   "outputs": [
    {
     "name": "stdout",
     "output_type": "stream",
     "text": [
      "(5.894327101501841, 3.762112778881965e-09)\n"
     ]
    }
   ],
   "source": [
    "#identificando o pvalue\n",
    "print(ztest(notas1.rating, notas.rating))"
   ]
  },
  {
   "cell_type": "markdown",
   "metadata": {},
   "source": [
    "- note que o pvalue é menor que 0.05 (3.76 e-09)\n",
    "- Portanto, estatisticamente, existe uma diferença significante entre as amostras, que está representada dentro do intervalo de confiança que calculamos anteriormente.\n",
    "\n",
    "<p style='color:red'>A inversao dos parametros, indica que as notas gerais são menores que as notas do Toy Story.</p>"
   ]
  },
  {
   "cell_type": "code",
   "execution_count": 109,
   "metadata": {},
   "outputs": [
    {
     "name": "stdout",
     "output_type": "stream",
     "text": [
      "(-5.894327101501841, 3.762112778881965e-09)\n"
     ]
    },
    {
     "data": {
      "text/plain": [
       "(-0.5588219849631111, -0.2799245129192442)"
      ]
     },
     "execution_count": 109,
     "metadata": {},
     "output_type": "execute_result"
    }
   ],
   "source": [
    "print(ztest(notas.rating, notas1.rating))\n",
    "zconfint(notas.rating, notas1.rating)"
   ]
  },
  {
   "cell_type": "markdown",
   "metadata": {},
   "source": [
    "## Comparando a média de duas amostras - T-test\n",
    "- Necessario usar o statsmodels versao superior ao 0.9.0"
   ]
  },
  {
   "cell_type": "code",
   "execution_count": 118,
   "metadata": {},
   "outputs": [
    {
     "data": {
      "text/plain": [
       "Ttest_indResult(statistic=5.894327101501841, pvalue=3.774003138720876e-09)"
      ]
     },
     "execution_count": 118,
     "metadata": {},
     "output_type": "execute_result"
    }
   ],
   "source": [
    "from scipy.stats import ttest_ind\n",
    "ttest_ind(notas1.rating, notas.rating)"
   ]
  },
  {
   "cell_type": "code",
   "execution_count": 119,
   "metadata": {},
   "outputs": [
    {
     "data": {
      "text/html": [
       "<table class=\"simpletable\">\n",
       "<caption>Test for equality of means</caption>\n",
       "<tr>\n",
       "      <td></td>         <th>coef</th>     <th>std err</th>      <th>t</th>      <th>P>|t|</th>  <th>[0.025</th>    <th>0.975]</th>  \n",
       "</tr>\n",
       "<tr>\n",
       "  <th>subset #1</th> <td>   -0.4194</td> <td>    0.071</td> <td>   -5.894</td> <td> 0.000</td> <td>   -0.559</td> <td>   -0.280</td>\n",
       "</tr>\n",
       "</table>"
      ],
      "text/plain": [
       "<class 'statsmodels.iolib.table.SimpleTable'>"
      ]
     },
     "execution_count": 119,
     "metadata": {},
     "output_type": "execute_result"
    }
   ],
   "source": [
    "#ou usando statsmodels\n",
    "descr_todas_as_notas = DescrStatsW(notas.rating)\n",
    "descr_toy_story = DescrStatsW(notas1.rating)\n",
    "comparacao = descr_todas_as_notas.get_compare(descr_toy_story)\n",
    "comparacao.summary()"
   ]
  },
  {
   "cell_type": "code",
   "execution_count": 120,
   "metadata": {},
   "outputs": [
    {
     "data": {
      "text/plain": [
       "'0.10.1'"
      ]
     },
     "execution_count": 120,
     "metadata": {},
     "output_type": "execute_result"
    }
   ],
   "source": [
    "import statsmodels as sm\n",
    "sm.__version__"
   ]
  },
  {
   "cell_type": "code",
   "execution_count": 124,
   "metadata": {},
   "outputs": [
    {
     "data": {
      "text/html": [
       "<table class=\"simpletable\">\n",
       "<caption>Test for equality of means</caption>\n",
       "<tr>\n",
       "      <td></td>         <th>coef</th>     <th>std err</th>      <th>t</th>      <th>P>|t|</th>  <th>[0.025</th>    <th>0.975]</th>  \n",
       "</tr>\n",
       "<tr>\n",
       "  <th>subset #1</th> <td>   -0.4194</td> <td>    0.071</td> <td>   -5.894</td> <td> 0.000</td> <td>   -0.559</td> <td>   -0.280</td>\n",
       "</tr>\n",
       "</table>"
      ],
      "text/plain": [
       "<class 'statsmodels.iolib.table.SimpleTable'>"
      ]
     },
     "execution_count": 124,
     "metadata": {},
     "output_type": "execute_result"
    }
   ],
   "source": [
    "#usando o t test como compacao\n",
    "comparacao.summary(use_t=True)"
   ]
  },
  {
   "cell_type": "markdown",
   "metadata": {},
   "source": [
    "## Visualizando graficamente"
   ]
  },
  {
   "cell_type": "code",
   "execution_count": 126,
   "metadata": {},
   "outputs": [
    {
     "data": {
      "text/plain": [
       "Text(0.5, 1.0, 'Distribuicao das notas de acordo com filmes')"
      ]
     },
     "execution_count": 126,
     "metadata": {},
     "output_type": "execute_result"
    },
    {
     "data": {
      "image/png": "[encoded data removed]",
      "text/plain": [
       "<Figure size 432x288 with 1 Axes>"
      ]
     },
     "metadata": {
      "needs_background": "light"
     },
     "output_type": "display_data"
    }
   ],
   "source": [
    "plt.boxplot([notas.rating, notas1.rating], labels=[\"Todas a notas\", \"Toy Story\"])\n",
    "plt.title(\"Distribuicao das notas de acordo com filmes\")"
   ]
  },
  {
   "cell_type": "markdown",
   "metadata": {},
   "source": [
    "## Cuidado ao interpretar o intervalo de confiança"
   ]
  },
  {
   "cell_type": "code",
   "execution_count": 127,
   "metadata": {},
   "outputs": [
    {
     "data": {
      "text/plain": [
       "Text(0.5, 1.0, 'Distribuicao das notas de acordo com filmes')"
      ]
     },
     "execution_count": 127,
     "metadata": {},
     "output_type": "execute_result"
    },
    {
     "data": {
      "image/png": "[encoded data removed]",
      "text/plain": [
       "<Figure size 432x288 with 1 Axes>"
      ]
     },
     "metadata": {
      "needs_background": "light"
     },
     "output_type": "display_data"
    }
   ],
   "source": [
    "plt.boxplot([notas.rating, notas1[3:12].rating], labels=[\"Todas a notas\", \"Toy Story do 3 ao 12\"])\n",
    "plt.title(\"Distribuicao das notas de acordo com filmes\")"
   ]
  },
  {
   "cell_type": "markdown",
   "metadata": {},
   "source": [
    "- note que neste intervalo as notas levariam a entender que se tratavam de notas "
   ]
  },
  {
   "cell_type": "code",
   "execution_count": 131,
   "metadata": {},
   "outputs": [
    {
     "data": {
      "text/html": [
       "<table class=\"simpletable\">\n",
       "<caption>Test for equality of means</caption>\n",
       "<tr>\n",
       "      <td></td>         <th>coef</th>     <th>std err</th>      <th>t</th>      <th>P>|t|</th>  <th>[0.025</th>    <th>0.975]</th>  \n",
       "</tr>\n",
       "<tr>\n",
       "  <th>subset #1</th> <td>   -0.0540</td> <td>    0.348</td> <td>   -0.155</td> <td> 0.877</td> <td>   -0.735</td> <td>    0.627</td>\n",
       "</tr>\n",
       "</table>"
      ],
      "text/plain": [
       "<class 'statsmodels.iolib.table.SimpleTable'>"
      ]
     },
     "execution_count": 131,
     "metadata": {},
     "output_type": "execute_result"
    }
   ],
   "source": [
    "descr_todas_as_notas = DescrStatsW(notas.rating)\n",
    "descr_toy_story = DescrStatsW(notas1[3:12].rating)\n",
    "comparacao = descr_todas_as_notas.get_compare(descr_toy_story)\n",
    "comparacao.summary(use_t=True) #nao devemos usar o ZTest para uma quantidade pequena"
   ]
  },
  {
   "cell_type": "markdown",
   "metadata": {},
   "source": [
    "Como nosso p value é 0.877, não podemos descartar a hipótese nula (de que as médias desses conjuntos são iguais). Já o intervalo de confiança vai de -0.735 até 0.627 - um intervalo discrepante e que não permite sabermos se uma média é maior ou menor do que a outra, impedindo, também, que tomemos uma decisão em relação a essa comparação. Dessa forma, nossas únicas alternativas são assumirmos que elas são iguais ou que simplesmente não temos dados suficientes para essa análise.\n",
    "\n",
    "Uma outra situação possível seria obtermos um p value indicando que as duas médias são diferentes, mas um intervalo de confiança entre -0.02 a -0.01 - ou seja, uma diferença pouquíssimo significativa quando estamos tratando da qualidade de um filme. Óbvio que, em outros casos, como na taxa de recuperação de pacientes utilizando um medicamento, uma diferença de 1% ou 2% a mais ou a menos seria bastante expressiva.\n",
    "\n",
    "<p style=\"color:red\">O intervalo de confianca depende do contexto. Para filmes é inexpressivo, mas para um contexto de vida, é significativo. </p>\n",
    "\n",
    "Portanto, em nossas análises estatísticas, devemos prestar atenção não só ao p value, como também ao intervalo de confiança e a como esses valores se aplicam à situação com a qual estamos trabalhando."
   ]
  },
  {
   "cell_type": "markdown",
   "metadata": {},
   "source": [
    "# Chapter 6\n",
    "## Comparando Filmes"
   ]
  },
  {
   "cell_type": "code",
   "execution_count": 132,
   "metadata": {},
   "outputs": [
    {
     "data": {
      "text/html": [
       "<div>\n",
       "<style scoped>\n",
       "    .dataframe tbody tr th:only-of-type {\n",
       "        vertical-align: middle;\n",
       "    }\n",
       "\n",
       "    .dataframe tbody tr th {\n",
       "        vertical-align: top;\n",
       "    }\n",
       "\n",
       "    .dataframe thead th {\n",
       "        text-align: right;\n",
       "    }\n",
       "</style>\n",
       "<table border=\"1\" class=\"dataframe\">\n",
       "  <thead>\n",
       "    <tr style=\"text-align: right;\">\n",
       "      <th></th>\n",
       "      <th>movieId</th>\n",
       "      <th>title</th>\n",
       "      <th>genres</th>\n",
       "    </tr>\n",
       "  </thead>\n",
       "  <tbody>\n",
       "    <tr>\n",
       "      <th>0</th>\n",
       "      <td>1</td>\n",
       "      <td>Toy Story (1995)</td>\n",
       "      <td>Adventure|Animation|Children|Comedy|Fantasy</td>\n",
       "    </tr>\n",
       "    <tr>\n",
       "      <th>510</th>\n",
       "      <td>593</td>\n",
       "      <td>Silence of the Lambs, The (1991)</td>\n",
       "      <td>Crime|Horror|Thriller</td>\n",
       "    </tr>\n",
       "    <tr>\n",
       "      <th>7180</th>\n",
       "      <td>72226</td>\n",
       "      <td>Fantastic Mr. Fox (2009)</td>\n",
       "      <td>Adventure|Animation|Children|Comedy|Crime</td>\n",
       "    </tr>\n",
       "  </tbody>\n",
       "</table>\n",
       "</div>"
      ],
      "text/plain": [
       "      movieId                             title  \\\n",
       "0           1                  Toy Story (1995)   \n",
       "510       593  Silence of the Lambs, The (1991)   \n",
       "7180    72226          Fantastic Mr. Fox (2009)   \n",
       "\n",
       "                                           genres  \n",
       "0     Adventure|Animation|Children|Comedy|Fantasy  \n",
       "510                         Crime|Horror|Thriller  \n",
       "7180    Adventure|Animation|Children|Comedy|Crime  "
      ]
     },
     "execution_count": 132,
     "metadata": {},
     "output_type": "execute_result"
    }
   ],
   "source": [
    "filmes.query(\"movieId in [ 1, 593, 72226]\")"
   ]
  },
  {
   "cell_type": "code",
   "execution_count": 142,
   "metadata": {},
   "outputs": [],
   "source": [
    "notas1 = notas.query(\"movieId ==1\")\n",
    "notas593 = notas.query(\"movieId ==593\")\n",
    "notas72226 = notas.query(\"movieId ==72226\")"
   ]
  },
  {
   "cell_type": "code",
   "execution_count": 143,
   "metadata": {},
   "outputs": [
    {
     "data": {
      "text/plain": [
       "Text(0.5, 1.0, 'Distribuicao das notas de acordo com os filmes')"
      ]
     },
     "execution_count": 143,
     "metadata": {},
     "output_type": "execute_result"
    },
    {
     "data": {
      "image/png": "[encoded data removed]",
      "text/plain": [
       "<Figure size 432x288 with 1 Axes>"
      ]
     },
     "metadata": {
      "needs_background": "light"
     },
     "output_type": "display_data"
    }
   ],
   "source": [
    "plt.boxplot([notas1.rating, notas593.rating, notas72226.rating], labels=[\"Toy Story\", \"The Silence of the Lambs\", \"Fantastic Mr. Fox\"])\n",
    "plt.title(\"Distribuicao das notas de acordo com os filmes\")"
   ]
  },
  {
   "cell_type": "code",
   "execution_count": 144,
   "metadata": {},
   "outputs": [
    {
     "data": {
      "text/html": [
       "<div>\n",
       "<style scoped>\n",
       "    .dataframe tbody tr th:only-of-type {\n",
       "        vertical-align: middle;\n",
       "    }\n",
       "\n",
       "    .dataframe tbody tr th {\n",
       "        vertical-align: top;\n",
       "    }\n",
       "\n",
       "    .dataframe thead th {\n",
       "        text-align: right;\n",
       "    }\n",
       "</style>\n",
       "<table border=\"1\" class=\"dataframe\">\n",
       "  <thead>\n",
       "    <tr style=\"text-align: right;\">\n",
       "      <th></th>\n",
       "      <th>userId</th>\n",
       "      <th>movieId</th>\n",
       "      <th>rating</th>\n",
       "      <th>timestamp</th>\n",
       "    </tr>\n",
       "  </thead>\n",
       "  <tbody>\n",
       "    <tr>\n",
       "      <th>count</th>\n",
       "      <td>18.000000</td>\n",
       "      <td>18.0</td>\n",
       "      <td>18.000000</td>\n",
       "      <td>1.800000e+01</td>\n",
       "    </tr>\n",
       "    <tr>\n",
       "      <th>mean</th>\n",
       "      <td>329.722222</td>\n",
       "      <td>72226.0</td>\n",
       "      <td>4.083333</td>\n",
       "      <td>1.395218e+09</td>\n",
       "    </tr>\n",
       "    <tr>\n",
       "      <th>std</th>\n",
       "      <td>174.748157</td>\n",
       "      <td>0.0</td>\n",
       "      <td>0.895249</td>\n",
       "      <td>9.459862e+07</td>\n",
       "    </tr>\n",
       "    <tr>\n",
       "      <th>min</th>\n",
       "      <td>73.000000</td>\n",
       "      <td>72226.0</td>\n",
       "      <td>1.500000</td>\n",
       "      <td>1.262899e+09</td>\n",
       "    </tr>\n",
       "    <tr>\n",
       "      <th>25%</th>\n",
       "      <td>167.000000</td>\n",
       "      <td>72226.0</td>\n",
       "      <td>4.000000</td>\n",
       "      <td>1.279706e+09</td>\n",
       "    </tr>\n",
       "    <tr>\n",
       "      <th>50%</th>\n",
       "      <td>326.000000</td>\n",
       "      <td>72226.0</td>\n",
       "      <td>4.250000</td>\n",
       "      <td>1.441777e+09</td>\n",
       "    </tr>\n",
       "    <tr>\n",
       "      <th>75%</th>\n",
       "      <td>466.250000</td>\n",
       "      <td>72226.0</td>\n",
       "      <td>4.500000</td>\n",
       "      <td>1.471770e+09</td>\n",
       "    </tr>\n",
       "    <tr>\n",
       "      <th>max</th>\n",
       "      <td>610.000000</td>\n",
       "      <td>72226.0</td>\n",
       "      <td>5.000000</td>\n",
       "      <td>1.498522e+09</td>\n",
       "    </tr>\n",
       "  </tbody>\n",
       "</table>\n",
       "</div>"
      ],
      "text/plain": [
       "           userId  movieId     rating     timestamp\n",
       "count   18.000000     18.0  18.000000  1.800000e+01\n",
       "mean   329.722222  72226.0   4.083333  1.395218e+09\n",
       "std    174.748157      0.0   0.895249  9.459862e+07\n",
       "min     73.000000  72226.0   1.500000  1.262899e+09\n",
       "25%    167.000000  72226.0   4.000000  1.279706e+09\n",
       "50%    326.000000  72226.0   4.250000  1.441777e+09\n",
       "75%    466.250000  72226.0   4.500000  1.471770e+09\n",
       "max    610.000000  72226.0   5.000000  1.498522e+09"
      ]
     },
     "execution_count": 144,
     "metadata": {},
     "output_type": "execute_result"
    }
   ],
   "source": [
    "notas72226.describe()"
   ]
  },
  {
   "cell_type": "markdown",
   "metadata": {},
   "source": [
    "Outra análise possível, a partir da nossa visualização, é que as notas de Silence of the Lambs são melhores que as do Toy Story. Porém, várias informações estão sendo desprezadas nessa análise, como a quantidade de votos que esses filmes tiveram."
   ]
  },
  {
   "cell_type": "code",
   "execution_count": 145,
   "metadata": {},
   "outputs": [
    {
     "data": {
      "text/plain": [
       "<matplotlib.axes._subplots.AxesSubplot at 0x1fdffb1e608>"
      ]
     },
     "execution_count": 145,
     "metadata": {},
     "output_type": "execute_result"
    },
    {
     "data": {
      "image/png": "[encoded data removed]",
      "text/plain": [
       "<Figure size 432x288 with 1 Axes>"
      ]
     },
     "metadata": {
      "needs_background": "light"
     },
     "output_type": "display_data"
    }
   ],
   "source": [
    "sns.boxplot(x= \"movieId\", y = \"rating\", data = notas.query(\"movieId in (1, 593, 72226)\"))"
   ]
  },
  {
   "cell_type": "markdown",
   "metadata": {},
   "source": [
    "Agora vamos realizar nossos testes estatísticos. A ideia é estipularmos qual desses filmes é melhor, não só nos nossos conjuntos de dados, mas também extrapolando para todas as pessoas que viram esses filmes na vida real. Para isso, usaremos o DescrStatsW(). Começaremos comparando Toy Story e Silence of the Lambs:"
   ]
  },
  {
   "cell_type": "code",
   "execution_count": 146,
   "metadata": {},
   "outputs": [
    {
     "data": {
      "text/html": [
       "<table class=\"simpletable\">\n",
       "<caption>Test for equality of means</caption>\n",
       "<tr>\n",
       "      <td></td>         <th>coef</th>     <th>std err</th>      <th>t</th>      <th>P>|t|</th>  <th>[0.025</th>    <th>0.975]</th>  \n",
       "</tr>\n",
       "<tr>\n",
       "  <th>subset #1</th> <td>   -0.2404</td> <td>    0.077</td> <td>   -3.132</td> <td> 0.002</td> <td>   -0.391</td> <td>   -0.090</td>\n",
       "</tr>\n",
       "</table>"
      ],
      "text/plain": [
       "<class 'statsmodels.iolib.table.SimpleTable'>"
      ]
     },
     "execution_count": 146,
     "metadata": {},
     "output_type": "execute_result"
    }
   ],
   "source": [
    "descr_1 = DescrStatsW(notas1.rating)\n",
    "descr_593 = DescrStatsW(notas593.rating)\n",
    "comparacao = descr_1.get_compare(descr_593)\n",
    "\n",
    "comparacao.summary()"
   ]
  },
  {
   "cell_type": "markdown",
   "metadata": {},
   "source": [
    "De acordo com nossos resultados, existe uma diferença estatisticamente válida entre esses conjuntos. Como reportaríamos essa diferença? Um exemplo:\n",
    "\n",
    "\"Aplicando o Teste Z com alpha = 0.05, encontramos uma diferença estatística válida entre os filmes Toy Story e Silence of the Lambs, com um p value igual a 0.02 e um intervalo de confiança entre -0.391 e -0.090\".\n",
    "\n",
    "<p style=\"color:red\">O Filme The Silence of The Lambs é razoavelmente melhor do que o Toy Story</P>"
   ]
  },
  {
   "cell_type": "code",
   "execution_count": 147,
   "metadata": {},
   "outputs": [
    {
     "data": {
      "text/html": [
       "<table class=\"simpletable\">\n",
       "<caption>Test for equality of means</caption>\n",
       "<tr>\n",
       "      <td></td>         <th>coef</th>     <th>std err</th>      <th>t</th>      <th>P>|t|</th>  <th>[0.025</th>    <th>0.975]</th>  \n",
       "</tr>\n",
       "<tr>\n",
       "  <th>subset #1</th> <td>   -0.0780</td> <td>    0.208</td> <td>   -0.374</td> <td> 0.708</td> <td>   -0.488</td> <td>    0.332</td>\n",
       "</tr>\n",
       "</table>"
      ],
      "text/plain": [
       "<class 'statsmodels.iolib.table.SimpleTable'>"
      ]
     },
     "execution_count": 147,
     "metadata": {},
     "output_type": "execute_result"
    }
   ],
   "source": [
    "descr_72226 = DescrStatsW(notas72226.rating)\n",
    "descr_593 = DescrStatsW(notas593.rating)\n",
    "comparacao = descr_72226.get_compare(descr_593)\n",
    "\n",
    "comparacao.summary()"
   ]
  },
  {
   "cell_type": "markdown",
   "metadata": {},
   "source": [
    "Dessa vez, nosso p value não indica uma diferença significante (pois não é menor do que 0.05), e o intervalo de confiança inclui tanto a chance do filme ser pior, quanto a chance dele ser melhor. Repetindo esse processo, vamos comparar os filmes Toy Story e Fantastic Mr. Fox:\n",
    "\n",
    "Neste caso, não serve para nada em nossa analise."
   ]
  },
  {
   "cell_type": "code",
   "execution_count": 148,
   "metadata": {},
   "outputs": [
    {
     "data": {
      "text/html": [
       "<table class=\"simpletable\">\n",
       "<caption>Test for equality of means</caption>\n",
       "<tr>\n",
       "      <td></td>         <th>coef</th>     <th>std err</th>      <th>t</th>      <th>P>|t|</th>  <th>[0.025</th>    <th>0.975]</th>  \n",
       "</tr>\n",
       "<tr>\n",
       "  <th>subset #1</th> <td>   -0.1624</td> <td>    0.206</td> <td>   -0.788</td> <td> 0.431</td> <td>   -0.568</td> <td>    0.243</td>\n",
       "</tr>\n",
       "</table>"
      ],
      "text/plain": [
       "<class 'statsmodels.iolib.table.SimpleTable'>"
      ]
     },
     "execution_count": 148,
     "metadata": {},
     "output_type": "execute_result"
    }
   ],
   "source": [
    "comparacao = descr_1.get_compare(descr_72226)\n",
    "\n",
    "comparacao.summary()"
   ]
  },
  {
   "cell_type": "markdown",
   "metadata": {},
   "source": [
    "Da mesma forma, não temos uma diferença significativa, e o intervalo também inclui aquelas duas possibilidades. \n",
    "\n",
    "Portanto, a única diferença que encontramos nos nossos dados foi entre os filmes Toy Story e Silence of the Lambs - na qual o último filme é melhor (talvez um pouco melhor, talvez razoavelmente melhor).\n",
    "\n",
    "### Quantas amostras eu tenho??"
   ]
  },
  {
   "cell_type": "code",
   "execution_count": 150,
   "metadata": {},
   "outputs": [
    {
     "data": {
      "text/html": [
       "<div>\n",
       "<style scoped>\n",
       "    .dataframe tbody tr th:only-of-type {\n",
       "        vertical-align: middle;\n",
       "    }\n",
       "\n",
       "    .dataframe tbody tr th {\n",
       "        vertical-align: top;\n",
       "    }\n",
       "\n",
       "    .dataframe thead th {\n",
       "        text-align: right;\n",
       "    }\n",
       "</style>\n",
       "<table border=\"1\" class=\"dataframe\">\n",
       "  <thead>\n",
       "    <tr style=\"text-align: right;\">\n",
       "      <th></th>\n",
       "      <th>userId</th>\n",
       "      <th>rating</th>\n",
       "      <th>timestamp</th>\n",
       "    </tr>\n",
       "    <tr>\n",
       "      <th>movieId</th>\n",
       "      <th></th>\n",
       "      <th></th>\n",
       "      <th></th>\n",
       "    </tr>\n",
       "  </thead>\n",
       "  <tbody>\n",
       "    <tr>\n",
       "      <th>1</th>\n",
       "      <td>215</td>\n",
       "      <td>215</td>\n",
       "      <td>215</td>\n",
       "    </tr>\n",
       "    <tr>\n",
       "      <th>593</th>\n",
       "      <td>279</td>\n",
       "      <td>279</td>\n",
       "      <td>279</td>\n",
       "    </tr>\n",
       "    <tr>\n",
       "      <th>72226</th>\n",
       "      <td>18</td>\n",
       "      <td>18</td>\n",
       "      <td>18</td>\n",
       "    </tr>\n",
       "  </tbody>\n",
       "</table>\n",
       "</div>"
      ],
      "text/plain": [
       "         userId  rating  timestamp\n",
       "movieId                           \n",
       "1           215     215        215\n",
       "593         279     279        279\n",
       "72226        18      18         18"
      ]
     },
     "execution_count": 150,
     "metadata": {},
     "output_type": "execute_result"
    }
   ],
   "source": [
    "notas.query(\"movieId in (1, 593, 72226)\").groupby(\"movieId\").count()"
   ]
  },
  {
   "cell_type": "markdown",
   "metadata": {},
   "source": [
    "- Note que o tamanho da amostra do filme 1 e 593 sao grandes, porem, o tamanho da amostra do filme 72226 é pequena, sendo neste caso melhor ter utilizado o T test.\n",
    "\n",
    "Rodar o teste sem a certeza de que poderíamos utilizá-lo acabou influenciando na nossa leitura. Portanto, devemos sempre explorar os nossos dados de forma a garantir que os testes sejam executados corretamente.\n",
    "\n",
    "### Sequencia de Análise\n",
    "\n",
    "- Primeiro olha se pode usar o Z-test\n",
    "- E ai sim, realizar as analises.\n"
   ]
  },
  {
   "cell_type": "code",
   "execution_count": 154,
   "metadata": {},
   "outputs": [
    {
     "data": {
      "text/html": [
       "<table class=\"simpletable\">\n",
       "<caption>Test for equality of means</caption>\n",
       "<tr>\n",
       "      <td></td>         <th>coef</th>     <th>std err</th>      <th>t</th>      <th>P>|t|</th>  <th>[0.025</th>    <th>0.975]</th>  \n",
       "</tr>\n",
       "<tr>\n",
       "  <th>subset #1</th> <td>   -0.0780</td> <td>    0.208</td> <td>   -0.374</td> <td> 0.708</td> <td>   -0.488</td> <td>    0.332</td>\n",
       "</tr>\n",
       "</table>"
      ],
      "text/plain": [
       "<class 'statsmodels.iolib.table.SimpleTable'>"
      ]
     },
     "execution_count": 154,
     "metadata": {},
     "output_type": "execute_result"
    }
   ],
   "source": [
    "descr_72226 = DescrStatsW(notas72226.rating)\n",
    "descr_593 = DescrStatsW(notas593.rating)\n",
    "comparacao = descr_72226.get_compare(descr_593)\n",
    "\n",
    "comparacao.summary(use_t = True)"
   ]
  },
  {
   "cell_type": "code",
   "execution_count": 155,
   "metadata": {},
   "outputs": [
    {
     "data": {
      "text/html": [
       "<table class=\"simpletable\">\n",
       "<caption>Test for equality of means</caption>\n",
       "<tr>\n",
       "      <td></td>         <th>coef</th>     <th>std err</th>      <th>t</th>      <th>P>|t|</th>  <th>[0.025</th>    <th>0.975]</th>  \n",
       "</tr>\n",
       "<tr>\n",
       "  <th>subset #1</th> <td>   -0.1624</td> <td>    0.206</td> <td>   -0.788</td> <td> 0.431</td> <td>   -0.568</td> <td>    0.243</td>\n",
       "</tr>\n",
       "</table>"
      ],
      "text/plain": [
       "<class 'statsmodels.iolib.table.SimpleTable'>"
      ]
     },
     "execution_count": 155,
     "metadata": {},
     "output_type": "execute_result"
    }
   ],
   "source": [
    "comparacao = descr_1.get_compare(descr_72226)\n",
    "\n",
    "comparacao.summary(use_t = True)"
   ]
  },
  {
   "cell_type": "markdown",
   "metadata": {},
   "source": [
    "## Comparação não paramétrica com Wilcoxon Ranksums\n",
    "\n",
    "Precisamos lembrar que o Z-test e o T-test assumem uma distribuição normal.\n",
    "\n",
    "Entretanto, a distribuição das médias do MovieLens e do TMDB 5000 não eram exatamente distribuições normais, já que ambas apresentam curvas mais populadas à esquerda.\n",
    "\n",
    "Como posso garantir que estes dados são originados de uma normal?\n",
    "\n",
    "https://docs.scipy.org/doc/scipy/reference/generated/scipy.stats.normaltest.html"
   ]
  },
  {
   "cell_type": "code",
   "execution_count": 161,
   "metadata": {},
   "outputs": [
    {
     "data": {
      "text/plain": [
       "0.00011053430732728716"
      ]
     },
     "execution_count": 161,
     "metadata": {},
     "output_type": "execute_result"
    }
   ],
   "source": [
    "from scipy.stats import normaltest\n",
    "stat, p = normaltest(notas1.rating)\n",
    "p"
   ]
  },
  {
   "cell_type": "markdown",
   "metadata": {},
   "source": [
    "Teremos um p value de 0.00011053430732728716 - ou seja, menor do que 0.05. Como essa função testa a hipótese nula de que o conjunto de dados venha de uma distribuição normal, um resultado menor que 0.05 indica que não estamos trabalhando com uma distribuição normal.\n",
    "\n",
    "Isso também significa que não poderíamos aplicar o Teste T ou o Teste Z, mas sim testes que funcionam com outros tipos de distribuição, neste caso, os testes não paramétricos.\n",
    "\n",
    "https://docs.scipy.org/doc/scipy/reference/generated/scipy.stats.ranksums.html\n",
    "\n",
    "Para compararmos os conjuntos que separamos anteriormente (por exemplo, notas1 e notas593), utilizaremos a função ranksums(), que também é encontrada no módulo scipy.stats. Essa função consiste no teste Wilcoxon, que faz uma análise baseada em ranqueamento."
   ]
  },
  {
   "cell_type": "code",
   "execution_count": 167,
   "metadata": {},
   "outputs": [
    {
     "data": {
      "text/plain": [
       "0.0003267718756440693"
      ]
     },
     "execution_count": 167,
     "metadata": {},
     "output_type": "execute_result"
    }
   ],
   "source": [
    "from scipy.stats import ranksums\n",
    "_, p = ranksums(notas1.rating, notas593.rating)\n",
    "p"
   ]
  },
  {
   "cell_type": "markdown",
   "metadata": {},
   "source": [
    "Nesse caso, o p value é significativo, descartando a hipótese nula. No ranksums(), a hipótese nula é de que as duas amostras vieram da mesma distribuição. Já a hipótese alternativa, que admitiremos nesse caso (já que o p value foi bem pequeno), é a de que os valores de uma amostra têm uma tendência a serem maiores que os da outra amostra.\n",
    "\n",
    "Repare que, quando trabalhamos com Teste T e Teste Z estávamos nos referindo às médias - o que fazia sentido em uma distribuição normal. Porém, em uma distribuição não paramétrica, não usamos as médias, mas sim amostras aleatórias de cada conjunto testado.\n",
    "\n",
    "Ou seja, se pegarmos notas aleatórias para Toy Story e Silence of the Lambs, as notas deste último, em geral, são maiores. Análises como essa, junto com as médias, os boxplots, os histogramas e outras informações que aprendemos a testar anteriormente, nos permitem concluir quando um filme é melhor que outro."
   ]
  },
  {
   "cell_type": "code",
   "execution_count": null,
   "metadata": {},
   "outputs": [],
   "source": []
  }
 ],
 "metadata": {
  "kernelspec": {
   "display_name": "Python 3",
   "language": "python",
   "name": "python3"
  },
  "language_info": {
   "codemirror_mode": {
    "name": "ipython",
    "version": 3
   },
   "file_extension": ".py",
   "mimetype": "text/x-python",
   "name": "python",
   "nbconvert_exporter": "python",
   "pygments_lexer": "ipython3",
   "version": "3.7.4"
  }
 },
 "nbformat": 4,
 "nbformat_minor": 2
}
