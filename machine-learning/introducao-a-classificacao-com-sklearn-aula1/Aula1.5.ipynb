{
 "cells": [
  {
   "cell_type": "code",
   "execution_count": 3,
   "metadata": {},
   "outputs": [
    {
     "data": {
      "text/html": [
       "<div>\n",
       "<style scoped>\n",
       "    .dataframe tbody tr th:only-of-type {\n",
       "        vertical-align: middle;\n",
       "    }\n",
       "\n",
       "    .dataframe tbody tr th {\n",
       "        vertical-align: top;\n",
       "    }\n",
       "\n",
       "    .dataframe thead th {\n",
       "        text-align: right;\n",
       "    }\n",
       "</style>\n",
       "<table border=\"1\" class=\"dataframe\">\n",
       "  <thead>\n",
       "    <tr style=\"text-align: right;\">\n",
       "      <th></th>\n",
       "      <th>home</th>\n",
       "      <th>how_it_works</th>\n",
       "      <th>contact</th>\n",
       "      <th>bought</th>\n",
       "    </tr>\n",
       "  </thead>\n",
       "  <tbody>\n",
       "    <tr>\n",
       "      <th>0</th>\n",
       "      <td>1</td>\n",
       "      <td>1</td>\n",
       "      <td>0</td>\n",
       "      <td>0</td>\n",
       "    </tr>\n",
       "    <tr>\n",
       "      <th>1</th>\n",
       "      <td>1</td>\n",
       "      <td>1</td>\n",
       "      <td>0</td>\n",
       "      <td>0</td>\n",
       "    </tr>\n",
       "    <tr>\n",
       "      <th>2</th>\n",
       "      <td>1</td>\n",
       "      <td>1</td>\n",
       "      <td>0</td>\n",
       "      <td>0</td>\n",
       "    </tr>\n",
       "    <tr>\n",
       "      <th>3</th>\n",
       "      <td>1</td>\n",
       "      <td>1</td>\n",
       "      <td>0</td>\n",
       "      <td>0</td>\n",
       "    </tr>\n",
       "    <tr>\n",
       "      <th>4</th>\n",
       "      <td>1</td>\n",
       "      <td>1</td>\n",
       "      <td>0</td>\n",
       "      <td>0</td>\n",
       "    </tr>\n",
       "    <tr>\n",
       "      <th>...</th>\n",
       "      <td>...</td>\n",
       "      <td>...</td>\n",
       "      <td>...</td>\n",
       "      <td>...</td>\n",
       "    </tr>\n",
       "    <tr>\n",
       "      <th>94</th>\n",
       "      <td>0</td>\n",
       "      <td>0</td>\n",
       "      <td>1</td>\n",
       "      <td>0</td>\n",
       "    </tr>\n",
       "    <tr>\n",
       "      <th>95</th>\n",
       "      <td>1</td>\n",
       "      <td>1</td>\n",
       "      <td>1</td>\n",
       "      <td>1</td>\n",
       "    </tr>\n",
       "    <tr>\n",
       "      <th>96</th>\n",
       "      <td>0</td>\n",
       "      <td>0</td>\n",
       "      <td>1</td>\n",
       "      <td>0</td>\n",
       "    </tr>\n",
       "    <tr>\n",
       "      <th>97</th>\n",
       "      <td>0</td>\n",
       "      <td>1</td>\n",
       "      <td>0</td>\n",
       "      <td>0</td>\n",
       "    </tr>\n",
       "    <tr>\n",
       "      <th>98</th>\n",
       "      <td>0</td>\n",
       "      <td>0</td>\n",
       "      <td>0</td>\n",
       "      <td>0</td>\n",
       "    </tr>\n",
       "  </tbody>\n",
       "</table>\n",
       "<p>99 rows × 4 columns</p>\n",
       "</div>"
      ],
      "text/plain": [
       "    home  how_it_works  contact  bought\n",
       "0      1             1        0       0\n",
       "1      1             1        0       0\n",
       "2      1             1        0       0\n",
       "3      1             1        0       0\n",
       "4      1             1        0       0\n",
       "..   ...           ...      ...     ...\n",
       "94     0             0        1       0\n",
       "95     1             1        1       1\n",
       "96     0             0        1       0\n",
       "97     0             1        0       0\n",
       "98     0             0        0       0\n",
       "\n",
       "[99 rows x 4 columns]"
      ]
     },
     "execution_count": 3,
     "metadata": {},
     "output_type": "execute_result"
    }
   ],
   "source": [
    "import pandas as pd\n",
    "\n",
    "url = 'https://gist.githubusercontent.com/guilhermesilveira/2d2efa37d66b6c84a722ea627a897ced/raw/10968b997d885cbded1c92938c7a9912ba41c615/tracking.csv'\n",
    "dados = pd.read_csv(url)\n",
    "dados"
   ]
  },
  {
   "cell_type": "code",
   "execution_count": 6,
   "metadata": {},
   "outputs": [],
   "source": [
    "#features\n",
    "x = dados[['home', 'how_it_works', 'contact']]\n",
    "#\n",
    "y = dados[['bought']]"
   ]
  },
  {
   "cell_type": "markdown",
   "metadata": {},
   "source": [
    "## separando treino e teste\n"
   ]
  },
  {
   "cell_type": "code",
   "execution_count": 9,
   "metadata": {},
   "outputs": [
    {
     "data": {
      "text/plain": [
       "(99, 4)"
      ]
     },
     "execution_count": 9,
     "metadata": {},
     "output_type": "execute_result"
    }
   ],
   "source": [
    "dados.shape"
   ]
  },
  {
   "cell_type": "code",
   "execution_count": 11,
   "metadata": {},
   "outputs": [
    {
     "name": "stdout",
     "output_type": "stream",
     "text": [
      "Treinaremos com 75 e testaremos com 24 elementos\n"
     ]
    }
   ],
   "source": [
    "# pegando aproximadamente 75% da base para treino e 25% para teste\n",
    "treino_x = x[:75]\n",
    "treino_y = y[:75]\n",
    "\n",
    "teste_x = x[75:]\n",
    "teste_y = y[75:]\n",
    "\n",
    "print(f'Treinaremos com {len(treino_x)} e testaremos com {len(teste_x)} elementos')"
   ]
  },
  {
   "cell_type": "markdown",
   "metadata": {},
   "source": [
    "## Modelo"
   ]
  },
  {
   "cell_type": "code",
   "execution_count": 13,
   "metadata": {},
   "outputs": [
    {
     "name": "stderr",
     "output_type": "stream",
     "text": [
      "C:\\Users\\fabiokfouri\\Anaconda3\\lib\\site-packages\\sklearn\\utils\\validation.py:72: DataConversionWarning: A column-vector y was passed when a 1d array was expected. Please change the shape of y to (n_samples, ), for example using ravel().\n",
      "  return f(**kwargs)\n"
     ]
    },
    {
     "data": {
      "text/plain": [
       "LinearSVC()"
      ]
     },
     "execution_count": 13,
     "metadata": {},
     "output_type": "execute_result"
    }
   ],
   "source": [
    "from sklearn.svm import LinearSVC\n",
    "\n",
    "modelo = LinearSVC()\n",
    "modelo.fit(X = treino_x, y=treino_y)"
   ]
  },
  {
   "cell_type": "code",
   "execution_count": 15,
   "metadata": {},
   "outputs": [
    {
     "data": {
      "text/plain": [
       "array([0, 0, 0, 0, 0, 0, 0, 0, 1, 1, 0, 0, 0, 0, 1, 1, 0, 0, 0, 0, 1, 0,\n",
       "       0, 0], dtype=int64)"
      ]
     },
     "execution_count": 15,
     "metadata": {},
     "output_type": "execute_result"
    }
   ],
   "source": [
    "previsoes = modelo.predict(teste_x)\n",
    "previsoes"
   ]
  },
  {
   "cell_type": "code",
   "execution_count": 24,
   "metadata": {},
   "outputs": [
    {
     "name": "stdout",
     "output_type": "stream",
     "text": [
      "A acuracia foi 95.83%\n"
     ]
    }
   ],
   "source": [
    "from sklearn.metrics import accuracy_score\n",
    "\n",
    "acuracia = accuracy_score(y_true = teste_y, y_pred = previsoes)\n",
    "print(f'A acuracia foi {acuracia * 100:.2f}%')"
   ]
  },
  {
   "cell_type": "markdown",
   "metadata": {},
   "source": [
    "## Separando TReino e Teste usando sklearn"
   ]
  },
  {
   "cell_type": "code",
   "execution_count": 25,
   "metadata": {},
   "outputs": [],
   "source": [
    "from sklearn.model_selection import train_test_split"
   ]
  },
  {
   "cell_type": "code",
   "execution_count": 41,
   "metadata": {},
   "outputs": [
    {
     "name": "stdout",
     "output_type": "stream",
     "text": [
      "Treinaremos com 74 e testaremos com 25 elementos\n",
      "A acuracia foi 100.00%\n"
     ]
    },
    {
     "name": "stderr",
     "output_type": "stream",
     "text": [
      "C:\\Users\\fabiokfouri\\Anaconda3\\lib\\site-packages\\sklearn\\utils\\validation.py:72: DataConversionWarning: A column-vector y was passed when a 1d array was expected. Please change the shape of y to (n_samples, ), for example using ravel().\n",
      "  return f(**kwargs)\n"
     ]
    }
   ],
   "source": [
    "train_x, test_x, train_y, test_y = train_test_split(x, y, test_size = .25)\n",
    "print(f'Treinaremos com {len(train_x)} e testaremos com {len(test_x)} elementos')\n",
    "\n",
    "modelo = LinearSVC()\n",
    "modelo.fit(X = train_x, y=train_y)\n",
    "predicts = modelo.predict(test_x)\n",
    "predicts\n",
    "acuracia = accuracy_score(y_true = test_y, y_pred = predicts)\n",
    "print(f'A acuracia foi {acuracia * 100:.2f}%')"
   ]
  },
  {
   "cell_type": "markdown",
   "metadata": {},
   "source": [
    "Identificado que a aleatoridade da escolha do split... pode gerar acuracias diferentes\n",
    "![](data:image/png;base64,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)"
   ]
  },
  {
   "cell_type": "markdown",
   "metadata": {},
   "source": [
    "## Definindo uma SEED (Semente)"
   ]
  },
  {
   "cell_type": "code",
   "execution_count": 44,
   "metadata": {},
   "outputs": [
    {
     "name": "stdout",
     "output_type": "stream",
     "text": [
      "Treinaremos com 74 e testaremos com 25 elementos\n",
      "A acuracia foi 96.00%\n"
     ]
    },
    {
     "name": "stderr",
     "output_type": "stream",
     "text": [
      "C:\\Users\\fabiokfouri\\Anaconda3\\lib\\site-packages\\sklearn\\utils\\validation.py:72: DataConversionWarning: A column-vector y was passed when a 1d array was expected. Please change the shape of y to (n_samples, ), for example using ravel().\n",
      "  return f(**kwargs)\n"
     ]
    }
   ],
   "source": [
    "train_x, test_x, train_y, test_y = train_test_split(x, y, test_size = .25, random_state=20)\n",
    "print(f'Treinaremos com {len(train_x)} e testaremos com {len(test_x)} elementos')\n",
    "\n",
    "modelo = LinearSVC()\n",
    "modelo.fit(X = train_x, y=train_y)\n",
    "predicts = modelo.predict(test_x)\n",
    "predicts\n",
    "acuracia = accuracy_score(y_true = test_y, y_pred = predicts)\n",
    "print(f'A acuracia foi {acuracia * 100:.2f}%')"
   ]
  },
  {
   "cell_type": "markdown",
   "metadata": {},
   "source": [
    "## Observação\n",
    "\n",
    "A separação do treino e teste não esta proporcinal. Note que a base de treino contem uma relação diferente da base de teste. Esta **DESBALANCEADA**."
   ]
  },
  {
   "cell_type": "code",
   "execution_count": 60,
   "metadata": {},
   "outputs": [
    {
     "name": "stdout",
     "output_type": "stream",
     "text": [
      "bought\n",
      "0         47\n",
      "1         27\n",
      "dtype: int64\n",
      "Não compraram:47 / Compraram:27 | Proporção de 36.49%\n"
     ]
    }
   ],
   "source": [
    "print(train_y.value_counts())\n",
    "bought = train_y.value_counts()[1]\n",
    "not_bought = train_y.value_counts()[0]\n",
    "print(f'Não compraram:{not_bought} / Compraram:{bought} | Proporção de {bought/(not_bought + bought)*100:.2f}%')\n"
   ]
  },
  {
   "cell_type": "code",
   "execution_count": 61,
   "metadata": {},
   "outputs": [
    {
     "name": "stdout",
     "output_type": "stream",
     "text": [
      "Não compraram:19 / Compraram:6 | Proporção de 24.00%\n"
     ]
    }
   ],
   "source": [
    "test_y.value_counts()\n",
    "bought = test_y.value_counts()[1]\n",
    "not_bought = test_y.value_counts()[0]\n",
    "print(f'Não compraram:{not_bought} / Compraram:{bought} | Proporção de {bought/(not_bought + bought)*100:.2f}%')"
   ]
  },
  {
   "cell_type": "markdown",
   "metadata": {},
   "source": [
    "## Balanceamento / Estratificar\n",
    "Melhorou a proporção das amostras"
   ]
  },
  {
   "cell_type": "code",
   "execution_count": 65,
   "metadata": {},
   "outputs": [
    {
     "name": "stdout",
     "output_type": "stream",
     "text": [
      "Treinaremos com 74 e testaremos com 25 elementos\n",
      "A acuracia foi 96.00%\n"
     ]
    },
    {
     "name": "stderr",
     "output_type": "stream",
     "text": [
      "C:\\Users\\fabiokfouri\\Anaconda3\\lib\\site-packages\\sklearn\\utils\\validation.py:72: DataConversionWarning: A column-vector y was passed when a 1d array was expected. Please change the shape of y to (n_samples, ), for example using ravel().\n",
      "  return f(**kwargs)\n"
     ]
    }
   ],
   "source": [
    "train_x, test_x, train_y, test_y = train_test_split(x, y, test_size = .25, random_state=20, stratify=y)\n",
    "print(f'Treinaremos com {len(train_x)} e testaremos com {len(test_x)} elementos')\n",
    "\n",
    "modelo = LinearSVC()\n",
    "modelo.fit(X = train_x, y=train_y)\n",
    "predicts = modelo.predict(test_x)\n",
    "predicts\n",
    "acuracia = accuracy_score(y_true = test_y, y_pred = predicts)\n",
    "print(f'A acuracia foi {acuracia * 100:.2f}%')"
   ]
  },
  {
   "cell_type": "code",
   "execution_count": 66,
   "metadata": {},
   "outputs": [
    {
     "name": "stdout",
     "output_type": "stream",
     "text": [
      "bought\n",
      "0         49\n",
      "1         25\n",
      "dtype: int64\n",
      "Não compraram:49 / Compraram:25 | Proporção de 33.78%\n"
     ]
    }
   ],
   "source": [
    "print(train_y.value_counts())\n",
    "bought = train_y.value_counts()[1]\n",
    "not_bought = train_y.value_counts()[0]\n",
    "print(f'Não compraram:{not_bought} / Compraram:{bought} | Proporção de {bought/(not_bought + bought)*100:.2f}%')"
   ]
  },
  {
   "cell_type": "code",
   "execution_count": 67,
   "metadata": {},
   "outputs": [
    {
     "name": "stdout",
     "output_type": "stream",
     "text": [
      "Não compraram:17 / Compraram:8 | Proporção de 32.00%\n"
     ]
    }
   ],
   "source": [
    "test_y.value_counts()\n",
    "bought = test_y.value_counts()[1]\n",
    "not_bought = test_y.value_counts()[0]\n",
    "print(f'Não compraram:{not_bought} / Compraram:{bought} | Proporção de {bought/(not_bought + bought)*100:.2f}%')"
   ]
  },
  {
   "cell_type": "code",
   "execution_count": null,
   "metadata": {},
   "outputs": [],
   "source": []
  }
 ],
 "metadata": {
  "kernelspec": {
   "display_name": "Python 3",
   "language": "python",
   "name": "python3"
  },
  "language_info": {
   "codemirror_mode": {
    "name": "ipython",
    "version": 3
   },
   "file_extension": ".py",
   "mimetype": "text/x-python",
   "name": "python",
   "nbconvert_exporter": "python",
   "pygments_lexer": "ipython3",
   "version": "3.8.5"
  },
  "toc": {
   "base_numbering": 1,
   "nav_menu": {},
   "number_sections": true,
   "sideBar": true,
   "skip_h1_title": false,
   "title_cell": "Table of Contents",
   "title_sidebar": "Contents",
   "toc_cell": false,
   "toc_position": {},
   "toc_section_display": true,
   "toc_window_display": false
  }
 },
 "nbformat": 4,
 "nbformat_minor": 4
}
