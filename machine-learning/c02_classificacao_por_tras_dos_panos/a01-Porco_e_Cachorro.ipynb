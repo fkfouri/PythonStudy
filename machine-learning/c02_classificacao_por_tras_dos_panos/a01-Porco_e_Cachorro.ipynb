{
 "cells": [
  {
   "cell_type": "code",
   "execution_count": 1,
   "metadata": {
    "colab": {},
    "colab_type": "code",
    "id": "iN35zFmNyYIc"
   },
   "outputs": [],
   "source": [
    "# features (1 sim, 0 não)\n",
    "# pelo longo?\n",
    "# perna curta?\n",
    "# faz auau?\n",
    "porco1 = [0, 1, 0]\n",
    "porco2 = [0, 1, 1]\n",
    "porco3 = [1, 1, 0]\n",
    "\n",
    "cachorro1 = [0, 1, 1]\n",
    "cachorro2 = [1, 0, 1]\n",
    "cachorro3 = [1, 1, 1]\n",
    "\n",
    "# 1 => porco, 0 => cachorro\n",
    "dados = [porco1, porco2, porco3, cachorro1, cachorro2, cachorro3]\n",
    "classes = [1,1,1,0,0,0]"
   ]
  },
  {
   "cell_type": "code",
   "execution_count": 2,
   "metadata": {
    "colab": {},
    "colab_type": "code",
    "id": "yJEFM8mx0jtR"
   },
   "outputs": [],
   "source": [
    "misterio1 = [1,1,1]\n",
    "misterio2 = [1,1,0]\n",
    "misterio3 = [0,1,1]\n",
    "\n",
    "testes = [misterio1, misterio2, misterio3]\n",
    "valores_corretos = [0, 1, 1]"
   ]
  },
  {
   "cell_type": "markdown",
   "metadata": {},
   "source": [
    "# LinearSVC"
   ]
  },
  {
   "cell_type": "code",
   "execution_count": 3,
   "metadata": {},
   "outputs": [
    {
     "name": "stdout",
     "output_type": "stream",
     "text": [
      "Wall time: 1e+03 µs\n",
      "Previsoes: [0 1 0]\n",
      "Taxa de acerto: 66.67%\n"
     ]
    }
   ],
   "source": [
    "from sklearn.svm import LinearSVC\n",
    "from sklearn.metrics import accuracy_score\n",
    "\n",
    "modelo = LinearSVC()\n",
    "%time modelo.fit(dados, classes)\n",
    "previsoes = modelo.predict(testes)\n",
    "print(f'Previsoes: {previsoes}')\n",
    "\n",
    "taxa_de_acerto = accuracy_score(valores_corretos, previsoes)\n",
    "print(f\"Taxa de acerto: {taxa_de_acerto * 100:.2f}%\" )"
   ]
  },
  {
   "cell_type": "markdown",
   "metadata": {
    "colab": {},
    "colab_type": "code",
    "id": "Z9wOaemi2fzE"
   },
   "source": [
    "# Naive_Bayes MultiNomialNB\n"
   ]
  },
  {
   "cell_type": "code",
   "execution_count": 4,
   "metadata": {},
   "outputs": [
    {
     "name": "stdout",
     "output_type": "stream",
     "text": [
      "Wall time: 1.09 ms\n",
      "Previsoes: [0 1 1]\n",
      "Taxa de acerto: 100.00%\n"
     ]
    }
   ],
   "source": [
    "from sklearn.naive_bayes import MultinomialNB\n",
    "from sklearn.metrics import accuracy_score\n",
    "\n",
    "modelo = MultinomialNB()\n",
    "%time modelo.fit(dados, classes)\n",
    "previsoes = modelo.predict(testes)\n",
    "print(f'Previsoes: {previsoes}')\n",
    "\n",
    "taxa_de_acerto = accuracy_score(valores_corretos, previsoes)\n",
    "print(f\"Taxa de acerto: {taxa_de_acerto * 100:.2f}%\" )"
   ]
  },
  {
   "cell_type": "code",
   "execution_count": null,
   "metadata": {},
   "outputs": [],
   "source": []
  }
 ],
 "metadata": {
  "colab": {
   "name": "Introdução a Machine Learning e Classificação - 1.ipynb",
   "provenance": [],
   "version": "0.3.2"
  },
  "kernelspec": {
   "display_name": "Python 3",
   "language": "python",
   "name": "python3"
  },
  "language_info": {
   "codemirror_mode": {
    "name": "ipython",
    "version": 3
   },
   "file_extension": ".py",
   "mimetype": "text/x-python",
   "name": "python",
   "nbconvert_exporter": "python",
   "pygments_lexer": "ipython3",
   "version": "3.8.5"
  },
  "toc": {
   "base_numbering": 1,
   "nav_menu": {},
   "number_sections": true,
   "sideBar": true,
   "skip_h1_title": false,
   "title_cell": "Table of Contents",
   "title_sidebar": "Contents",
   "toc_cell": false,
   "toc_position": {},
   "toc_section_display": true,
   "toc_window_display": false
  }
 },
 "nbformat": 4,
 "nbformat_minor": 1
}
